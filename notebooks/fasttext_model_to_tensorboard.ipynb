{
 "cells": [
  {
   "cell_type": "markdown",
   "metadata": {},
   "source": [
    "# FastText model to TensorBoard"
   ]
  },
  {
   "cell_type": "markdown",
   "metadata": {},
   "source": [
    "Install dependencies"
   ]
  },
  {
   "cell_type": "code",
   "execution_count": null,
   "metadata": {},
   "outputs": [],
   "source": [
    "import sys\n",
    "import re\n",
    "sys.path.append(\"./../\")"
   ]
  },
  {
   "cell_type": "code",
   "execution_count": null,
   "metadata": {},
   "outputs": [],
   "source": [
    "pip install fasttext"
   ]
  },
  {
   "cell_type": "markdown",
   "metadata": {},
   "source": [
    "Set variables"
   ]
  },
  {
   "cell_type": "code",
   "execution_count": null,
   "metadata": {},
   "outputs": [],
   "source": [
    "output_model_file = \"/home/jovyan/work/resources/data_ignored/fasttext_rad.bin\""
   ]
  },
  {
   "cell_type": "code",
   "execution_count": null,
   "metadata": {},
   "outputs": [],
   "source": [
    "pip install -q tensorflow"
   ]
  },
  {
   "cell_type": "code",
   "execution_count": null,
   "metadata": {},
   "outputs": [],
   "source": [
    "# import statements\n",
    "# from pathlib import PurePath\n",
    "import os\n",
    "\n",
    "import fasttext\n",
    "import numpy as np\n",
    "import tensorflow as tf\n",
    "from tensorflow.python.framework import ops\n",
    "\n",
    "from tensorboard.plugins import projector\n",
    "from tensorboard.plugins.projector import ProjectorConfig"
   ]
  },
  {
   "cell_type": "code",
   "execution_count": null,
   "metadata": {
    "pycharm": {
     "name": "#%%\n"
    }
   },
   "outputs": [],
   "source": [
    "# load pre-trained fasttext model\n",
    "model = fasttext.load_model(output_model_file)"
   ]
  },
  {
   "cell_type": "code",
   "execution_count": null,
   "metadata": {
    "pycharm": {
     "name": "#%%\n"
    }
   },
   "outputs": [],
   "source": [
    "for i, w in enumerate(model.get_words()):\n",
    "    print(w)\n",
    "    if i > 4:\n",
    "        break"
   ]
  },
  {
   "cell_type": "code",
   "execution_count": null,
   "metadata": {
    "pycharm": {
     "name": "#%%\n"
    }
   },
   "outputs": [],
   "source": [
    "#hide_output\n",
    "# number of words in the dataset\n",
    "VOCAB_SIZE = len(model.get_words())\n",
    "\n",
    "# size of the dimension of each word vector\n",
    "EMBEDDING_DIM = len(model.get_word_vector(w))\n",
    "\n",
    "# 2D numpy array initialised to store words with their vector representation\n",
    "embed = np.zeros((VOCAB_SIZE, EMBEDDING_DIM))\n",
    "embed.shape"
   ]
  },
  {
   "cell_type": "code",
   "execution_count": null,
   "metadata": {},
   "outputs": [],
   "source": [
    "# store the vector representation of each word in the 2D numpy array\n",
    "for i, word in enumerate(model.get_words()):\n",
    "    embed[i] = model.get_word_vector(word)\n",
    "embed"
   ]
  },
  {
   "cell_type": "code",
   "execution_count": null,
   "metadata": {
    "pycharm": {
     "name": "#%%\n"
    }
   },
   "outputs": [],
   "source": [
    "# path to store the words\n",
    "tsv_file_path = \"tensorboard/metadata.tsv\"\n",
    "os.makedirs(\"tensorboard\", exist_ok=True)"
   ]
  },
  {
   "cell_type": "code",
   "execution_count": null,
   "metadata": {},
   "outputs": [],
   "source": [
    "#hide output\n",
    "with open(tsv_file_path, \"w+\", encoding=\"utf-8\") as f:\n",
    "    for i, word in enumerate(model.get_words()):\n",
    "        f.write(word + \"\\n\")  # write the words to an external file\n",
    "embed.shape"
   ]
  },
  {
   "cell_type": "code",
   "execution_count": null,
   "metadata": {
    "pycharm": {
     "name": "#%%\n"
    }
   },
   "outputs": [],
   "source": [
    "ops.reset_default_graph()  # clearing the default graph stack\n",
    "\n",
    "\n",
    "def register_embedding(\n",
    "    embedding_tensor_name: str, meta_data_fname: str, log_dir: str,\n",
    ") -> None:\n",
    "\n",
    "    \"\"\"\n",
    "    Configuring the projector to be read by the tensorboard.\n",
    "    \n",
    "    Args:\n",
    "    embedding_tensor_name(str): embeddings file name\n",
    "    meta_data_fname(str): metadata file name\n",
    "    log_dir(str): folder where tensorboard files and the metadata file are saved\n",
    "    \n",
    "    Returns:\n",
    "    None    \n",
    "    \n",
    "    \"\"\"\n",
    "    config = projector.ProjectorConfig()\n",
    "    embedding = config.embeddings.add()\n",
    "    embedding.tensor_name = embedding_tensor_name\n",
    "    embedding.metadata_path = meta_data_fname\n",
    "    projector.visualize_embeddings(\n",
    "        log_dir, config\n",
    "    )  # storing the configuration files of projector where tensorboard files are saved"
   ]
  },
  {
   "cell_type": "code",
   "execution_count": null,
   "metadata": {
    "pycharm": {
     "name": "#%%\n"
    }
   },
   "outputs": [],
   "source": [
    "def save_labels_tsv(labels: list, filepath: str, log_dir: str,) -> None:\n",
    "\n",
    "    \"\"\"\n",
    "    Storing the vocabulary of words in the dataset to a file\n",
    "    \n",
    "    Args:\n",
    "    labels: vocabulary i.e. words in the dataset\n",
    "    filepath: metadata file name\n",
    "    log_dir: \"folder where tensorboard files and projector files are saved\n",
    "    \n",
    "    Returns:\n",
    "    None  \n",
    "    \n",
    "    \"\"\"\n",
    "\n",
    "    with open(os.path.join(log_dir, filepath), \"w\") as f:\n",
    "        for label in labels:\n",
    "            f.write(\"{}\\n\".format(label))"
   ]
  },
  {
   "cell_type": "code",
   "execution_count": null,
   "metadata": {
    "pycharm": {
     "name": "#%%\n"
    }
   },
   "outputs": [],
   "source": [
    "# folder which will contain all the tensorboard log files\n",
    "LOG_DIR = '/home/jovyan/work/resources/data_ignored/tb2files'\n",
    "os.makedirs(LOG_DIR, exist_ok=True)\n",
    "\n",
    "# Labels i.e. the words in the dataset will be stored in this file\n",
    "META_DATA_FNAME = \"meta.tsv\"\n",
    "\n",
    "# name of the file which will have the embeddings stored\n",
    "EMBEDDINGS_TENSOR_NAME = \"embeddings\"\n",
    "\n",
    "# path for checkpoint of the saved embeddings\n",
    "EMBEDDINGS_FPATH = os.path.join(LOG_DIR, EMBEDDINGS_TENSOR_NAME + \".ckpt\")\n",
    "STEP = 0\n",
    "\n",
    "\n",
    "x = embed  # array containing the embeddings\n",
    "y = model.get_words()  # list containing the vocabulary\n",
    "register_embedding(EMBEDDINGS_TENSOR_NAME, META_DATA_FNAME, LOG_DIR)\n",
    "save_labels_tsv(y, META_DATA_FNAME, LOG_DIR)"
   ]
  },
  {
   "cell_type": "code",
   "execution_count": null,
   "metadata": {
    "pycharm": {
     "name": "#%%\n"
    }
   },
   "outputs": [],
   "source": [
    "tensor_embeddings = tf.Variable(\n",
    "    x, name=EMBEDDINGS_TENSOR_NAME\n",
    ")  # creation of the tensorflow variable, x: array which contains the embeddings,\n",
    "# name: name of the file which will have the embeddings stored"
   ]
  },
  {
   "cell_type": "code",
   "execution_count": null,
   "metadata": {
    "pycharm": {
     "name": "#%%\n"
    }
   },
   "outputs": [],
   "source": [
    "#hide_output\n",
    "\n",
    "saver = tf.compat.v1.train.Saver(\n",
    "    [tensor_embeddings]\n",
    ")  # Tensorflow variable passed as argument for saver object to be initialised\n",
    "saver.save(\n",
    "    sess=None, global_step=STEP, save_path=EMBEDDINGS_FPATH\n",
    ")  # saving the checkpoint for the embedding files"
   ]
  },
  {
   "cell_type": "code",
   "execution_count": null,
   "metadata": {},
   "outputs": [],
   "source": [
    "pip install tensorboard"
   ]
  },
  {
   "cell_type": "code",
   "execution_count": null,
   "metadata": {
    "pycharm": {
     "name": "#%%\n"
    }
   },
   "outputs": [],
   "source": [
    "%load_ext tensorboard\n",
    "%tensorboard --logdir {LOG_DIR} --host 0.0.0.0 --port 6006"
   ]
  },
  {
   "cell_type": "code",
   "execution_count": null,
   "metadata": {
    "pycharm": {
     "name": "#%%\n"
    }
   },
   "outputs": [],
   "source": [
    "# !kill 123"
   ]
  }
 ],
 "metadata": {
  "kernelspec": {
   "display_name": "Python 3",
   "language": "python",
   "name": "python3"
  },
  "language_info": {
   "codemirror_mode": {
    "name": "ipython",
    "version": 3
   },
   "file_extension": ".py",
   "mimetype": "text/x-python",
   "name": "python",
   "nbconvert_exporter": "python",
   "pygments_lexer": "ipython3",
   "version": "3.7.6"
  }
 },
 "nbformat": 4,
 "nbformat_minor": 4
}
