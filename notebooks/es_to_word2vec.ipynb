{
 "cells": [
  {
   "cell_type": "markdown",
   "metadata": {},
   "source": [
    "# Create word2vec from elasticsearch index using fasttext"
   ]
  },
  {
   "cell_type": "markdown",
   "metadata": {},
   "source": [
    "Install dependencies"
   ]
  },
  {
   "cell_type": "code",
   "execution_count": null,
   "metadata": {},
   "outputs": [],
   "source": [
    "import sys\n",
    "sys.path.append(\"./../\")"
   ]
  },
  {
   "cell_type": "code",
   "execution_count": null,
   "metadata": {},
   "outputs": [],
   "source": [
    "pip install fasttext"
   ]
  },
  {
   "cell_type": "markdown",
   "metadata": {},
   "source": [
    "Set variables"
   ]
  },
  {
   "cell_type": "code",
   "execution_count": null,
   "metadata": {},
   "outputs": [],
   "source": [
    "es_host = \"doccano-dataset-tools-es01\"\n",
    "es_index = \"free-text-reports\"\n",
    "field = \"text\"\n",
    "output_txt_file = '/home/jovyan/work/resources/data_ignored/data.txt'\n",
    "output_model_file = \"fasttext_rad.bin\""
   ]
  },
  {
   "cell_type": "markdown",
   "metadata": {},
   "source": [
    "Create .txt file of all documents in index"
   ]
  },
  {
   "cell_type": "code",
   "execution_count": null,
   "metadata": {},
   "outputs": [],
   "source": [
    "from nlp_datau.index_to_txt import IndexToTxt\n",
    "to_txt = IndexToTxt(es_host=es_host, es_index=es_index)\n",
    "to_txt.write_index(output_txt_file, field)"
   ]
  },
  {
   "cell_type": "markdown",
   "metadata": {},
   "source": [
    "Run fasttext"
   ]
  },
  {
   "cell_type": "code",
   "execution_count": null,
   "metadata": {},
   "outputs": [],
   "source": [
    "import fasttext\n",
    "\n",
    "model = fasttext.train_unsupervised(output_txt_file, model='skipgram')\n",
    "\n",
    "print(model.words)   # list of words in dictionary\n",
    "print(model['atelectase']) # get the vector of the word 'king'\n",
    "\n",
    "model.save_model(output_model_file)\n"
   ]
  },
  {
   "cell_type": "code",
   "execution_count": null,
   "metadata": {},
   "outputs": [],
   "source": [
    "import fasttext\n",
    "\n",
    "\n",
    "from fasttext import load_model\n",
    "\n",
    "# original BIN model loading\n",
    "f = fasttext.load_model(output_model_file)\n",
    "model = fasttext.load_model(output_model_file)\n",
    "print(model.get_nearest_neighbors('atelectase'))\n",
    "\n",
    "\n",
    "\n",
    "# lines=[]\n",
    "\n",
    "# # get all words from model\n",
    "# words = f.get_words()\n",
    "\n",
    "# with open(output_model_file.vec,'w') as file_out:\n",
    "    \n",
    "#     # the first line must contain number of total words and vector dimension\n",
    "#     file_out.write(str(len(words)) + \" \" + str(f.get_dimension()) + \"\\n\")\n",
    "\n",
    "#     # line by line, you append vectors to VEC file\n",
    "#     for w in words:\n",
    "#         v = f.get_word_vector(w)\n",
    "#         vstr = \"\"\n",
    "#         for vi in v:\n",
    "#             vstr += \" \" + str(vi)\n",
    "#         try:\n",
    "#             file_out.write(w + vstr+'\\n')\n",
    "#         except:\n",
    "#             pass"
   ]
  },
  {
   "cell_type": "code",
   "execution_count": null,
   "metadata": {},
   "outputs": [],
   "source": [
    "pip install gensim"
   ]
  },
  {
   "cell_type": "code",
   "execution_count": null,
   "metadata": {},
   "outputs": [],
   "source": [
    "from gensim.models.fasttext import load_facebook_model\n",
    "\n",
    "wv = load_facebook_model(output_model_file)"
   ]
  },
  {
   "cell_type": "code",
   "execution_count": null,
   "metadata": {},
   "outputs": [],
   "source": []
  }
 ],
 "metadata": {
  "kernelspec": {
   "display_name": "Python 3",
   "language": "python",
   "name": "python3"
  },
  "language_info": {
   "codemirror_mode": {
    "name": "ipython",
    "version": 3
   },
   "file_extension": ".py",
   "mimetype": "text/x-python",
   "name": "python",
   "nbconvert_exporter": "python",
   "pygments_lexer": "ipython3",
   "version": "3.7.6"
  }
 },
 "nbformat": 4,
 "nbformat_minor": 4
}
