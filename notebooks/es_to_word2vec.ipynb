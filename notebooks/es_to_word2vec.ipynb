{
 "cells": [
  {
   "cell_type": "markdown",
   "metadata": {},
   "source": [
    "# Create word2vec from elasticsearch index using fasttext"
   ]
  },
  {
   "cell_type": "markdown",
   "metadata": {},
   "source": [
    "Install dependencies"
   ]
  },
  {
   "cell_type": "code",
   "execution_count": null,
   "metadata": {},
   "outputs": [],
   "source": [
    "import sys\n",
    "import re\n",
    "sys.path.append(\"./../\")"
   ]
  },
  {
   "cell_type": "code",
   "execution_count": null,
   "metadata": {},
   "outputs": [],
   "source": [
    "pip install fasttext"
   ]
  },
  {
   "cell_type": "markdown",
   "metadata": {},
   "source": [
    "Set variables"
   ]
  },
  {
   "cell_type": "code",
   "execution_count": null,
   "metadata": {},
   "outputs": [],
   "source": [
    "es_host = \"doccano-dataset-tools-es01\"\n",
    "es_index = \"free-text-reports\"\n",
    "field = \"text\"\n",
    "output_txt_file = '/home/jovyan/work/resources/data_ignored/data.txt'\n",
    "output_model_file = \"fasttext_rad.bin\"\n",
    "output_vec_file = \"fasttext_rad.vec\""
   ]
  },
  {
   "cell_type": "markdown",
   "metadata": {},
   "source": [
    "Create .txt file of all documents in index"
   ]
  },
  {
   "cell_type": "code",
   "execution_count": null,
   "metadata": {},
   "outputs": [],
   "source": [
    "from nlp_datau.index_to_txt import IndexToTxt\n",
    "to_txt = IndexToTxt(es_host=es_host, es_index=es_index)\n",
    "to_txt.write_index(output_txt_file, field)"
   ]
  },
  {
   "cell_type": "markdown",
   "metadata": {},
   "source": [
    "clean text"
   ]
  },
  {
   "cell_type": "code",
   "execution_count": null,
   "metadata": {},
   "outputs": [],
   "source": [
    "import spacy\n",
    "\n",
    "nlp = spacy.load(\"nl_core_news_sm\")"
   ]
  },
  {
   "cell_type": "code",
   "execution_count": null,
   "metadata": {
    "scrolled": true
   },
   "outputs": [],
   "source": [
    "from string import punctuation\n",
    "\n",
    "\n",
    "def replace_punct(string):\n",
    "    if string is None: \n",
    "        return ''\n",
    "    for ch in ['&','#', '?', '!', ':', ';', ', ', '- ', '(' , ')', '[', ']']:\n",
    "         if ch in string:\n",
    "            string = string.replace(ch, ' ')\n",
    "    return string\n",
    "\n",
    "    \n",
    "def clean(line):\n",
    "    lines = []\n",
    "    line = replace_punct(line)\n",
    "    doc = nlp(line)\n",
    "    for sent in doc.sents:\n",
    "        line_sentence = sent.text\n",
    "        line_sentence = line_sentence.lower()\n",
    "        line_sentence = line_sentence.strip()\n",
    "        line_sentence = line_sentence.rstrip('.')\n",
    "        line_sentence = line_sentence.rstrip(',')\n",
    "\n",
    "        if line_sentence is not None and len(line_sentence) > 0 and len(line_sentence.split()) > 2:\n",
    "            lines.append(line_sentence)\n",
    "    return lines\n",
    "\n",
    "with open(output_txt_file + 'clean.txt', 'w') as out_file:\n",
    "    with open(output_txt_file) as fp:\n",
    "        for cnt, line in enumerate(fp):                \n",
    "            cleaned_lines = clean(line)\n",
    "            if cnt % 1000 == 0:\n",
    "                print('--')\n",
    "                print('IN: {}'.format(line))\n",
    "                print('OUT: {}'.format(cleaned_lines))\n",
    "            for cleaned_line in cleaned_lines:\n",
    "                out_file.write(cleaned_line + '\\n')\n",
    "            "
   ]
  },
  {
   "cell_type": "markdown",
   "metadata": {},
   "source": [
    "Run fasttext"
   ]
  },
  {
   "cell_type": "code",
   "execution_count": null,
   "metadata": {},
   "outputs": [],
   "source": [
    "import fasttext\n",
    "\n",
    "model = fasttext.train_unsupervised(output_txt_file + 'clean.txt', model='skipgram')\n",
    "\n",
    "print(model.words)\n",
    "print(model['atelectase'])\n",
    "\n",
    "model.save_model(output_model_file)\n",
    "model.save_vectors(output_vec_file)\n"
   ]
  },
  {
   "cell_type": "code",
   "execution_count": null,
   "metadata": {},
   "outputs": [],
   "source": [
    "import fasttext\n",
    "from fasttext import load_model\n",
    "\n",
    "def save_vectors(model, file):\n",
    "    f = model\n",
    "    words = f.get_words()\n",
    "    print(str(len(words)) + \" \" + str(f.get_dimension()))\n",
    "    with open(file, 'w') as out_file:\n",
    "\n",
    "        for w in words:\n",
    "            v = f.get_word_vector(w)\n",
    "            vstr = \"\"\n",
    "            for vi in v:\n",
    "                vstr += \" \" + str(vi)\n",
    "            try:\n",
    "                out_file.write(w + vstr + '\\n')\n",
    "            except IOError as e:\n",
    "                if e.errno == errno.EPIPE:\n",
    "                    pass\n",
    "            \n",
    "model = fasttext.load_model(output_model_file)\n",
    "save_vectors(model, 'fasttext_rad.vec')\n",
    "print(model.get_nearest_neighbors('atelectase'))\n"
   ]
  },
  {
   "cell_type": "code",
   "execution_count": null,
   "metadata": {
    "scrolled": true
   },
   "outputs": [],
   "source": [
    "print(model.get_nearest_neighbors('onwaarschijnlijk', k=200))\n"
   ]
  },
  {
   "cell_type": "code",
   "execution_count": null,
   "metadata": {},
   "outputs": [],
   "source": [
    "pip install gensim"
   ]
  },
  {
   "cell_type": "code",
   "execution_count": null,
   "metadata": {},
   "outputs": [],
   "source": [
    "from gensim.models.fasttext import load_facebook_model\n",
    "\n",
    "wv = load_facebook_model(output_model_file)\n"
   ]
  },
  {
   "cell_type": "code",
   "execution_count": null,
   "metadata": {},
   "outputs": [],
   "source": [
    "import csv\n",
    "\n",
    "with open('wv_embeddings.tsv', 'w') as tsvfile:\n",
    "    writer = csv.writer(tsvfile, delimiter='\\t')\n",
    "    words = wv.wv.vocab.keys()\n",
    "    for word in words:\n",
    "        vector = wv.wv.get_vector(word).tolist()\n",
    "        row = [word] + vector\n",
    "        writer.writerow(row)"
   ]
  },
  {
   "cell_type": "code",
   "execution_count": null,
   "metadata": {},
   "outputs": [],
   "source": [
    "pip install -q tensorflow\n"
   ]
  },
  {
   "cell_type": "code",
   "execution_count": null,
   "metadata": {},
   "outputs": [],
   "source": [
    "import tensorflow as tf\n",
    "import datetime, os\n",
    "\n",
    "logs_base_dir = \"./logs\"\n",
    "os.makedirs(logs_base_dir, exist_ok=True)\n",
    "%tensorboard --logdir {logs_base_dir}"
   ]
  }
 ],
 "metadata": {
  "kernelspec": {
   "display_name": "Python 3",
   "language": "python",
   "name": "python3"
  },
  "language_info": {
   "codemirror_mode": {
    "name": "ipython",
    "version": 3
   },
   "file_extension": ".py",
   "mimetype": "text/x-python",
   "name": "python",
   "nbconvert_exporter": "python",
   "pygments_lexer": "ipython3",
   "version": "3.7.6"
  }
 },
 "nbformat": 4,
 "nbformat_minor": 4
}
