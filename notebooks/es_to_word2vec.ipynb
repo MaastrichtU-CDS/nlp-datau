{
 "cells": [
  {
   "cell_type": "markdown",
   "metadata": {},
   "source": [
    "# Create word2vec from elasticsearch index using fasttext"
   ]
  },
  {
   "cell_type": "markdown",
   "metadata": {},
   "source": [
    "Install dependencies"
   ]
  },
  {
   "cell_type": "code",
   "execution_count": null,
   "metadata": {},
   "outputs": [],
   "source": [
    "import sys\n",
    "import re\n",
    "sys.path.append(\"./../\")"
   ]
  },
  {
   "cell_type": "code",
   "execution_count": null,
   "metadata": {},
   "outputs": [],
   "source": [
    "pip install fasttext"
   ]
  },
  {
   "cell_type": "markdown",
   "metadata": {},
   "source": [
    "Set variables"
   ]
  },
  {
   "cell_type": "code",
   "execution_count": null,
   "metadata": {},
   "outputs": [],
   "source": [
    "es_host = \"doccano-dataset-tools-es01\"\n",
    "es_index = \"free-text-reports\"\n",
    "field = \"text\"\n",
    "output_txt_file = '/home/jovyan/work/resources/data_ignored/data.txt'\n",
    "output_model_file = \"fasttext_rad.bin\"\n",
    "output_vec_file = \"fasttext_rad.vec\""
   ]
  },
  {
   "cell_type": "markdown",
   "metadata": {},
   "source": [
    "Create .txt file of all documents in index"
   ]
  },
  {
   "cell_type": "code",
   "execution_count": null,
   "metadata": {},
   "outputs": [],
   "source": [
    "from nlp_datau.index_to_txt import IndexToTxt\n",
    "to_txt = IndexToTxt(es_host=es_host, es_index=es_index)\n",
    "to_txt.write_index(output_txt_file, field)"
   ]
  },
  {
   "cell_type": "markdown",
   "metadata": {},
   "source": [
    "clean text"
   ]
  },
  {
   "cell_type": "code",
   "execution_count": null,
   "metadata": {},
   "outputs": [],
   "source": [
    "import spacy\n",
    "\n",
    "nlp = spacy.load(\"nl_core_news_sm\")"
   ]
  },
  {
   "cell_type": "code",
   "execution_count": null,
   "metadata": {
    "scrolled": true
   },
   "outputs": [],
   "source": [
    "from string import punctuation\n",
    "\n",
    "\n",
    "def replace_punct(string):\n",
    "    if string is None: \n",
    "        return ''\n",
    "    for ch in ['&','#', '?', '!', ':', ';', ', ', '- ', '(' , ')', '[', ']']:\n",
    "         if ch in string:\n",
    "            string = string.replace(ch, ' ')\n",
    "    return string\n",
    "\n",
    "    \n",
    "def clean(line):\n",
    "    lines = []\n",
    "    line = replace_punct(line)\n",
    "    doc = nlp(line)\n",
    "    for sent in doc.sents:\n",
    "        line_sentence = sent.text\n",
    "        line_sentence = line_sentence.lower()\n",
    "        line_sentence = line_sentence.strip()\n",
    "        line_sentence = line_sentence.rstrip('.')\n",
    "        line_sentence = line_sentence.rstrip(',')\n",
    "\n",
    "        if line_sentence is not None and len(line_sentence) > 0 and len(line_sentence.split()) > 2:\n",
    "            lines.append(line_sentence)\n",
    "    return lines\n",
    "\n",
    "with open(output_txt_file + 'clean.txt', 'w') as out_file:\n",
    "    with open(output_txt_file) as fp:\n",
    "        for cnt, line in enumerate(fp):                \n",
    "            cleaned_lines = clean(line)\n",
    "            if cnt % 1000 == 0:\n",
    "                print('--')\n",
    "                print('IN: {}'.format(line))\n",
    "                print('OUT: {}'.format(cleaned_lines))\n",
    "            for cleaned_line in cleaned_lines:\n",
    "                out_file.write(cleaned_line + '\\n')\n",
    "            "
   ]
  },
  {
   "cell_type": "markdown",
   "metadata": {},
   "source": [
    "Run fasttext"
   ]
  },
  {
   "cell_type": "code",
   "execution_count": null,
   "metadata": {},
   "outputs": [],
   "source": [
    "import fasttext\n",
    "\n",
    "model = fasttext.train_unsupervised(output_txt_file + 'clean.txt', model='skipgram')\n",
    "\n",
    "print(model.words)\n",
    "print(model['atelectase'])\n",
    "\n",
    "model.save_model(output_model_file)\n",
    "model.save_vectors(output_vec_file)\n"
   ]
  },
  {
   "cell_type": "code",
   "execution_count": null,
   "metadata": {},
   "outputs": [],
   "source": [
    "import fasttext\n",
    "from fasttext import load_model\n",
    "\n",
    "def save_vectors(model, file):\n",
    "    f = model\n",
    "    words = f.get_words()\n",
    "    print(str(len(words)) + \" \" + str(f.get_dimension()))\n",
    "    with open(file, 'w') as out_file:\n",
    "\n",
    "        for w in words:\n",
    "            v = f.get_word_vector(w)\n",
    "            vstr = \"\"\n",
    "            for vi in v:\n",
    "                vstr += \" \" + str(vi)\n",
    "            try:\n",
    "                out_file.write(w + vstr + '\\n')\n",
    "            except IOError as e:\n",
    "                if e.errno == errno.EPIPE:\n",
    "                    pass\n",
    "            \n",
    "model = fasttext.load_model(output_model_file)\n",
    "save_vectors(model, output_vec_file)\n",
    "print(model.get_nearest_neighbors('atelectase'))\n"
   ]
  },
  {
   "cell_type": "code",
   "execution_count": null,
   "metadata": {
    "scrolled": true
   },
   "outputs": [],
   "source": [
    "print(model.get_nearest_neighbors('onwaarschijnlijk', k=200))\n"
   ]
  },
  {
   "cell_type": "code",
   "execution_count": null,
   "metadata": {},
   "outputs": [],
   "source": [
    "pip install gensim"
   ]
  },
  {
   "cell_type": "code",
   "execution_count": null,
   "metadata": {},
   "outputs": [],
   "source": [
    "from gensim.models.fasttext import load_facebook_model\n",
    "\n",
    "wv = load_facebook_model(output_model_file)\n"
   ]
  },
  {
   "cell_type": "code",
   "execution_count": null,
   "metadata": {},
   "outputs": [],
   "source": [
    "import csv\n",
    "\n",
    "with open('wv_embeddings.tsv', 'w') as tsvfile:\n",
    "    writer = csv.writer(tsvfile, delimiter='\\t')\n",
    "    words = wv.wv.vocab.keys()\n",
    "    for word in words:\n",
    "        vector = wv.wv.get_vector(word).tolist()\n",
    "        row = [word] + vector\n",
    "        writer.writerow(row)"
   ]
  },
  {
   "cell_type": "code",
   "execution_count": null,
   "metadata": {},
   "outputs": [],
   "source": [
    "pip install -q tensorflow"
   ]
  },
  {
   "cell_type": "code",
   "execution_count": null,
   "metadata": {},
   "outputs": [],
   "source": [
    "# import statements\n",
    "# from pathlib import PurePath\n",
    "import os\n",
    "\n",
    "import fasttext\n",
    "import numpy as np\n",
    "import tensorflow as tf\n",
    "from tensorflow.python.framework import ops\n",
    "\n",
    "from tensorboard.plugins import projector\n",
    "from tensorboard.plugins.projector import ProjectorConfig\n"
   ]
  },
  {
   "cell_type": "code",
   "execution_count": null,
   "metadata": {},
   "outputs": [],
   "source": [
    "# load pre-trained fasttext model\n",
    "model = fasttext.load_model(output_model_file)"
   ]
  },
  {
   "cell_type": "code",
   "execution_count": null,
   "metadata": {},
   "outputs": [],
   "source": [
    "for i, w in enumerate(model.get_words()):\n",
    "    print(w)\n",
    "    if i > 4:\n",
    "        break"
   ]
  },
  {
   "cell_type": "code",
   "execution_count": null,
   "metadata": {},
   "outputs": [],
   "source": [
    "#hide_output\n",
    "\n",
    "# number of words in the dataset\n",
    "VOCAB_SIZE = len(model.get_words())\n",
    "\n",
    "\n",
    "# size of the dimension of each word vector\n",
    "EMBEDDING_DIM = len(model.get_word_vector(w))\n",
    "\n",
    "\n",
    "# 2D numpy array initialised to store words with their vector representation\n",
    "embed = np.zeros((VOCAB_SIZE, EMBEDDING_DIM))\n",
    "embed.shape"
   ]
  },
  {
   "cell_type": "code",
   "execution_count": null,
   "metadata": {},
   "outputs": [],
   "source": [
    "# store the vector representation of each word in the 2D numpy array\n",
    "for i, word in enumerate(model.get_words()):\n",
    "    embed[i] = model.get_word_vector(word)\n",
    "embed"
   ]
  },
  {
   "cell_type": "code",
   "execution_count": null,
   "metadata": {},
   "outputs": [],
   "source": [
    "# path to store the words\n",
    "tsv_file_path = \"tensorboard/metadata.tsv\""
   ]
  },
  {
   "cell_type": "code",
   "execution_count": null,
   "metadata": {},
   "outputs": [],
   "source": [
    "ops.reset_default_graph()  # clearing the default graph stack\n",
    "\n",
    "\n",
    "def register_embedding(\n",
    "    embedding_tensor_name: str, meta_data_fname: str, log_dir: str,\n",
    ") -> None:\n",
    "\n",
    "    \"\"\"\n",
    "    Configuring the projector to be read by the tensorboard.\n",
    "    \n",
    "    Args:\n",
    "    embedding_tensor_name(str): embeddings file name\n",
    "    meta_data_fname(str): metadata file name\n",
    "    log_dir(str): folder where tensorboard files and the metadata file are saved\n",
    "    \n",
    "    Returns:\n",
    "    None    \n",
    "    \n",
    "    \"\"\"\n",
    "    config = projector.ProjectorConfig()\n",
    "    embedding = config.embeddings.add()\n",
    "    embedding.tensor_name = embedding_tensor_name\n",
    "    embedding.metadata_path = meta_data_fname\n",
    "    projector.visualize_embeddings(\n",
    "        log_dir, config\n",
    "    )  # storing the configuration files of projector where tensorboard files are saved"
   ]
  },
  {
   "cell_type": "code",
   "execution_count": null,
   "metadata": {},
   "outputs": [],
   "source": [
    "def save_labels_tsv(labels: list, filepath: str, log_dir: str,) -> None:\n",
    "\n",
    "    \"\"\"\n",
    "    Storing the vocabulary of words in the dataset to a file\n",
    "    \n",
    "    Args:\n",
    "    labels: vocabulary i.e. words in the dataset\n",
    "    filepath: metadata file name\n",
    "    log_dir: \"folder where tensorboard files and projector files are saved\n",
    "    \n",
    "    Returns:\n",
    "    None  \n",
    "    \n",
    "    \"\"\"\n",
    "\n",
    "    with open(os.path.join(log_dir, filepath), \"w\") as f:\n",
    "        for label in labels:\n",
    "            f.write(\"{}\\n\".format(label))"
   ]
  },
  {
   "cell_type": "code",
   "execution_count": null,
   "metadata": {},
   "outputs": [],
   "source": [
    "LOG_DIR = \"tb2files\"  # folder which will contain all the tensorboard log files\n",
    "os.makedirs(LOG_DIR, exist_ok=True)\n",
    "\n",
    "# Labels i.e. the words in the dataset will be stored in this file\n",
    "META_DATA_FNAME = \"meta.tsv\"\n",
    "\n",
    "# name of the file which will have the embeddings stored\n",
    "EMBEDDINGS_TENSOR_NAME = \"embeddings\"\n",
    "\n",
    "# path for checkpoint of the saved embeddings\n",
    "EMBEDDINGS_FPATH = os.path.join(LOG_DIR, EMBEDDINGS_TENSOR_NAME + \".ckpt\")\n",
    "STEP = 0\n",
    "\n",
    "\n",
    "x = embed  # array containing the embeddings\n",
    "y = model.get_words()  # list containing the vocabulary\n",
    "register_embedding(EMBEDDINGS_TENSOR_NAME, META_DATA_FNAME, LOG_DIR)\n",
    "save_labels_tsv(y, META_DATA_FNAME, LOG_DIR)"
   ]
  },
  {
   "cell_type": "code",
   "execution_count": null,
   "metadata": {},
   "outputs": [],
   "source": [
    "tensor_embeddings = tf.Variable(\n",
    "    x, name=EMBEDDINGS_TENSOR_NAME\n",
    ")  # creation of the tensorflow variable, x: array which contains the embeddings,\n",
    "# name: name of the file which will have the embeddings stored"
   ]
  },
  {
   "cell_type": "code",
   "execution_count": null,
   "metadata": {},
   "outputs": [],
   "source": [
    "#hide_output\n",
    "\n",
    "saver = tf.compat.v1.train.Saver(\n",
    "    [tensor_embeddings]\n",
    ")  # Tensorflow variable passed as argument for saver object to be initialised\n",
    "saver.save(\n",
    "    sess=None, global_step=STEP, save_path=EMBEDDINGS_FPATH\n",
    ")  # saving the checkpoint for the embedding files"
   ]
  },
  {
   "cell_type": "code",
   "execution_count": null,
   "metadata": {
    "scrolled": true
   },
   "outputs": [],
   "source": [
    "%load_ext tensorboard\n",
    "%tensorboard --logdir {LOG_DIR} --host 0.0.0.0 --port 6006\n",
    "# %reload_ext tensorboard \n",
    "# %tensorboard --logdir {LOG_DIR} --host 0.0.0.0 --port 6006\n"
   ]
  },
  {
   "cell_type": "code",
   "execution_count": null,
   "metadata": {},
   "outputs": [],
   "source": []
  }
 ],
 "metadata": {
  "kernelspec": {
   "display_name": "Python 3",
   "language": "python",
   "name": "python3"
  },
  "language_info": {
   "codemirror_mode": {
    "name": "ipython",
    "version": 3
   },
   "file_extension": ".py",
   "mimetype": "text/x-python",
   "name": "python",
   "nbconvert_exporter": "python",
   "pygments_lexer": "ipython3",
   "version": "3.7.6"
  }
 },
 "nbformat": 4,
 "nbformat_minor": 4
}
