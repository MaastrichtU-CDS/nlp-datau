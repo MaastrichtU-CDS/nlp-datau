{
 "cells": [
  {
   "cell_type": "code",
   "execution_count": null,
   "metadata": {},
   "outputs": [],
   "source": [
    "import fasttext\n",
    "import pandas as pd"
   ]
  },
  {
   "cell_type": "code",
   "execution_count": null,
   "metadata": {},
   "outputs": [],
   "source": [
    "output_model_file = \"/home/jovyan/work/resources/data_ignored/fasttext_rad.bin\"\n",
    "model = fasttext.load_model(output_model_file)\n",
    "print(model.get_nearest_neighbors('massa', k=500))"
   ]
  },
  {
   "cell_type": "code",
   "execution_count": null,
   "metadata": {},
   "outputs": [],
   "source": [
    "words = model.words\n",
    "df = pd.DataFrame()\n",
    "df['words'] = words\n",
    "df.to_excel('/home/jovyan/work/resources/data_ignored/words.xlsx')"
   ]
  },
  {
   "cell_type": "code",
   "execution_count": null,
   "metadata": {},
   "outputs": [],
   "source": [
    "model.get_word_id('tumormassa')"
   ]
  },
  {
   "cell_type": "code",
   "execution_count": null,
   "metadata": {},
   "outputs": [],
   "source": [
    "nn_massa = model.get_nearest_neighbors('massa', k=500)"
   ]
  },
  {
   "cell_type": "code",
   "execution_count": null,
   "metadata": {},
   "outputs": [],
   "source": [
    "df = pd.DataFrame(nn_massa, columns=['similarity', 'word'])\n",
    "df.to_excel('/home/jovyan/work/resources/data_ignored/massa-sim.xlsx')"
   ]
  },
  {
   "cell_type": "code",
   "execution_count": null,
   "metadata": {},
   "outputs": [],
   "source": [
    "def get_matches(term, neigbours_list):\n",
    "     return [i for i in neigbours_list if term in i]"
   ]
  },
  {
   "cell_type": "code",
   "execution_count": null,
   "metadata": {},
   "outputs": [],
   "source": [
    "neigbours_list = df['word'].tolist()\n",
    "manual_list = 'massa|tumor|nodu|haard|carcino|laesie|letsel|rip|RIP|ruimte(-)?innemend process|maligniteit|verdicht|indicht'.split(\"|\")\n",
    "match_tuples = []\n",
    "for term in manual_list:\n",
    "    matches = get_matches(term, neigbours_list)\n",
    "    indices = [neigbours_list.index(match) for match in matches]\n",
    "    dict_from_list = dict(zip(matches, indices))\n",
    "    entry = (term, dict_from_list)\n",
    "    match_tuples.append(entry)\n",
    "    print(entry)\n",
    "\n",
    "df_found = pd.DataFrame(match_tuples, columns=['term', 'neigbours'])\n",
    "df_found.to_excel('/home/jovyan/work/resources/data_ignored/massa-manual-matches.xlsx')"
   ]
  },
  {
   "cell_type": "code",
   "execution_count": null,
   "metadata": {},
   "outputs": [],
   "source": []
  }
 ],
 "metadata": {
  "kernelspec": {
   "display_name": "Python 3",
   "language": "python",
   "name": "python3"
  },
  "language_info": {
   "codemirror_mode": {
    "name": "ipython",
    "version": 3
   },
   "file_extension": ".py",
   "mimetype": "text/x-python",
   "name": "python",
   "nbconvert_exporter": "python",
   "pygments_lexer": "ipython3",
   "version": "3.7.6"
  }
 },
 "nbformat": 4,
 "nbformat_minor": 4
}
