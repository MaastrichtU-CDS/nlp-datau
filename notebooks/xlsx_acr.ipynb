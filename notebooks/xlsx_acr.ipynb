{
 "cells": [
  {
   "cell_type": "markdown",
   "metadata": {
    "pycharm": {
     "name": "#%% md\n"
    }
   },
   "source": [
    "# ACR extraction #\n",
    "\n",
    "Parse text documents which are based on a template and stored in an excel document"
   ]
  },
  {
   "cell_type": "markdown",
   "metadata": {},
   "source": [
    "Install dependencies and import the nlp_datau package"
   ]
  },
  {
   "cell_type": "code",
   "execution_count": 1,
   "metadata": {
    "pycharm": {
     "name": "#%%\n"
    }
   },
   "outputs": [
    {
     "name": "stdout",
     "output_type": "stream",
     "text": [
      "\u001B[33mWARNING: Ignoring invalid distribution -x (/Users/sanderputs/IdeaProjects/Research/venv/lib/python3.8/site-packages)\u001B[0m\r\n",
      "\u001B[33mWARNING: Ignoring invalid distribution -ix (/Users/sanderputs/IdeaProjects/Research/venv/lib/python3.8/site-packages)\u001B[0m\r\n",
      "\u001B[33mWARNING: Ignoring invalid distribution - (/Users/sanderputs/IdeaProjects/Research/venv/lib/python3.8/site-packages)\u001B[0m\r\n",
      "\u001B[33mWARNING: Ignoring invalid distribution -x (/Users/sanderputs/IdeaProjects/Research/venv/lib/python3.8/site-packages)\u001B[0m\r\n",
      "\u001B[33mWARNING: Ignoring invalid distribution -ix (/Users/sanderputs/IdeaProjects/Research/venv/lib/python3.8/site-packages)\u001B[0m\r\n",
      "\u001B[33mWARNING: Ignoring invalid distribution - (/Users/sanderputs/IdeaProjects/Research/venv/lib/python3.8/site-packages)\u001B[0m\r\n",
      "Requirement already satisfied: pandas in /Users/sanderputs/IdeaProjects/Research/venv/lib/python3.8/site-packages (from -r ./../requirements.txt (line 1)) (1.3.4)\r\n",
      "Requirement already satisfied: openpyxl in /Users/sanderputs/IdeaProjects/Research/venv/lib/python3.8/site-packages (from -r ./../requirements.txt (line 2)) (3.0.9)\r\n",
      "Requirement already satisfied: python-docx==0.8.10 in /Users/sanderputs/IdeaProjects/Research/venv/lib/python3.8/site-packages (from -r ./../requirements.txt (line 3)) (0.8.10)\r\n",
      "Requirement already satisfied: elasticsearch<8.0.0,>=7.0.0 in /Users/sanderputs/IdeaProjects/Research/venv/lib/python3.8/site-packages (from -r ./../requirements.txt (line 4)) (7.9.1)\r\n",
      "Requirement already satisfied: xmltodict in /Users/sanderputs/IdeaProjects/Research/venv/lib/python3.8/site-packages (from -r ./../requirements.txt (line 5)) (0.12.0)\r\n",
      "Collecting spacy<2.3.0,>=2.2.0\r\n",
      "  Using cached spacy-2.2.4-cp38-cp38-macosx_10_9_x86_64.whl (10.6 MB)\r\n",
      "Requirement already satisfied: lxml>=2.3.2 in /Users/sanderputs/IdeaProjects/Research/venv/lib/python3.8/site-packages (from python-docx==0.8.10->-r ./../requirements.txt (line 3)) (4.6.2)\r\n",
      "Requirement already satisfied: pytz>=2017.3 in /Users/sanderputs/IdeaProjects/Research/venv/lib/python3.8/site-packages (from pandas->-r ./../requirements.txt (line 1)) (2020.4)\r\n",
      "Requirement already satisfied: numpy>=1.17.3 in /Users/sanderputs/IdeaProjects/Research/venv/lib/python3.8/site-packages (from pandas->-r ./../requirements.txt (line 1)) (1.19.5)\r\n",
      "Requirement already satisfied: python-dateutil>=2.7.3 in /Users/sanderputs/IdeaProjects/Research/venv/lib/python3.8/site-packages (from pandas->-r ./../requirements.txt (line 1)) (2.8.2)\r\n",
      "Requirement already satisfied: et-xmlfile in /Users/sanderputs/IdeaProjects/Research/venv/lib/python3.8/site-packages (from openpyxl->-r ./../requirements.txt (line 2)) (1.1.0)\r\n",
      "Requirement already satisfied: certifi in /Users/sanderputs/IdeaProjects/Research/venv/lib/python3.8/site-packages (from elasticsearch<8.0.0,>=7.0.0->-r ./../requirements.txt (line 4)) (2020.11.8)\r\n",
      "Requirement already satisfied: urllib3>=1.21.1 in /Users/sanderputs/IdeaProjects/Research/venv/lib/python3.8/site-packages (from elasticsearch<8.0.0,>=7.0.0->-r ./../requirements.txt (line 4)) (1.26.2)\r\n",
      "Requirement already satisfied: cymem<2.1.0,>=2.0.2 in /Users/sanderputs/IdeaProjects/Research/venv/lib/python3.8/site-packages (from spacy<2.3.0,>=2.2.0->-r ./../requirements.txt (line 6)) (2.0.5)\r\n",
      "Collecting catalogue<1.1.0,>=0.0.7\r\n",
      "  Using cached catalogue-1.0.0-py2.py3-none-any.whl (7.7 kB)\r\n",
      "Collecting thinc==7.4.0\r\n",
      "  Using cached thinc-7.4.0-cp38-cp38-macosx_10_9_x86_64.whl (2.2 MB)\r\n",
      "Requirement already satisfied: setuptools in /Users/sanderputs/IdeaProjects/Research/venv/lib/python3.8/site-packages (from spacy<2.3.0,>=2.2.0->-r ./../requirements.txt (line 6)) (59.4.0)\r\n",
      "Requirement already satisfied: blis<0.5.0,>=0.4.0 in /Users/sanderputs/IdeaProjects/Research/venv/lib/python3.8/site-packages (from spacy<2.3.0,>=2.2.0->-r ./../requirements.txt (line 6)) (0.4.1)\r\n",
      "Requirement already satisfied: preshed<3.1.0,>=3.0.2 in /Users/sanderputs/IdeaProjects/Research/venv/lib/python3.8/site-packages (from spacy<2.3.0,>=2.2.0->-r ./../requirements.txt (line 6)) (3.0.5)\r\n",
      "Requirement already satisfied: tqdm<5.0.0,>=4.38.0 in /Users/sanderputs/IdeaProjects/Research/venv/lib/python3.8/site-packages (from spacy<2.3.0,>=2.2.0->-r ./../requirements.txt (line 6)) (4.49.0)\r\n",
      "Requirement already satisfied: murmurhash<1.1.0,>=0.28.0 in /Users/sanderputs/IdeaProjects/Research/venv/lib/python3.8/site-packages (from spacy<2.3.0,>=2.2.0->-r ./../requirements.txt (line 6)) (1.0.5)\r\n",
      "Requirement already satisfied: plac<1.2.0,>=0.9.6 in /Users/sanderputs/IdeaProjects/Research/venv/lib/python3.8/site-packages (from spacy<2.3.0,>=2.2.0->-r ./../requirements.txt (line 6)) (1.1.3)\r\n",
      "Requirement already satisfied: wasabi<1.1.0,>=0.4.0 in /Users/sanderputs/IdeaProjects/Research/venv/lib/python3.8/site-packages (from spacy<2.3.0,>=2.2.0->-r ./../requirements.txt (line 6)) (0.8.2)\r\n",
      "Requirement already satisfied: requests<3.0.0,>=2.13.0 in /Users/sanderputs/IdeaProjects/Research/venv/lib/python3.8/site-packages (from spacy<2.3.0,>=2.2.0->-r ./../requirements.txt (line 6)) (2.25.1)\r\n",
      "Collecting srsly<1.1.0,>=1.0.2\r\n",
      "  Using cached srsly-1.0.5-cp38-cp38-macosx_10_9_x86_64.whl (177 kB)\r\n",
      "Requirement already satisfied: six>=1.5 in /Users/sanderputs/IdeaProjects/Research/venv/lib/python3.8/site-packages (from python-dateutil>=2.7.3->pandas->-r ./../requirements.txt (line 1)) (1.15.0)\r\n",
      "Requirement already satisfied: idna<3,>=2.5 in /Users/sanderputs/IdeaProjects/Research/venv/lib/python3.8/site-packages (from requests<3.0.0,>=2.13.0->spacy<2.3.0,>=2.2.0->-r ./../requirements.txt (line 6)) (2.10)\r\n",
      "Requirement already satisfied: chardet<5,>=3.0.2 in /Users/sanderputs/IdeaProjects/Research/venv/lib/python3.8/site-packages (from requests<3.0.0,>=2.13.0->spacy<2.3.0,>=2.2.0->-r ./../requirements.txt (line 6)) (3.0.4)\r\n",
      "\u001B[33mWARNING: Ignoring invalid distribution -x (/Users/sanderputs/IdeaProjects/Research/venv/lib/python3.8/site-packages)\u001B[0m\r\n",
      "\u001B[33mWARNING: Ignoring invalid distribution -ix (/Users/sanderputs/IdeaProjects/Research/venv/lib/python3.8/site-packages)\u001B[0m\r\n",
      "\u001B[33mWARNING: Ignoring invalid distribution - (/Users/sanderputs/IdeaProjects/Research/venv/lib/python3.8/site-packages)\u001B[0m\r\n",
      "Installing collected packages: srsly, catalogue, thinc, spacy\r\n",
      "  Attempting uninstall: srsly\r\n",
      "\u001B[33m    WARNING: Ignoring invalid distribution -x (/Users/sanderputs/IdeaProjects/Research/venv/lib/python3.8/site-packages)\u001B[0m\r\n",
      "\u001B[33m    WARNING: Ignoring invalid distribution -ix (/Users/sanderputs/IdeaProjects/Research/venv/lib/python3.8/site-packages)\u001B[0m\r\n",
      "\u001B[33m    WARNING: Ignoring invalid distribution - (/Users/sanderputs/IdeaProjects/Research/venv/lib/python3.8/site-packages)\u001B[0m\r\n",
      "    Found existing installation: srsly 2.4.2\r\n",
      "    Uninstalling srsly-2.4.2:\r\n",
      "      Successfully uninstalled srsly-2.4.2\r\n",
      "  Attempting uninstall: catalogue\r\n",
      "\u001B[33m    WARNING: Ignoring invalid distribution -x (/Users/sanderputs/IdeaProjects/Research/venv/lib/python3.8/site-packages)\u001B[0m\r\n",
      "\u001B[33m    WARNING: Ignoring invalid distribution -ix (/Users/sanderputs/IdeaProjects/Research/venv/lib/python3.8/site-packages)\u001B[0m\r\n",
      "\u001B[33m    WARNING: Ignoring invalid distribution - (/Users/sanderputs/IdeaProjects/Research/venv/lib/python3.8/site-packages)\u001B[0m\r\n",
      "    Found existing installation: catalogue 2.0.6\r\n",
      "    Uninstalling catalogue-2.0.6:\r\n",
      "      Successfully uninstalled catalogue-2.0.6\r\n",
      "  Attempting uninstall: thinc\r\n",
      "\u001B[33m    WARNING: Ignoring invalid distribution -x (/Users/sanderputs/IdeaProjects/Research/venv/lib/python3.8/site-packages)\u001B[0m\r\n",
      "\u001B[33m    WARNING: Ignoring invalid distribution -ix (/Users/sanderputs/IdeaProjects/Research/venv/lib/python3.8/site-packages)\u001B[0m\r\n",
      "\u001B[33m    WARNING: Ignoring invalid distribution - (/Users/sanderputs/IdeaProjects/Research/venv/lib/python3.8/site-packages)\u001B[0m\r\n",
      "    Found existing installation: thinc 8.0.13\r\n",
      "    Uninstalling thinc-8.0.13:\r\n",
      "      Successfully uninstalled thinc-8.0.13\r\n",
      "  Attempting uninstall: spacy\r\n",
      "\u001B[33m    WARNING: Ignoring invalid distribution -x (/Users/sanderputs/IdeaProjects/Research/venv/lib/python3.8/site-packages)\u001B[0m\r\n",
      "\u001B[33m    WARNING: Ignoring invalid distribution -ix (/Users/sanderputs/IdeaProjects/Research/venv/lib/python3.8/site-packages)\u001B[0m\r\n",
      "\u001B[33m    WARNING: Ignoring invalid distribution - (/Users/sanderputs/IdeaProjects/Research/venv/lib/python3.8/site-packages)\u001B[0m\r\n",
      "    Found existing installation: spacy 3.2.0\r\n",
      "    Uninstalling spacy-3.2.0:\r\n",
      "      Successfully uninstalled spacy-3.2.0\r\n",
      "\u001B[33mWARNING: Ignoring invalid distribution -x (/Users/sanderputs/IdeaProjects/Research/venv/lib/python3.8/site-packages)\u001B[0m\r\n",
      "\u001B[33mWARNING: Ignoring invalid distribution -ix (/Users/sanderputs/IdeaProjects/Research/venv/lib/python3.8/site-packages)\u001B[0m\r\n",
      "\u001B[33mWARNING: Ignoring invalid distribution - (/Users/sanderputs/IdeaProjects/Research/venv/lib/python3.8/site-packages)\u001B[0m\r\n",
      "\u001B[33mWARNING: Ignoring invalid distribution -x (/Users/sanderputs/IdeaProjects/Research/venv/lib/python3.8/site-packages)\u001B[0m\r\n",
      "\u001B[33mWARNING: Ignoring invalid distribution -ix (/Users/sanderputs/IdeaProjects/Research/venv/lib/python3.8/site-packages)\u001B[0m\r\n",
      "\u001B[33mWARNING: Ignoring invalid distribution - (/Users/sanderputs/IdeaProjects/Research/venv/lib/python3.8/site-packages)\u001B[0m\r\n",
      "\u001B[33mWARNING: Ignoring invalid distribution -x (/Users/sanderputs/IdeaProjects/Research/venv/lib/python3.8/site-packages)\u001B[0m\r\n",
      "\u001B[33mWARNING: Ignoring invalid distribution -ix (/Users/sanderputs/IdeaProjects/Research/venv/lib/python3.8/site-packages)\u001B[0m\r\n",
      "\u001B[33mWARNING: Ignoring invalid distribution - (/Users/sanderputs/IdeaProjects/Research/venv/lib/python3.8/site-packages)\u001B[0m\r\n",
      "\u001B[33mWARNING: Ignoring invalid distribution -x (/Users/sanderputs/IdeaProjects/Research/venv/lib/python3.8/site-packages)\u001B[0m\r\n",
      "\u001B[33mWARNING: Ignoring invalid distribution -ix (/Users/sanderputs/IdeaProjects/Research/venv/lib/python3.8/site-packages)\u001B[0m\r\n",
      "\u001B[33mWARNING: Ignoring invalid distribution - (/Users/sanderputs/IdeaProjects/Research/venv/lib/python3.8/site-packages)\u001B[0m\r\n",
      "\u001B[31mERROR: pip's dependency resolver does not currently take into account all the packages that are installed. This behaviour is the source of the following dependency conflicts.\r\n",
      "xx-paraphrase-xlm-r-multilingual-v1 0.1.2 requires spacy<3.1.0,>=3.0.3, but you have spacy 2.2.4 which is incompatible.\r\n",
      "spacy-transformers 1.0.2 requires spacy<3.1.0,>=3.0.0, but you have spacy 2.2.4 which is incompatible.\r\n",
      "spacy-transformers 1.0.2 requires srsly<3.0.0,>=2.4.0, but you have srsly 1.0.5 which is incompatible.\r\n",
      "spacy-sentence-bert 0.1.2 requires spacy<4.0.0,>=3.0.0, but you have spacy 2.2.4 which is incompatible.\r\n",
      "nl-core-news-sm 3.0.0 requires spacy<3.1.0,>=3.0.0, but you have spacy 2.2.4 which is incompatible.\r\n",
      "es-core-news-sm 3.0.0 requires spacy<3.1.0,>=3.0.0, but you have spacy 2.2.4 which is incompatible.\r\n",
      "en-core-web-sm 3.2.0 requires spacy<3.3.0,>=3.2.0, but you have spacy 2.2.4 which is incompatible.\u001B[0m\r\n",
      "Successfully installed catalogue-1.0.0 spacy-2.2.4 srsly-1.0.5 thinc-7.4.0\r\n",
      "\u001B[33mWARNING: Ignoring invalid distribution -x (/Users/sanderputs/IdeaProjects/Research/venv/lib/python3.8/site-packages)\u001B[0m\r\n",
      "\u001B[33mWARNING: Ignoring invalid distribution -ix (/Users/sanderputs/IdeaProjects/Research/venv/lib/python3.8/site-packages)\u001B[0m\r\n",
      "\u001B[33mWARNING: Ignoring invalid distribution - (/Users/sanderputs/IdeaProjects/Research/venv/lib/python3.8/site-packages)\u001B[0m\r\n",
      "\u001B[33mWARNING: Ignoring invalid distribution -x (/Users/sanderputs/IdeaProjects/Research/venv/lib/python3.8/site-packages)\u001B[0m\r\n",
      "\u001B[33mWARNING: Ignoring invalid distribution -ix (/Users/sanderputs/IdeaProjects/Research/venv/lib/python3.8/site-packages)\u001B[0m\r\n",
      "\u001B[33mWARNING: Ignoring invalid distribution - (/Users/sanderputs/IdeaProjects/Research/venv/lib/python3.8/site-packages)\u001B[0m\r\n"
     ]
    }
   ],
   "source": [
    "import yaml\n",
    "import re\n",
    "import sys\n",
    "\n",
    "!pip install -r ./../requirements.txt\n",
    "sys.path.append(\"./../\")\n"
   ]
  },
  {
   "cell_type": "markdown",
   "metadata": {
    "pycharm": {
     "name": "#%% md\n"
    }
   },
   "source": [
    "## 1. Extract substring of substring ##\n",
    "\n",
    "Set variables"
   ]
  },
  {
   "cell_type": "code",
   "execution_count": 22,
   "metadata": {},
   "outputs": [
    {
     "data": {
      "text/plain": "   Patientnummer  Pat-ID (8tekens)  Onderzoeksnummer  Procedure RIS  \\\n0              1               NaN               NaN            NaN   \n1              2               NaN               NaN            NaN   \n2              3               NaN               NaN            NaN   \n3              4               NaN               NaN            NaN   \n4              5               NaN               NaN            NaN   \n5              6               NaN               NaN            NaN   \n\n   Datum onderzoek  Datum geboorte  #Leeftijd_Patient_Onderzoek  \\\n0              NaN             NaN                          NaN   \n1              NaN             NaN                          NaN   \n2              NaN             NaN                          NaN   \n3              NaN             NaN                          NaN   \n4              NaN             NaN                          NaN   \n5              NaN             NaN                          NaN   \n\n   Patient geslacht  # Procedures  \\\n0               NaN           NaN   \n1               NaN           NaN   \n2               NaN           NaN   \n3               NaN           NaN   \n4               NaN           NaN   \n5               NaN           NaN   \n\n                                             text  R_DATELASTCHANGED  \\\n0  Deze patient heeft een doorverwijzing en ACR-4                NaN   \n1  Deze patient heeft een doorverwijzing en ACR-5                NaN   \n2  Deze patient heeft een doorverwijzing en ACR-6                NaN   \n3  Deze patient heeft een doorverwijzing en ACR-7                NaN   \n4  Deze patient heeft een doorverwijzing en ACR-8                NaN   \n5  Deze patient heeft een doorverwijzing en ACR-9                NaN   \n\n   patient_id  \n0         NaN  \n1         NaN  \n2         NaN  \n3         NaN  \n4         NaN  \n5         NaN  ",
      "text/html": "<div>\n<style scoped>\n    .dataframe tbody tr th:only-of-type {\n        vertical-align: middle;\n    }\n\n    .dataframe tbody tr th {\n        vertical-align: top;\n    }\n\n    .dataframe thead th {\n        text-align: right;\n    }\n</style>\n<table border=\"1\" class=\"dataframe\">\n  <thead>\n    <tr style=\"text-align: right;\">\n      <th></th>\n      <th>Patientnummer</th>\n      <th>Pat-ID (8tekens)</th>\n      <th>Onderzoeksnummer</th>\n      <th>Procedure RIS</th>\n      <th>Datum onderzoek</th>\n      <th>Datum geboorte</th>\n      <th>#Leeftijd_Patient_Onderzoek</th>\n      <th>Patient geslacht</th>\n      <th># Procedures</th>\n      <th>text</th>\n      <th>R_DATELASTCHANGED</th>\n      <th>patient_id</th>\n    </tr>\n  </thead>\n  <tbody>\n    <tr>\n      <th>0</th>\n      <td>1</td>\n      <td>NaN</td>\n      <td>NaN</td>\n      <td>NaN</td>\n      <td>NaN</td>\n      <td>NaN</td>\n      <td>NaN</td>\n      <td>NaN</td>\n      <td>NaN</td>\n      <td>Deze patient heeft een doorverwijzing en ACR-4</td>\n      <td>NaN</td>\n      <td>NaN</td>\n    </tr>\n    <tr>\n      <th>1</th>\n      <td>2</td>\n      <td>NaN</td>\n      <td>NaN</td>\n      <td>NaN</td>\n      <td>NaN</td>\n      <td>NaN</td>\n      <td>NaN</td>\n      <td>NaN</td>\n      <td>NaN</td>\n      <td>Deze patient heeft een doorverwijzing en ACR-5</td>\n      <td>NaN</td>\n      <td>NaN</td>\n    </tr>\n    <tr>\n      <th>2</th>\n      <td>3</td>\n      <td>NaN</td>\n      <td>NaN</td>\n      <td>NaN</td>\n      <td>NaN</td>\n      <td>NaN</td>\n      <td>NaN</td>\n      <td>NaN</td>\n      <td>NaN</td>\n      <td>Deze patient heeft een doorverwijzing en ACR-6</td>\n      <td>NaN</td>\n      <td>NaN</td>\n    </tr>\n    <tr>\n      <th>3</th>\n      <td>4</td>\n      <td>NaN</td>\n      <td>NaN</td>\n      <td>NaN</td>\n      <td>NaN</td>\n      <td>NaN</td>\n      <td>NaN</td>\n      <td>NaN</td>\n      <td>NaN</td>\n      <td>Deze patient heeft een doorverwijzing en ACR-7</td>\n      <td>NaN</td>\n      <td>NaN</td>\n    </tr>\n    <tr>\n      <th>4</th>\n      <td>5</td>\n      <td>NaN</td>\n      <td>NaN</td>\n      <td>NaN</td>\n      <td>NaN</td>\n      <td>NaN</td>\n      <td>NaN</td>\n      <td>NaN</td>\n      <td>NaN</td>\n      <td>Deze patient heeft een doorverwijzing en ACR-8</td>\n      <td>NaN</td>\n      <td>NaN</td>\n    </tr>\n    <tr>\n      <th>5</th>\n      <td>6</td>\n      <td>NaN</td>\n      <td>NaN</td>\n      <td>NaN</td>\n      <td>NaN</td>\n      <td>NaN</td>\n      <td>NaN</td>\n      <td>NaN</td>\n      <td>NaN</td>\n      <td>Deze patient heeft een doorverwijzing en ACR-9</td>\n      <td>NaN</td>\n      <td>NaN</td>\n    </tr>\n  </tbody>\n</table>\n</div>"
     },
     "metadata": {},
     "output_type": "display_data"
    }
   ],
   "source": [
    "path_excel_sheet_in = '/home/jovyan/work/D/ACR-meta/Mammo-20211011-Test-out.xlsx'\n",
    "# path_excel_sheet_in = '../resources/data_example/test_acr.xlsx'\n",
    "\n",
    "path_excel_sheet_out = '/home/jovyan/work/D/ACR-meta/Mammo-20211011-Test-out-acr.xlsx'\n",
    "\n",
    "\n",
    "\n",
    "import pandas\n",
    "from IPython.core.display import display\n",
    "df = pandas.read_excel(path_excel_sheet_in, header=0)\n",
    "display(df)"
   ]
  },
  {
   "cell_type": "markdown",
   "metadata": {
    "pycharm": {
     "name": "#%% md\n"
    }
   },
   "source": [
    "Extract findings"
   ]
  },
  {
   "cell_type": "code",
   "execution_count": 18,
   "metadata": {},
   "outputs": [],
   "source": [
    "column_source = 'text'\n",
    "\n",
    "column_names_list = [\n",
    "    'acr',\n",
    "    'bevolkingsonderzoek'\n",
    "]\n",
    "\n",
    "# https://regex101.com, eerste / kan weg\n",
    "regex_list = [\n",
    "    r\"(zeer dens.{0,5}klier|ACR-{0,1}(4|vier|IV|d|D)|dense.{0,5}trial)\",\n",
    "    r\"(doorver|BVO|bevolking.{0,2}onderzoek)\"\n",
    "]"
   ]
  },
  {
   "cell_type": "code",
   "execution_count": 25,
   "metadata": {},
   "outputs": [
    {
     "name": "stdout",
     "output_type": "stream",
     "text": [
      "False\n",
      "True\n"
     ]
    }
   ],
   "source": [
    "flags = re.IGNORECASE\n",
    "def has_match(search_regex, txt):\n",
    "    if not txt:\n",
    "        return None\n",
    "    return bool(re.search(search_regex, txt, flags=flags))\n",
    "\n",
    "print(has_match(regex_list[0], \"ACR-3\"))\n",
    "print(has_match(regex_list[0], \"ACR-4\"))"
   ]
  },
  {
   "cell_type": "markdown",
   "metadata": {},
   "source": [
    "Extract corads"
   ]
  },
  {
   "cell_type": "code",
   "execution_count": 26,
   "metadata": {
    "pycharm": {
     "name": "#%%\n"
    }
   },
   "outputs": [
    {
     "data": {
      "text/plain": "   Patientnummer  Pat-ID (8tekens)  Onderzoeksnummer  Procedure RIS  \\\n0              1               NaN               NaN            NaN   \n1              2               NaN               NaN            NaN   \n2              3               NaN               NaN            NaN   \n3              4               NaN               NaN            NaN   \n4              5               NaN               NaN            NaN   \n5              6               NaN               NaN            NaN   \n\n   Datum onderzoek  Datum geboorte  #Leeftijd_Patient_Onderzoek  \\\n0              NaN             NaN                          NaN   \n1              NaN             NaN                          NaN   \n2              NaN             NaN                          NaN   \n3              NaN             NaN                          NaN   \n4              NaN             NaN                          NaN   \n5              NaN             NaN                          NaN   \n\n   Patient geslacht  # Procedures  \\\n0               NaN           NaN   \n1               NaN           NaN   \n2               NaN           NaN   \n3               NaN           NaN   \n4               NaN           NaN   \n5               NaN           NaN   \n\n                                             text  R_DATELASTCHANGED  \\\n0  Deze patient heeft een doorverwijzing en ACR-4                NaN   \n1  Deze patient heeft een doorverwijzing en ACR-5                NaN   \n2  Deze patient heeft een doorverwijzing en ACR-6                NaN   \n3  Deze patient heeft een doorverwijzing en ACR-7                NaN   \n4  Deze patient heeft een doorverwijzing en ACR-8                NaN   \n5  Deze patient heeft een doorverwijzing en ACR-9                NaN   \n\n   patient_id    acr  bevolkingsonderzoek  \n0         NaN   True                 True  \n1         NaN  False                 True  \n2         NaN  False                 True  \n3         NaN  False                 True  \n4         NaN  False                 True  \n5         NaN  False                 True  ",
      "text/html": "<div>\n<style scoped>\n    .dataframe tbody tr th:only-of-type {\n        vertical-align: middle;\n    }\n\n    .dataframe tbody tr th {\n        vertical-align: top;\n    }\n\n    .dataframe thead th {\n        text-align: right;\n    }\n</style>\n<table border=\"1\" class=\"dataframe\">\n  <thead>\n    <tr style=\"text-align: right;\">\n      <th></th>\n      <th>Patientnummer</th>\n      <th>Pat-ID (8tekens)</th>\n      <th>Onderzoeksnummer</th>\n      <th>Procedure RIS</th>\n      <th>Datum onderzoek</th>\n      <th>Datum geboorte</th>\n      <th>#Leeftijd_Patient_Onderzoek</th>\n      <th>Patient geslacht</th>\n      <th># Procedures</th>\n      <th>text</th>\n      <th>R_DATELASTCHANGED</th>\n      <th>patient_id</th>\n      <th>acr</th>\n      <th>bevolkingsonderzoek</th>\n    </tr>\n  </thead>\n  <tbody>\n    <tr>\n      <th>0</th>\n      <td>1</td>\n      <td>NaN</td>\n      <td>NaN</td>\n      <td>NaN</td>\n      <td>NaN</td>\n      <td>NaN</td>\n      <td>NaN</td>\n      <td>NaN</td>\n      <td>NaN</td>\n      <td>Deze patient heeft een doorverwijzing en ACR-4</td>\n      <td>NaN</td>\n      <td>NaN</td>\n      <td>True</td>\n      <td>True</td>\n    </tr>\n    <tr>\n      <th>1</th>\n      <td>2</td>\n      <td>NaN</td>\n      <td>NaN</td>\n      <td>NaN</td>\n      <td>NaN</td>\n      <td>NaN</td>\n      <td>NaN</td>\n      <td>NaN</td>\n      <td>NaN</td>\n      <td>Deze patient heeft een doorverwijzing en ACR-5</td>\n      <td>NaN</td>\n      <td>NaN</td>\n      <td>False</td>\n      <td>True</td>\n    </tr>\n    <tr>\n      <th>2</th>\n      <td>3</td>\n      <td>NaN</td>\n      <td>NaN</td>\n      <td>NaN</td>\n      <td>NaN</td>\n      <td>NaN</td>\n      <td>NaN</td>\n      <td>NaN</td>\n      <td>NaN</td>\n      <td>Deze patient heeft een doorverwijzing en ACR-6</td>\n      <td>NaN</td>\n      <td>NaN</td>\n      <td>False</td>\n      <td>True</td>\n    </tr>\n    <tr>\n      <th>3</th>\n      <td>4</td>\n      <td>NaN</td>\n      <td>NaN</td>\n      <td>NaN</td>\n      <td>NaN</td>\n      <td>NaN</td>\n      <td>NaN</td>\n      <td>NaN</td>\n      <td>NaN</td>\n      <td>Deze patient heeft een doorverwijzing en ACR-7</td>\n      <td>NaN</td>\n      <td>NaN</td>\n      <td>False</td>\n      <td>True</td>\n    </tr>\n    <tr>\n      <th>4</th>\n      <td>5</td>\n      <td>NaN</td>\n      <td>NaN</td>\n      <td>NaN</td>\n      <td>NaN</td>\n      <td>NaN</td>\n      <td>NaN</td>\n      <td>NaN</td>\n      <td>NaN</td>\n      <td>Deze patient heeft een doorverwijzing en ACR-8</td>\n      <td>NaN</td>\n      <td>NaN</td>\n      <td>False</td>\n      <td>True</td>\n    </tr>\n    <tr>\n      <th>5</th>\n      <td>6</td>\n      <td>NaN</td>\n      <td>NaN</td>\n      <td>NaN</td>\n      <td>NaN</td>\n      <td>NaN</td>\n      <td>NaN</td>\n      <td>NaN</td>\n      <td>NaN</td>\n      <td>Deze patient heeft een doorverwijzing en ACR-9</td>\n      <td>NaN</td>\n      <td>NaN</td>\n      <td>False</td>\n      <td>True</td>\n    </tr>\n  </tbody>\n</table>\n</div>"
     },
     "metadata": {},
     "output_type": "display_data"
    }
   ],
   "source": [
    "for index, column_target in enumerate(column_names_list):\n",
    "    search_regex = regex_list[index]\n",
    "    df[column_target] = df.apply(lambda x:has_match(search_regex=search_regex, txt=x[column_source]), axis=1)\n",
    "\n",
    "display(df)"
   ]
  },
  {
   "cell_type": "markdown",
   "metadata": {},
   "source": [
    "Run and write to out file"
   ]
  },
  {
   "cell_type": "code",
   "execution_count": 20,
   "metadata": {
    "pycharm": {
     "name": "#%%\n"
    }
   },
   "outputs": [
    {
     "ename": "FileNotFoundError",
     "evalue": "[Errno 2] No such file or directory: '/home/jovyan/work/D/ACR-meta/Mammo-20211011-Test-out-acr.xlsx'",
     "output_type": "error",
     "traceback": [
      "\u001B[0;31m---------------------------------------------------------------------------\u001B[0m",
      "\u001B[0;31mFileNotFoundError\u001B[0m                         Traceback (most recent call last)",
      "\u001B[0;32m<ipython-input-20-ebad8c08770f>\u001B[0m in \u001B[0;36m<module>\u001B[0;34m\u001B[0m\n\u001B[0;32m----> 1\u001B[0;31m \u001B[0mdf\u001B[0m\u001B[0;34m.\u001B[0m\u001B[0mto_excel\u001B[0m\u001B[0;34m(\u001B[0m\u001B[0mpath_excel_sheet_out\u001B[0m\u001B[0;34m)\u001B[0m\u001B[0;34m\u001B[0m\u001B[0;34m\u001B[0m\u001B[0m\n\u001B[0m",
      "\u001B[0;32m~/IdeaProjects/Research/venv/lib/python3.8/site-packages/pandas/core/generic.py\u001B[0m in \u001B[0;36mto_excel\u001B[0;34m(self, excel_writer, sheet_name, na_rep, float_format, columns, header, index, index_label, startrow, startcol, engine, merge_cells, encoding, inf_rep, verbose, freeze_panes, storage_options)\u001B[0m\n\u001B[1;32m   2282\u001B[0m             \u001B[0minf_rep\u001B[0m\u001B[0;34m=\u001B[0m\u001B[0minf_rep\u001B[0m\u001B[0;34m,\u001B[0m\u001B[0;34m\u001B[0m\u001B[0;34m\u001B[0m\u001B[0m\n\u001B[1;32m   2283\u001B[0m         )\n\u001B[0;32m-> 2284\u001B[0;31m         formatter.write(\n\u001B[0m\u001B[1;32m   2285\u001B[0m             \u001B[0mexcel_writer\u001B[0m\u001B[0;34m,\u001B[0m\u001B[0;34m\u001B[0m\u001B[0;34m\u001B[0m\u001B[0m\n\u001B[1;32m   2286\u001B[0m             \u001B[0msheet_name\u001B[0m\u001B[0;34m=\u001B[0m\u001B[0msheet_name\u001B[0m\u001B[0;34m,\u001B[0m\u001B[0;34m\u001B[0m\u001B[0;34m\u001B[0m\u001B[0m\n",
      "\u001B[0;32m~/IdeaProjects/Research/venv/lib/python3.8/site-packages/pandas/io/formats/excel.py\u001B[0m in \u001B[0;36mwrite\u001B[0;34m(self, writer, sheet_name, startrow, startcol, freeze_panes, engine, storage_options)\u001B[0m\n\u001B[1;32m    832\u001B[0m             \u001B[0;31m# error: Cannot instantiate abstract class 'ExcelWriter' with abstract\u001B[0m\u001B[0;34m\u001B[0m\u001B[0;34m\u001B[0m\u001B[0;34m\u001B[0m\u001B[0m\n\u001B[1;32m    833\u001B[0m             \u001B[0;31m# attributes 'engine', 'save', 'supported_extensions' and 'write_cells'\u001B[0m\u001B[0;34m\u001B[0m\u001B[0;34m\u001B[0m\u001B[0;34m\u001B[0m\u001B[0m\n\u001B[0;32m--> 834\u001B[0;31m             writer = ExcelWriter(  # type: ignore[abstract]\n\u001B[0m\u001B[1;32m    835\u001B[0m                 \u001B[0mwriter\u001B[0m\u001B[0;34m,\u001B[0m \u001B[0mengine\u001B[0m\u001B[0;34m=\u001B[0m\u001B[0mengine\u001B[0m\u001B[0;34m,\u001B[0m \u001B[0mstorage_options\u001B[0m\u001B[0;34m=\u001B[0m\u001B[0mstorage_options\u001B[0m\u001B[0;34m\u001B[0m\u001B[0;34m\u001B[0m\u001B[0m\n\u001B[1;32m    836\u001B[0m             )\n",
      "\u001B[0;32m~/IdeaProjects/Research/venv/lib/python3.8/site-packages/pandas/io/excel/_xlsxwriter.py\u001B[0m in \u001B[0;36m__init__\u001B[0;34m(self, path, engine, date_format, datetime_format, mode, storage_options, if_sheet_exists, engine_kwargs, **kwargs)\u001B[0m\n\u001B[1;32m    189\u001B[0m             \u001B[0;32mraise\u001B[0m \u001B[0mValueError\u001B[0m\u001B[0;34m(\u001B[0m\u001B[0;34m\"Append mode is not supported with xlsxwriter!\"\u001B[0m\u001B[0;34m)\u001B[0m\u001B[0;34m\u001B[0m\u001B[0;34m\u001B[0m\u001B[0m\n\u001B[1;32m    190\u001B[0m \u001B[0;34m\u001B[0m\u001B[0m\n\u001B[0;32m--> 191\u001B[0;31m         super().__init__(\n\u001B[0m\u001B[1;32m    192\u001B[0m             \u001B[0mpath\u001B[0m\u001B[0;34m,\u001B[0m\u001B[0;34m\u001B[0m\u001B[0;34m\u001B[0m\u001B[0m\n\u001B[1;32m    193\u001B[0m             \u001B[0mengine\u001B[0m\u001B[0;34m=\u001B[0m\u001B[0mengine\u001B[0m\u001B[0;34m,\u001B[0m\u001B[0;34m\u001B[0m\u001B[0;34m\u001B[0m\u001B[0m\n",
      "\u001B[0;32m~/IdeaProjects/Research/venv/lib/python3.8/site-packages/pandas/io/excel/_base.py\u001B[0m in \u001B[0;36m__init__\u001B[0;34m(self, path, engine, date_format, datetime_format, mode, storage_options, if_sheet_exists, engine_kwargs, **kwargs)\u001B[0m\n\u001B[1;32m    923\u001B[0m         \u001B[0mself\u001B[0m\u001B[0;34m.\u001B[0m\u001B[0mhandles\u001B[0m \u001B[0;34m=\u001B[0m \u001B[0mIOHandles\u001B[0m\u001B[0;34m(\u001B[0m\u001B[0mcast\u001B[0m\u001B[0;34m(\u001B[0m\u001B[0mBuffer\u001B[0m\u001B[0;34m,\u001B[0m \u001B[0mpath\u001B[0m\u001B[0;34m)\u001B[0m\u001B[0;34m,\u001B[0m \u001B[0mcompression\u001B[0m\u001B[0;34m=\u001B[0m\u001B[0;34m{\u001B[0m\u001B[0;34m\"copression\"\u001B[0m\u001B[0;34m:\u001B[0m \u001B[0;32mNone\u001B[0m\u001B[0;34m}\u001B[0m\u001B[0;34m)\u001B[0m\u001B[0;34m\u001B[0m\u001B[0;34m\u001B[0m\u001B[0m\n\u001B[1;32m    924\u001B[0m         \u001B[0;32mif\u001B[0m \u001B[0;32mnot\u001B[0m \u001B[0misinstance\u001B[0m\u001B[0;34m(\u001B[0m\u001B[0mpath\u001B[0m\u001B[0;34m,\u001B[0m \u001B[0mExcelWriter\u001B[0m\u001B[0;34m)\u001B[0m\u001B[0;34m:\u001B[0m\u001B[0;34m\u001B[0m\u001B[0;34m\u001B[0m\u001B[0m\n\u001B[0;32m--> 925\u001B[0;31m             self.handles = get_handle(\n\u001B[0m\u001B[1;32m    926\u001B[0m                 \u001B[0mpath\u001B[0m\u001B[0;34m,\u001B[0m \u001B[0mmode\u001B[0m\u001B[0;34m,\u001B[0m \u001B[0mstorage_options\u001B[0m\u001B[0;34m=\u001B[0m\u001B[0mstorage_options\u001B[0m\u001B[0;34m,\u001B[0m \u001B[0mis_text\u001B[0m\u001B[0;34m=\u001B[0m\u001B[0;32mFalse\u001B[0m\u001B[0;34m\u001B[0m\u001B[0;34m\u001B[0m\u001B[0m\n\u001B[1;32m    927\u001B[0m             )\n",
      "\u001B[0;32m~/IdeaProjects/Research/venv/lib/python3.8/site-packages/pandas/io/common.py\u001B[0m in \u001B[0;36mget_handle\u001B[0;34m(path_or_buf, mode, encoding, compression, memory_map, is_text, errors, storage_options)\u001B[0m\n\u001B[1;32m    709\u001B[0m         \u001B[0;32melse\u001B[0m\u001B[0;34m:\u001B[0m\u001B[0;34m\u001B[0m\u001B[0;34m\u001B[0m\u001B[0m\n\u001B[1;32m    710\u001B[0m             \u001B[0;31m# Binary mode\u001B[0m\u001B[0;34m\u001B[0m\u001B[0;34m\u001B[0m\u001B[0;34m\u001B[0m\u001B[0m\n\u001B[0;32m--> 711\u001B[0;31m             \u001B[0mhandle\u001B[0m \u001B[0;34m=\u001B[0m \u001B[0mopen\u001B[0m\u001B[0;34m(\u001B[0m\u001B[0mhandle\u001B[0m\u001B[0;34m,\u001B[0m \u001B[0mioargs\u001B[0m\u001B[0;34m.\u001B[0m\u001B[0mmode\u001B[0m\u001B[0;34m)\u001B[0m\u001B[0;34m\u001B[0m\u001B[0;34m\u001B[0m\u001B[0m\n\u001B[0m\u001B[1;32m    712\u001B[0m         \u001B[0mhandles\u001B[0m\u001B[0;34m.\u001B[0m\u001B[0mappend\u001B[0m\u001B[0;34m(\u001B[0m\u001B[0mhandle\u001B[0m\u001B[0;34m)\u001B[0m\u001B[0;34m\u001B[0m\u001B[0;34m\u001B[0m\u001B[0m\n\u001B[1;32m    713\u001B[0m \u001B[0;34m\u001B[0m\u001B[0m\n",
      "\u001B[0;31mFileNotFoundError\u001B[0m: [Errno 2] No such file or directory: '/home/jovyan/work/D/ACR-meta/Mammo-20211011-Test-out-acr.xlsx'"
     ]
    }
   ],
   "source": [
    "df.to_excel(path_excel_sheet_out)"
   ]
  }
 ],
 "metadata": {
  "kernelspec": {
   "display_name": "Python 3",
   "language": "python",
   "name": "python3"
  },
  "language_info": {
   "codemirror_mode": {
    "name": "ipython",
    "version": 3
   },
   "file_extension": ".py",
   "mimetype": "text/x-python",
   "name": "python",
   "nbconvert_exporter": "python",
   "pygments_lexer": "ipython3",
   "version": "3.7.6"
  }
 },
 "nbformat": 4,
 "nbformat_minor": 1
}