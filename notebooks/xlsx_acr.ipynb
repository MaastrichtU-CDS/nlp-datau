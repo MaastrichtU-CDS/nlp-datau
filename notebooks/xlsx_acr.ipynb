{
 "cells": [
  {
   "cell_type": "markdown",
   "metadata": {
    "pycharm": {
     "name": "#%% md\n"
    }
   },
   "source": [
    "# ACR extraction #\n",
    "\n",
    "Parse text documents which are based on a template and stored in an excel document"
   ]
  },
  {
   "cell_type": "markdown",
   "metadata": {},
   "source": [
    "Install dependencies and import the nlp_datau package"
   ]
  },
  {
   "cell_type": "code",
   "execution_count": null,
   "metadata": {
    "pycharm": {
     "name": "#%%\n"
    }
   },
   "outputs": [],
   "source": [
    "import yaml\n",
    "import re\n",
    "import sys\n",
    "\n",
    "!pip install -r ./../requirements.txt\n",
    "sys.path.append(\"./../\")\n"
   ]
  },
  {
   "cell_type": "markdown",
   "metadata": {
    "pycharm": {
     "name": "#%% md\n"
    }
   },
   "source": [
    "## 1. Extract substring of substring ##\n",
    "\n",
    "Set variables"
   ]
  },
  {
   "cell_type": "code",
   "execution_count": null,
   "metadata": {},
   "outputs": [],
   "source": [
    "path_excel_sheet_in = '/home/jovyan/work/D/ACR-meta/Mammo-20211011-Test-out.xlsx'\n",
    "# path_excel_sheet_in = '/home/jovyan/work/resources/data_example/test_acr.xlsx'\n",
    "\n",
    "path_excel_sheet_out = '/home/jovyan/work/D/ACR-meta/Mammo-20211011-Test-out-acr.xlsx'\n",
    "\n",
    "\n",
    "\n",
    "import pandas\n",
    "from IPython.core.display import display\n",
    "df = pandas.read_excel(path_excel_sheet_in, header=0)\n",
    "display(df)"
   ]
  },
  {
   "cell_type": "markdown",
   "metadata": {
    "pycharm": {
     "name": "#%% md\n"
    }
   },
   "source": [
    "Extract findings"
   ]
  },
  {
   "cell_type": "code",
   "execution_count": null,
   "metadata": {},
   "outputs": [],
   "source": [
    "column_source = 'text'\n",
    "\n",
    "column_names_list = [\n",
    "    'acr',\n",
    "    'bevolkingsonderzoek'\n",
    "]\n",
    "\n",
    "# https://regex101.com, eerste / kan weg\n",
    "regex_list = [\n",
    "    r\"(zeer dens.{0,5}klier|ACR-{0,1}(4|vier|IV|d|D)|dense.{0,5}trial)\",\n",
    "    r\"(doorver|BVO|bevolking.{0,2}onderzoek)\"\n",
    "]"
   ]
  },
  {
   "cell_type": "code",
   "execution_count": null,
   "metadata": {},
   "outputs": [],
   "source": [
    "flags = re.IGNORECASE\n",
    "def has_match(search_regex, txt):\n",
    "    if not txt or not isinstance(txt, str):\n",
    "        return False\n",
    "    return bool(re.search(search_regex, txt, flags=flags))\n",
    "\n",
    "print(has_match(regex_list[0], \"ACR-3\"))\n",
    "print(has_match(regex_list[0], \"ACR-4\"))"
   ]
  },
  {
   "cell_type": "markdown",
   "metadata": {},
   "source": [
    "Extract corads"
   ]
  },
  {
   "cell_type": "code",
   "execution_count": null,
   "metadata": {
    "pycharm": {
     "name": "#%%\n"
    }
   },
   "outputs": [],
   "source": [
    "for index, column_target in enumerate(column_names_list):\n",
    "    search_regex = regex_list[index]\n",
    "    df[column_target] = df.apply(lambda x:has_match(search_regex=search_regex, txt=x[column_source]), axis=1)\n",
    "\n",
    "display(df)"
   ]
  },
  {
   "cell_type": "markdown",
   "metadata": {},
   "source": [
    "Run and write to out file"
   ]
  },
  {
   "cell_type": "code",
   "execution_count": null,
   "metadata": {
    "pycharm": {
     "name": "#%%\n"
    }
   },
   "outputs": [],
   "source": [
    "df.to_excel(path_excel_sheet_out)"
   ]
  }
 ],
 "metadata": {
  "kernelspec": {
   "display_name": "Python 3",
   "language": "python",
   "name": "python3"
  },
  "language_info": {
   "codemirror_mode": {
    "name": "ipython",
    "version": 3
   },
   "file_extension": ".py",
   "mimetype": "text/x-python",
   "name": "python",
   "nbconvert_exporter": "python",
   "pygments_lexer": "ipython3",
   "version": "3.7.6"
  }
 },
 "nbformat": 4,
 "nbformat_minor": 1
}
