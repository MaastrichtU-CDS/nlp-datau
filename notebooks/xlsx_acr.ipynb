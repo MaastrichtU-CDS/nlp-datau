{
 "cells": [
  {
   "cell_type": "markdown",
   "metadata": {
    "pycharm": {
     "name": "#%% md\n"
    }
   },
   "source": [
    "# ACR extraction #\n",
    "\n",
    "Parse text documents which are based on a template and stored in an excel document"
   ]
  },
  {
   "cell_type": "markdown",
   "metadata": {},
   "source": [
    "Install dependencies and import the nlp_datau package"
   ]
  },
  {
   "cell_type": "code",
   "execution_count": 3,
   "metadata": {
    "pycharm": {
     "is_executing": false,
     "name": "#%%\n"
    }
   },
   "outputs": [
    {
     "name": "stdout",
     "output_type": "stream",
     "text": [
      "Requirement already satisfied: pandas in /opt/conda/lib/python3.7/site-packages (from -r ./../requirements.txt (line 1)) (1.0.2)\n",
      "Requirement already satisfied: openpyxl in /opt/conda/lib/python3.7/site-packages (from -r ./../requirements.txt (line 2)) (3.0.3)\n",
      "Requirement already satisfied: python-docx==0.8.10 in /opt/conda/lib/python3.7/site-packages (from -r ./../requirements.txt (line 3)) (0.8.10)\n",
      "Requirement already satisfied: elasticsearch<8.0.0,>=7.0.0 in /opt/conda/lib/python3.7/site-packages (from -r ./../requirements.txt (line 4)) (7.6.0)\n",
      "Requirement already satisfied: xmltodict in /opt/conda/lib/python3.7/site-packages (from -r ./../requirements.txt (line 5)) (0.12.0)\n",
      "Requirement already satisfied: spacy<2.3.0,>=2.2.0 in /opt/conda/lib/python3.7/site-packages (from -r ./../requirements.txt (line 6)) (2.2.4)\n",
      "Requirement already satisfied: numpy>=1.13.3 in /opt/conda/lib/python3.7/site-packages (from pandas->-r ./../requirements.txt (line 1)) (1.18.1)\n",
      "Requirement already satisfied: python-dateutil>=2.6.1 in /opt/conda/lib/python3.7/site-packages (from pandas->-r ./../requirements.txt (line 1)) (2.8.1)\n",
      "Requirement already satisfied: pytz>=2017.2 in /opt/conda/lib/python3.7/site-packages (from pandas->-r ./../requirements.txt (line 1)) (2019.3)\n",
      "Requirement already satisfied: et-xmlfile in /opt/conda/lib/python3.7/site-packages (from openpyxl->-r ./../requirements.txt (line 2)) (1.0.1)\n",
      "Requirement already satisfied: jdcal in /opt/conda/lib/python3.7/site-packages (from openpyxl->-r ./../requirements.txt (line 2)) (1.4.1)\n",
      "Requirement already satisfied: lxml>=2.3.2 in /opt/conda/lib/python3.7/site-packages (from python-docx==0.8.10->-r ./../requirements.txt (line 3)) (4.5.0)\n",
      "Requirement already satisfied: urllib3>=1.21.1 in /opt/conda/lib/python3.7/site-packages (from elasticsearch<8.0.0,>=7.0.0->-r ./../requirements.txt (line 4)) (1.25.7)\n",
      "Requirement already satisfied: catalogue<1.1.0,>=0.0.7 in /opt/conda/lib/python3.7/site-packages (from spacy<2.3.0,>=2.2.0->-r ./../requirements.txt (line 6)) (1.0.0)\n",
      "Requirement already satisfied: blis<0.5.0,>=0.4.0 in /opt/conda/lib/python3.7/site-packages (from spacy<2.3.0,>=2.2.0->-r ./../requirements.txt (line 6)) (0.4.1)\n",
      "Requirement already satisfied: thinc==7.4.0 in /opt/conda/lib/python3.7/site-packages (from spacy<2.3.0,>=2.2.0->-r ./../requirements.txt (line 6)) (7.4.0)\n",
      "Requirement already satisfied: wasabi<1.1.0,>=0.4.0 in /opt/conda/lib/python3.7/site-packages (from spacy<2.3.0,>=2.2.0->-r ./../requirements.txt (line 6)) (0.6.0)\n",
      "Requirement already satisfied: srsly<1.1.0,>=1.0.2 in /opt/conda/lib/python3.7/site-packages (from spacy<2.3.0,>=2.2.0->-r ./../requirements.txt (line 6)) (1.0.2)\n",
      "Requirement already satisfied: cymem<2.1.0,>=2.0.2 in /opt/conda/lib/python3.7/site-packages (from spacy<2.3.0,>=2.2.0->-r ./../requirements.txt (line 6)) (2.0.3)\n",
      "Requirement already satisfied: tqdm<5.0.0,>=4.38.0 in /opt/conda/lib/python3.7/site-packages (from spacy<2.3.0,>=2.2.0->-r ./../requirements.txt (line 6)) (4.43.0)\n",
      "Requirement already satisfied: plac<1.2.0,>=0.9.6 in /opt/conda/lib/python3.7/site-packages (from spacy<2.3.0,>=2.2.0->-r ./../requirements.txt (line 6)) (1.1.3)\n",
      "Requirement already satisfied: murmurhash<1.1.0,>=0.28.0 in /opt/conda/lib/python3.7/site-packages (from spacy<2.3.0,>=2.2.0->-r ./../requirements.txt (line 6)) (1.0.2)\n",
      "Requirement already satisfied: setuptools in /opt/conda/lib/python3.7/site-packages (from spacy<2.3.0,>=2.2.0->-r ./../requirements.txt (line 6)) (46.0.0.post20200311)\n",
      "Requirement already satisfied: requests<3.0.0,>=2.13.0 in /opt/conda/lib/python3.7/site-packages (from spacy<2.3.0,>=2.2.0->-r ./../requirements.txt (line 6)) (2.23.0)\n",
      "Requirement already satisfied: preshed<3.1.0,>=3.0.2 in /opt/conda/lib/python3.7/site-packages (from spacy<2.3.0,>=2.2.0->-r ./../requirements.txt (line 6)) (3.0.2)\n",
      "Requirement already satisfied: six>=1.5 in /opt/conda/lib/python3.7/site-packages (from python-dateutil>=2.6.1->pandas->-r ./../requirements.txt (line 1)) (1.14.0)\n",
      "Requirement already satisfied: importlib-metadata>=0.20; python_version < \"3.8\" in /opt/conda/lib/python3.7/site-packages (from catalogue<1.1.0,>=0.0.7->spacy<2.3.0,>=2.2.0->-r ./../requirements.txt (line 6)) (1.5.0)\n",
      "Requirement already satisfied: idna<3,>=2.5 in /opt/conda/lib/python3.7/site-packages (from requests<3.0.0,>=2.13.0->spacy<2.3.0,>=2.2.0->-r ./../requirements.txt (line 6)) (2.9)\n",
      "Requirement already satisfied: certifi>=2017.4.17 in /opt/conda/lib/python3.7/site-packages (from requests<3.0.0,>=2.13.0->spacy<2.3.0,>=2.2.0->-r ./../requirements.txt (line 6)) (2019.11.28)\n",
      "Requirement already satisfied: chardet<4,>=3.0.2 in /opt/conda/lib/python3.7/site-packages (from requests<3.0.0,>=2.13.0->spacy<2.3.0,>=2.2.0->-r ./../requirements.txt (line 6)) (3.0.4)\n",
      "Requirement already satisfied: zipp>=0.5 in /opt/conda/lib/python3.7/site-packages (from importlib-metadata>=0.20; python_version < \"3.8\"->catalogue<1.1.0,>=0.0.7->spacy<2.3.0,>=2.2.0->-r ./../requirements.txt (line 6)) (3.1.0)\n"
     ]
    }
   ],
   "source": [
    "import yaml\n",
    "import re\n",
    "import sys\n",
    "\n",
    "!pip install -r ./../requirements.txt\n",
    "sys.path.append(\"./../\")\n"
   ]
  },
  {
   "cell_type": "markdown",
   "metadata": {
    "pycharm": {
     "name": "#%% md\n"
    }
   },
   "source": [
    "## 1. Extract substring of substring ##\n",
    "\n",
    "Set variables"
   ]
  },
  {
   "cell_type": "code",
   "execution_count": 41,
   "metadata": {
    "pycharm": {
     "is_executing": false
    }
   },
   "outputs": [
    {
     "data": {
      "text/html": [
       "<div>\n",
       "<style scoped>\n",
       "    .dataframe tbody tr th:only-of-type {\n",
       "        vertical-align: middle;\n",
       "    }\n",
       "\n",
       "    .dataframe tbody tr th {\n",
       "        vertical-align: top;\n",
       "    }\n",
       "\n",
       "    .dataframe thead th {\n",
       "        text-align: right;\n",
       "    }\n",
       "</style>\n",
       "<table border=\"1\" class=\"dataframe\">\n",
       "  <thead>\n",
       "    <tr style=\"text-align: right;\">\n",
       "      <th></th>\n",
       "      <th>Unnamed: 0</th>\n",
       "      <th>Patientnummer</th>\n",
       "      <th>Pat-ID (8tekens)</th>\n",
       "      <th>Onderzoeksnummer</th>\n",
       "      <th>Procedure RIS</th>\n",
       "      <th>Datum onderzoek</th>\n",
       "      <th>Datum geboorte</th>\n",
       "      <th>#Leeftijd_Patient_Onderzoek</th>\n",
       "      <th>Patient geslacht</th>\n",
       "      <th># Procedures</th>\n",
       "      <th>text</th>\n",
       "      <th>R_DATELASTCHANGED</th>\n",
       "      <th>patient_id</th>\n",
       "    </tr>\n",
       "  </thead>\n",
       "  <tbody>\n",
       "    <tr>\n",
       "      <th>0</th>\n",
       "      <td>0</td>\n",
       "      <td>31043656</td>\n",
       "      <td>31043656</td>\n",
       "      <td>100002494</td>\n",
       "      <td>MG Mammo - links e/o rechts</td>\n",
       "      <td>2013-04-22 08:46:00</td>\n",
       "      <td>1955-03-07</td>\n",
       "      <td>58</td>\n",
       "      <td>V</td>\n",
       "      <td>1</td>\n",
       "      <td>Verslagstatus: Gevalideerd\\n\\nMedische gegeven...</td>\n",
       "      <td>2013-04-22T09:18:00</td>\n",
       "      <td>31043656.0</td>\n",
       "    </tr>\n",
       "    <tr>\n",
       "      <th>1</th>\n",
       "      <td>1</td>\n",
       "      <td>31043656</td>\n",
       "      <td>31043656</td>\n",
       "      <td>100211197</td>\n",
       "      <td>MG Mammo - links e/o rechts</td>\n",
       "      <td>2014-04-23 09:56:00</td>\n",
       "      <td>1955-03-07</td>\n",
       "      <td>59</td>\n",
       "      <td>V</td>\n",
       "      <td>1</td>\n",
       "      <td>NaN</td>\n",
       "      <td>NaN</td>\n",
       "      <td>NaN</td>\n",
       "    </tr>\n",
       "    <tr>\n",
       "      <th>2</th>\n",
       "      <td>2</td>\n",
       "      <td>31043656</td>\n",
       "      <td>31043656</td>\n",
       "      <td>100606486</td>\n",
       "      <td>MG Mammo - links e/o rechts</td>\n",
       "      <td>2015-04-22 09:19:00</td>\n",
       "      <td>1955-03-07</td>\n",
       "      <td>60</td>\n",
       "      <td>V</td>\n",
       "      <td>1</td>\n",
       "      <td>NaN</td>\n",
       "      <td>NaN</td>\n",
       "      <td>NaN</td>\n",
       "    </tr>\n",
       "    <tr>\n",
       "      <th>3</th>\n",
       "      <td>3</td>\n",
       "      <td>31043656</td>\n",
       "      <td>31043656</td>\n",
       "      <td>100676195</td>\n",
       "      <td>MG Mammo - links e/o rechts</td>\n",
       "      <td>2016-05-02 12:58:00</td>\n",
       "      <td>1955-03-07</td>\n",
       "      <td>61</td>\n",
       "      <td>V</td>\n",
       "      <td>1</td>\n",
       "      <td>NaN</td>\n",
       "      <td>NaN</td>\n",
       "      <td>NaN</td>\n",
       "    </tr>\n",
       "    <tr>\n",
       "      <th>4</th>\n",
       "      <td>4</td>\n",
       "      <td>31043656</td>\n",
       "      <td>31043656</td>\n",
       "      <td>100918983</td>\n",
       "      <td>MG Mammo - links e/o rechts</td>\n",
       "      <td>2017-05-15 07:54:00</td>\n",
       "      <td>1955-03-07</td>\n",
       "      <td>62</td>\n",
       "      <td>V</td>\n",
       "      <td>1</td>\n",
       "      <td>NaN</td>\n",
       "      <td>NaN</td>\n",
       "      <td>NaN</td>\n",
       "    </tr>\n",
       "    <tr>\n",
       "      <th>5</th>\n",
       "      <td>5</td>\n",
       "      <td>31044357</td>\n",
       "      <td>31044357</td>\n",
       "      <td>100931060</td>\n",
       "      <td>MG Mammo - links e/o rechts</td>\n",
       "      <td>2016-05-31 13:52:00</td>\n",
       "      <td>1965-04-07</td>\n",
       "      <td>51</td>\n",
       "      <td>V</td>\n",
       "      <td>1</td>\n",
       "      <td>NaN</td>\n",
       "      <td>NaN</td>\n",
       "      <td>NaN</td>\n",
       "    </tr>\n",
       "    <tr>\n",
       "      <th>6</th>\n",
       "      <td>6</td>\n",
       "      <td>31044357</td>\n",
       "      <td>31044357</td>\n",
       "      <td>101196171</td>\n",
       "      <td>MG Mammo - links e/o rechts</td>\n",
       "      <td>2017-07-14 14:26:00</td>\n",
       "      <td>1965-04-07</td>\n",
       "      <td>52</td>\n",
       "      <td>V</td>\n",
       "      <td>1</td>\n",
       "      <td>NaN</td>\n",
       "      <td>NaN</td>\n",
       "      <td>NaN</td>\n",
       "    </tr>\n",
       "    <tr>\n",
       "      <th>7</th>\n",
       "      <td>7</td>\n",
       "      <td>31044357</td>\n",
       "      <td>31044357</td>\n",
       "      <td>101540675</td>\n",
       "      <td>MG Mammo - links e/o rechts</td>\n",
       "      <td>2018-12-14 13:45:00</td>\n",
       "      <td>1965-04-07</td>\n",
       "      <td>53</td>\n",
       "      <td>V</td>\n",
       "      <td>1</td>\n",
       "      <td>Verslagstatus: Gevalideerd\\n\\nKlinische gegeve...</td>\n",
       "      <td>2018-12-14T14:42:00</td>\n",
       "      <td>31044357.0</td>\n",
       "    </tr>\n",
       "  </tbody>\n",
       "</table>\n",
       "</div>"
      ],
      "text/plain": [
       "   Unnamed: 0  Patientnummer  Pat-ID (8tekens)  Onderzoeksnummer  \\\n",
       "0           0       31043656          31043656         100002494   \n",
       "1           1       31043656          31043656         100211197   \n",
       "2           2       31043656          31043656         100606486   \n",
       "3           3       31043656          31043656         100676195   \n",
       "4           4       31043656          31043656         100918983   \n",
       "5           5       31044357          31044357         100931060   \n",
       "6           6       31044357          31044357         101196171   \n",
       "7           7       31044357          31044357         101540675   \n",
       "\n",
       "                 Procedure RIS     Datum onderzoek Datum geboorte  \\\n",
       "0  MG Mammo - links e/o rechts 2013-04-22 08:46:00     1955-03-07   \n",
       "1  MG Mammo - links e/o rechts 2014-04-23 09:56:00     1955-03-07   \n",
       "2  MG Mammo - links e/o rechts 2015-04-22 09:19:00     1955-03-07   \n",
       "3  MG Mammo - links e/o rechts 2016-05-02 12:58:00     1955-03-07   \n",
       "4  MG Mammo - links e/o rechts 2017-05-15 07:54:00     1955-03-07   \n",
       "5  MG Mammo - links e/o rechts 2016-05-31 13:52:00     1965-04-07   \n",
       "6  MG Mammo - links e/o rechts 2017-07-14 14:26:00     1965-04-07   \n",
       "7  MG Mammo - links e/o rechts 2018-12-14 13:45:00     1965-04-07   \n",
       "\n",
       "   #Leeftijd_Patient_Onderzoek Patient geslacht  # Procedures  \\\n",
       "0                           58                V             1   \n",
       "1                           59                V             1   \n",
       "2                           60                V             1   \n",
       "3                           61                V             1   \n",
       "4                           62                V             1   \n",
       "5                           51                V             1   \n",
       "6                           52                V             1   \n",
       "7                           53                V             1   \n",
       "\n",
       "                                                text    R_DATELASTCHANGED  \\\n",
       "0  Verslagstatus: Gevalideerd\\n\\nMedische gegeven...  2013-04-22T09:18:00   \n",
       "1                                                NaN                  NaN   \n",
       "2                                                NaN                  NaN   \n",
       "3                                                NaN                  NaN   \n",
       "4                                                NaN                  NaN   \n",
       "5                                                NaN                  NaN   \n",
       "6                                                NaN                  NaN   \n",
       "7  Verslagstatus: Gevalideerd\\n\\nKlinische gegeve...  2018-12-14T14:42:00   \n",
       "\n",
       "   patient_id  \n",
       "0  31043656.0  \n",
       "1         NaN  \n",
       "2         NaN  \n",
       "3         NaN  \n",
       "4         NaN  \n",
       "5         NaN  \n",
       "6         NaN  \n",
       "7  31044357.0  "
      ]
     },
     "metadata": {},
     "output_type": "display_data"
    }
   ],
   "source": [
    "path_excel_sheet_in = '/home/jovyan/work/D/ACR-meta/Mammo-20211011-Test-out.xlsx'\n",
    "path_excel_sheet_out = '/home/jovyan/work/D/ACR-meta/Mammo-20211011-Test-out-acr.xlsx'\n",
    "\n",
    "\n",
    "\n",
    "import pandas\n",
    "from IPython.core.display import display\n",
    "df = pandas.read_excel(path_excel_sheet_in, header=0)\n",
    "display(df)"
   ]
  },
  {
   "cell_type": "markdown",
   "metadata": {
    "pycharm": {
     "name": "#%% md\n"
    }
   },
   "source": [
    "Extract findings"
   ]
  },
  {
   "cell_type": "code",
   "execution_count": 49,
   "metadata": {},
   "outputs": [],
   "source": [
    "column_source = 'text'\n",
    "\n",
    "column_names_list = ['acr', 'bevolkingsonderzoek']\n",
    "\n",
    "# https://regex101.com, eerste / kan weg\n",
    "regex_0 = r\"(zeer dens.{0,5}klier|ACR (4|vier|IV|d|D)|dense.{0,5}trial)\"\n",
    "regex_1 = r\"(doorver|BVO|bevolking.{0,2}onderzoek)\"\n",
    "\n",
    "regex_list = [regex_0, regex_1]"
   ]
  },
  {
   "cell_type": "code",
   "execution_count": 68,
   "metadata": {},
   "outputs": [
    {
     "data": {
      "text/plain": [
       "True"
      ]
     },
     "execution_count": 68,
     "metadata": {},
     "output_type": "execute_result"
    }
   ],
   "source": [
    "\n",
    "flags = re.IGNORECASE\n",
    "\n",
    "def has_match(regex, txt, flags):\n",
    "    if not txt:\n",
    "        return None\n",
    "    return bool(re.search(regex, txt, flags=flags))\n",
    "    \n",
    "    \n",
    "has_match(regex_list[1], \"doorverwijs\", flags)"
   ]
  },
  {
   "cell_type": "markdown",
   "metadata": {},
   "source": [
    "Extract corads"
   ]
  },
  {
   "cell_type": "code",
   "execution_count": null,
   "metadata": {
    "pycharm": {
     "is_executing": false,
     "name": "#%%\n"
    }
   },
   "outputs": [],
   "source": [
    "for index, column_target in enumerate(column_names_list):\n",
    "    df.apply(lambda x:has_match(regex=regex, txt=x[column_source], flags=flags), axis=1)\n",
    "display(df)"
   ]
  },
  {
   "cell_type": "markdown",
   "metadata": {},
   "source": [
    "Run and write to out file"
   ]
  },
  {
   "cell_type": "code",
   "execution_count": null,
   "metadata": {
    "pycharm": {
     "is_executing": false,
     "name": "#%%\n"
    }
   },
   "outputs": [],
   "source": [
    "df.to_excel(path_excel_sheet_out)"
   ]
  }
 ],
 "metadata": {
  "kernelspec": {
   "display_name": "Python 3",
   "language": "python",
   "name": "python3"
  },
  "language_info": {
   "codemirror_mode": {
    "name": "ipython",
    "version": 3
   },
   "file_extension": ".py",
   "mimetype": "text/x-python",
   "name": "python",
   "nbconvert_exporter": "python",
   "pygments_lexer": "ipython3",
   "version": "3.7.6"
  },
  "pycharm": {
   "stem_cell": {
    "cell_type": "raw",
    "metadata": {
     "collapsed": false
    },
    "source": []
   }
  }
 },
 "nbformat": 4,
 "nbformat_minor": 1
}
