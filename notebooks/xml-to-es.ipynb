{
 "cells": [
  {
   "cell_type": "markdown",
   "source": [
    "# XML reports to Elasticsearch\n",
    "\n",
    "Functionality can be tested with the MEANTIME corpus [download](http://www.newsreader-project.eu/results/data/wikinews/)"
   ],
   "metadata": {
    "collapsed": false,
    "pycharm": {
     "name": "#%% md\n"
    }
   }
  },
  {
   "cell_type": "markdown",
   "source": [
    "Import the nlp_datau package"
   ],
   "metadata": {
    "collapsed": false,
    "pycharm": {
     "name": "#%% md\n"
    }
   }
  },
  {
   "cell_type": "code",
   "execution_count": 1,
   "outputs": [
    {
     "name": "stdout",
     "text": [
      "Requirement already satisfied: elasticsearch<8.0.0,>=7.0.0 in c:\\users\\sander.puts\\ideaprojects\\work\\venv\\lib\\site-packages (from -r ./../requirements.txt (line 1)) (7.6.0)\n",
      "Requirement already satisfied: xmltodict in c:\\users\\sander.puts\\ideaprojects\\work\\venv\\lib\\site-packages (from -r ./../requirements.txt (line 2)) (0.12.0)\n",
      "Requirement already satisfied: spacy<2.3.0,>=2.2.0 in c:\\users\\sander.puts\\ideaprojects\\work\\venv\\lib\\site-packages (from -r ./../requirements.txt (line 3)) (2.2.4)\n",
      "Requirement already satisfied: urllib3>=1.21.1 in c:\\users\\sander.puts\\ideaprojects\\work\\venv\\lib\\site-packages (from elasticsearch<8.0.0,>=7.0.0->-r ./../requirements.txt (line 1)) (1.25.8)\n",
      "Requirement already satisfied: murmurhash<1.1.0,>=0.28.0 in c:\\users\\sander.puts\\ideaprojects\\work\\venv\\lib\\site-packages (from spacy<2.3.0,>=2.2.0->-r ./../requirements.txt (line 3)) (1.0.2)\n",
      "Requirement already satisfied: plac<1.2.0,>=0.9.6 in c:\\users\\sander.puts\\ideaprojects\\work\\venv\\lib\\site-packages (from spacy<2.3.0,>=2.2.0->-r ./../requirements.txt (line 3)) (1.1.3)\n",
      "Requirement already satisfied: wasabi<1.1.0,>=0.4.0 in c:\\users\\sander.puts\\ideaprojects\\work\\venv\\lib\\site-packages (from spacy<2.3.0,>=2.2.0->-r ./../requirements.txt (line 3)) (0.6.0)\n",
      "Requirement already satisfied: blis<0.5.0,>=0.4.0 in c:\\users\\sander.puts\\ideaprojects\\work\\venv\\lib\\site-packages (from spacy<2.3.0,>=2.2.0->-r ./../requirements.txt (line 3)) (0.4.1)\n",
      "Requirement already satisfied: catalogue<1.1.0,>=0.0.7 in c:\\users\\sander.puts\\ideaprojects\\work\\venv\\lib\\site-packages (from spacy<2.3.0,>=2.2.0->-r ./../requirements.txt (line 3)) (1.0.0)\n",
      "Requirement already satisfied: thinc==7.4.0 in c:\\users\\sander.puts\\ideaprojects\\work\\venv\\lib\\site-packages (from spacy<2.3.0,>=2.2.0->-r ./../requirements.txt (line 3)) (7.4.0)\n",
      "Requirement already satisfied: tqdm<5.0.0,>=4.38.0 in c:\\users\\sander.puts\\ideaprojects\\work\\venv\\lib\\site-packages (from spacy<2.3.0,>=2.2.0->-r ./../requirements.txt (line 3)) (4.43.0)\n",
      "Requirement already satisfied: requests<3.0.0,>=2.13.0 in c:\\users\\sander.puts\\ideaprojects\\work\\venv\\lib\\site-packages (from spacy<2.3.0,>=2.2.0->-r ./../requirements.txt (line 3)) (2.23.0)\n",
      "Requirement already satisfied: cymem<2.1.0,>=2.0.2 in c:\\users\\sander.puts\\ideaprojects\\work\\venv\\lib\\site-packages (from spacy<2.3.0,>=2.2.0->-r ./../requirements.txt (line 3)) (2.0.3)\n",
      "Requirement already satisfied: numpy>=1.15.0 in c:\\users\\sander.puts\\ideaprojects\\work\\venv\\lib\\site-packages (from spacy<2.3.0,>=2.2.0->-r ./../requirements.txt (line 3)) (1.18.2)\n",
      "Requirement already satisfied: srsly<1.1.0,>=1.0.2 in c:\\users\\sander.puts\\ideaprojects\\work\\venv\\lib\\site-packages (from spacy<2.3.0,>=2.2.0->-r ./../requirements.txt (line 3)) (1.0.2)\n",
      "Requirement already satisfied: setuptools in c:\\users\\sander.puts\\ideaprojects\\work\\venv\\lib\\site-packages\\setuptools-40.8.0-py3.7.egg (from spacy<2.3.0,>=2.2.0->-r ./../requirements.txt (line 3)) (40.8.0)\n",
      "Requirement already satisfied: preshed<3.1.0,>=3.0.2 in c:\\users\\sander.puts\\ideaprojects\\work\\venv\\lib\\site-packages (from spacy<2.3.0,>=2.2.0->-r ./../requirements.txt (line 3)) (3.0.2)\n",
      "Requirement already satisfied: importlib-metadata>=0.20; python_version < \"3.8\" in c:\\users\\sander.puts\\ideaprojects\\work\\venv\\lib\\site-packages (from catalogue<1.1.0,>=0.0.7->spacy<2.3.0,>=2.2.0->-r ./../requirements.txt (line 3)) (1.5.0)\n",
      "Requirement already satisfied: chardet<4,>=3.0.2 in c:\\users\\sander.puts\\ideaprojects\\work\\venv\\lib\\site-packages (from requests<3.0.0,>=2.13.0->spacy<2.3.0,>=2.2.0->-r ./../requirements.txt (line 3)) (3.0.4)\n",
      "Requirement already satisfied: idna<3,>=2.5 in c:\\users\\sander.puts\\ideaprojects\\work\\venv\\lib\\site-packages (from requests<3.0.0,>=2.13.0->spacy<2.3.0,>=2.2.0->-r ./../requirements.txt (line 3)) (2.9)\n",
      "Requirement already satisfied: certifi>=2017.4.17 in c:\\users\\sander.puts\\ideaprojects\\work\\venv\\lib\\site-packages (from requests<3.0.0,>=2.13.0->spacy<2.3.0,>=2.2.0->-r ./../requirements.txt (line 3)) (2019.11.28)\n",
      "Requirement already satisfied: zipp>=0.5 in c:\\users\\sander.puts\\ideaprojects\\work\\venv\\lib\\site-packages (from importlib-metadata>=0.20; python_version < \"3.8\"->catalogue<1.1.0,>=0.0.7->spacy<2.3.0,>=2.2.0->-r ./../requirements.txt (line 3)) (3.1.0)\n"
     ],
     "output_type": "stream"
    }
   ],
   "source": [
    "import sys\n",
    "sys.path.append(\"../nlp_datau\")\n",
    "!pip install -r ./../requirements.txt"
   ],
   "metadata": {
    "collapsed": false,
    "pycharm": {
     "name": "#%%\n",
     "is_executing": false
    }
   }
  },
  {
   "cell_type": "markdown",
   "source": [
    "Configure the directory containing the xml files and xml document (id of the document in the xml file (using a dot notation)"
   ],
   "metadata": {
    "collapsed": false,
    "pycharm": {
     "name": "#%% md\n"
    }
   }
  },
  {
   "cell_type": "code",
   "execution_count": 2,
   "outputs": [],
   "source": [
    "directory_in_str = 'C:\\Data\\Research\\Test'\n",
    "field_id = \"ClinicalDocument.setId.@extension\""
   ],
   "metadata": {
    "collapsed": false,
    "pycharm": {
     "name": "#%%\n",
     "is_executing": false
    }
   }
  },
  {
   "cell_type": "markdown",
   "source": [
    "Defined a name for the Elasticsearch index (hint project name)"
   ],
   "metadata": {
    "collapsed": false,
    "pycharm": {
     "name": "#%% md\n"
    }
   }
  },
  {
   "cell_type": "code",
   "execution_count": 3,
   "outputs": [],
   "source": [
    "es_index = \"free-text-reports\""
   ],
   "metadata": {
    "collapsed": false,
    "pycharm": {
     "name": "#%%\n",
     "is_executing": false
    }
   }
  },
  {
   "cell_type": "markdown",
   "source": [
    "Configure whitelist dictionary: the key is the Elasticsearch document target field, the value the source field in the XML file.\n",
    "\n",
    "The example below shows how to index field embedded field \"text\" to \"text\".\n",
    "By definining an optional start-and/or-stop-line, you can extract substrings from the source field"
   ],
   "metadata": {
    "collapsed": false,
    "pycharm": {
     "name": "#%% md\n"
    }
   }
  },
  {
   "cell_type": "code",
   "execution_count": 4,
   "outputs": [],
   "source": [
    "whitelist_dict = {\n",
    "                     \"text\": {\n",
    "                         \"field\": \"ClinicalDocument.component.structuredBody.component.section.text\",\n",
    "                         \"type\": \"xml\",\n",
    "                         \"xml-field\": \"getReportTextByAccessionnrResult.REPORT.REPORT_BODY.TEXT\",\n",
    "                         \"start-line\": \"Verslagstatus:\",\n",
    "                         \"stop-line\": \"Met collegiale groet,\"\n",
    "                     }\n",
    "                 }"
   ],
   "metadata": {
    "collapsed": false,
    "pycharm": {
     "name": "#%%\n",
     "is_executing": false
    }
   }
  },
  {
   "cell_type": "markdown",
   "source": [
    "An yaml configuration file can be used to store configuration (optional)"
   ],
   "metadata": {
    "collapsed": false,
    "pycharm": {
     "name": "#%% md\n"
    }
   }
  },
  {
   "cell_type": "code",
   "execution_count": 5,
   "metadata": {
    "collapsed": true,
    "pycharm": {
     "is_executing": false
    }
   },
   "outputs": [],
   "source": [
    "use_config_file = False\n",
    "config_file = 'config/xml_to_excel_config.yaml'\n",
    "\n",
    "import yaml\n",
    "if use_config_file:\n",
    "    with open(config_file, 'r') as yaml_file:\n",
    "        cfg = yaml.safe_load(yaml_file)\n",
    "        print(cfg)\n",
    "        directory_in_str = cfg['directory_in_str']\n",
    "        extension = cfg['extension']\n",
    "        field_id = cfg['field_id']\n",
    "        whitelist_dict = cfg['whitelist_dict']\n",
    "\n"
   ]
  },
  {
   "cell_type": "markdown",
   "source": [
    "Index directory"
   ],
   "metadata": {
    "collapsed": false,
    "pycharm": {
     "name": "#%% md\n"
    }
   }
  },
  {
   "cell_type": "code",
   "execution_count": 6,
   "outputs": [
    {
     "name": "stderr",
     "text": [
      "INFO:python-processor:start iteration C:\\Data\\Research\\Test\n",
      "WARNING:python-processor:no files found in C:\\Data\\Research\\Test\n",
      "INFO:python-processor:iteration finished C:\\Data\\Research\\Test\n"
     ],
     "output_type": "stream"
    }
   ],
   "source": [
    "from nlp_datau.xml_to_index import XmlToIndex\n",
    "XmlToIndex().iterate_xml_dir(\n",
    "    directory_in_str,\n",
    "            extension=\".xml\",\n",
    "            es_index=es_index,\n",
    "            field_id=field_id,\n",
    "            whitelist_dict=whitelist_dict)"
   ],
   "metadata": {
    "collapsed": false,
    "pycharm": {
     "name": "#%%\n",
     "is_executing": false
    }
   }
  },
  {
   "cell_type": "markdown",
   "source": [
    "Validate the number of documents at\n",
    "[http://localhost:9200/[ES_INDEX]/_count](http://localhost:9200/[ES_INDEX]/_count)\n",
    "\n",
    "e.g.\n",
    "[http://localhost:9200/free-text-reports/_count](http://localhost:9200/free-text-reports/_count)"
   ],
   "metadata": {
    "collapsed": false,
    "pycharm": {
     "name": "#%% md\n"
    }
   }
  }
 ],
 "metadata": {
  "kernelspec": {
   "display_name": "Python 3",
   "language": "python",
   "name": "python3"
  },
  "language_info": {
   "codemirror_mode": {
    "name": "ipython",
    "version": 2
   },
   "file_extension": ".py",
   "mimetype": "text/x-python",
   "name": "python",
   "nbconvert_exporter": "python",
   "pygments_lexer": "ipython2",
   "version": "2.7.6"
  },
  "pycharm": {
   "stem_cell": {
    "cell_type": "raw",
    "source": [],
    "metadata": {
     "collapsed": false
    }
   }
  }
 },
 "nbformat": 4,
 "nbformat_minor": 0
}