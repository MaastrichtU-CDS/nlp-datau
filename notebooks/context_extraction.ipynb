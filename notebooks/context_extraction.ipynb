{
 "cells": [
  {
   "cell_type": "markdown",
   "metadata": {
    "collapsed": true,
    "pycharm": {
     "name": "#%% md\n"
    }
   },
   "source": [
    "# MEDSTRUCT Context Extraction Notebook #\n",
    "\n",
    "### Extracting clinical targets and context from free-text (Use case: Long Embolism) ###\n",
    "\n",
    "Run the next block to import medstructopen"
   ]
  },
  {
   "cell_type": "markdown",
   "metadata": {},
   "source": [
    "Load spaCy and pyContextNLP services\n",
    "\n",
    "    docker-compose -f docker-compose-context.yml up"
   ]
  },
  {
   "cell_type": "code",
   "execution_count": null,
   "metadata": {
    "pycharm": {
     "is_executing": false,
     "name": "#%%\n"
    }
   },
   "outputs": [],
   "source": [
    "import sys\n",
    "sys.path.append(\"./../\")"
   ]
  },
  {
   "cell_type": "markdown",
   "metadata": {},
   "source": [
    "Upload or move your excel file containing the medical reports to the /resource folder of this project and set the path here:"
   ]
  },
  {
   "cell_type": "code",
   "execution_count": null,
   "metadata": {
    "pycharm": {
     "is_executing": false,
     "name": "#%%\n"
    }
   },
   "outputs": [],
   "source": [
    "source_xlsx = \"./../resources/data_example/longembolie-test.xlsx\""
   ]
  },
  {
   "cell_type": "markdown",
   "metadata": {},
   "source": [
    "Read source excel file"
   ]
  },
  {
   "cell_type": "code",
   "execution_count": null,
   "metadata": {
    "pycharm": {
     "is_executing": false,
     "name": "#%%\n"
    }
   },
   "outputs": [],
   "source": [
    "import pandas\n",
    "df = pandas.read_excel(source_xlsx, header=0)\n",
    "result_df = df.copy()"
   ]
  },
  {
   "cell_type": "markdown",
   "metadata": {},
   "source": [
    "Set column of report and language:"
   ]
  },
  {
   "cell_type": "code",
   "execution_count": null,
   "metadata": {
    "pycharm": {
     "is_executing": false,
     "name": "#%%\n"
    }
   },
   "outputs": [],
   "source": [
    "column_text = \"report\"\n",
    "language = \"nl\"\n",
    "\n",
    "from IPython.display import display, HTML\n",
    "display(result_df)"
   ]
  },
  {
   "cell_type": "markdown",
   "metadata": {},
   "source": [
    "Annotate context using spaCy and pyContextNLP nafflow microservices"
   ]
  },
  {
   "cell_type": "code",
   "execution_count": null,
   "metadata": {
    "pycharm": {
     "is_executing": false,
     "name": "#%%\n"
    }
   },
   "outputs": [],
   "source": [
    "spacy_http_url = 'http://spacy-json-nlp-medstruct-open:5001/token_list'\n",
    "spacy_models = { \n",
    "    \"en\": \"en_core_web_sm\", \n",
    "    \"nl\": \"nl_core_news_sm\"}\n",
    "pycontextnlp_language_map = {\n",
    "    \"en\": 'http://pycontext-json-nlp-datau-en:5003/json-nlp',\n",
    "    \"nl\": 'http://pycontext-json-nlp-datau-nl:5003/json-nlp'\n",
    "    }\n",
    "\n",
    "from nlp_datau.client.pycontextnlp_jsonnlp_client import PyContextNlpClient\n",
    "from nlp_datau.client.spacy_jsonnlp_client import SpacyClient\n",
    "spacy_client = SpacyClient(spacy_http_url, spacy_models)\n",
    "pycontextnlp_client = PyContextNlpClient(pycontextnlp_language_map)\n",
    "\n",
    "def get_context(index, text):\n",
    "    print(\"report\", index)\n",
    "    json_nlp = spacy_client.annotate(text=text, identifier=str(index), lang=language, document_date=None)\n",
    "    context = pycontextnlp_client.annotate(json_nlp, language)\n",
    "    return context\n",
    "\n",
    "result_df['context'] = result_df.apply(lambda row: get_context(row.name + 1, row[column_text])['documents'][0]['context'], axis=1)"
   ]
  },
  {
   "cell_type": "markdown",
   "metadata": {
    "pycharm": {
     "name": "#%% md\n"
    }
   },
   "source": [
    "Group modifiers into present and not present categories"
   ]
  },
  {
   "cell_type": "code",
   "execution_count": null,
   "metadata": {
    "pycharm": {
     "is_executing": false,
     "name": "#%%\n"
    }
   },
   "outputs": [],
   "source": [
    "modifiers_present = [ 'definite_existence', 'probable_existence', 'indication', 'ambivalent_existence']\n",
    "modifiers_not_present = ['definite_negated_existence', 'probable_negated_existence', 'pseudoneg', 'historical', 'limited_amount']"
   ]
  },
  {
   "cell_type": "markdown",
   "metadata": {},
   "source": [
    "Set target concepts to extract (as defined in pycontext_targets.yml)"
   ]
  },
  {
   "cell_type": "code",
   "execution_count": null,
   "metadata": {
    "pycharm": {
     "is_executing": false,
     "name": "#%%\n"
    }
   },
   "outputs": [],
   "source": [
    "concepts = ['snomedct:59282003']"
   ]
  },
  {
   "cell_type": "markdown",
   "metadata": {},
   "source": [
    "Extract targets"
   ]
  },
  {
   "cell_type": "code",
   "execution_count": null,
   "metadata": {
    "pycharm": {
     "is_executing": false,
     "name": "#%%\n"
    }
   },
   "outputs": [],
   "source": [
    "from nlp_datau.util.pycontextnlp_parser import ContextParser\n",
    "\n",
    "for concept in concepts:\n",
    "    result_df['target-'+concept] = result_df.apply(lambda row: ContextParser.filter_concept(row['context'], concept), axis=1)\n",
    "display(result_df)    "
   ]
  },
  {
   "cell_type": "markdown",
   "metadata": {},
   "source": [
    "Is target present (no modifiers found)"
   ]
  },
  {
   "cell_type": "code",
   "execution_count": null,
   "metadata": {
    "pycharm": {
     "is_executing": false,
     "name": "#%%\n"
    }
   },
   "outputs": [],
   "source": [
    "for concept in concepts:\n",
    "    result_df['target-'+concept] = result_df.apply(lambda row: ContextParser.is_present(row['target-'+concept], modifiers_not_present), axis=1)\n",
    "display(result_df) "
   ]
  },
  {
   "cell_type": "markdown",
   "metadata": {},
   "source": [
    "Set column which contains the label to evaluate classification (optional)"
   ]
  },
  {
   "cell_type": "code",
   "execution_count": null,
   "metadata": {
    "pycharm": {
     "is_executing": false,
     "name": "#%%\n"
    }
   },
   "outputs": [],
   "source": [
    "column_labels = ['label longembolie']"
   ]
  },
  {
   "cell_type": "markdown",
   "metadata": {},
   "source": [
    "Evaluate context classification (optional)"
   ]
  },
  {
   "cell_type": "code",
   "execution_count": null,
   "metadata": {
    "pycharm": {
     "is_executing": false,
     "name": "#%%\n"
    }
   },
   "outputs": [],
   "source": [
    "for i, concept in enumerate(concepts):\n",
    "    y_actu = pandas.Series(result_df[column_labels[i]], name='Actual')\n",
    "    y_pred = pandas.Series(result_df['target-'+concept], name='Predicted')\n",
    "    df_confusion = pandas.crosstab(y_actu, y_pred, rownames=['Actual'], colnames=['Predicted'], margins=True)\n",
    "    display(df_confusion)"
   ]
  },
  {
   "cell_type": "markdown",
   "metadata": {},
   "source": [
    "Write results to excel file"
   ]
  },
  {
   "cell_type": "code",
   "execution_count": null,
   "metadata": {
    "pycharm": {
     "is_executing": false,
     "name": "#%%\n"
    }
   },
   "outputs": [],
   "source": [
    "!{sys.executable} -m pip install openpyxl\n",
    "results_xlsx = \"./../resources/results/context_results.xlsx\"\n",
    "result_df.to_excel(results_xlsx)"
   ]
  }
 ],
 "metadata": {
  "kernelspec": {
   "display_name": "Python 3",
   "language": "python",
   "name": "python3"
  },
  "language_info": {
   "codemirror_mode": {
    "name": "ipython",
    "version": 3
   },
   "file_extension": ".py",
   "mimetype": "text/x-python",
   "name": "python",
   "nbconvert_exporter": "python",
   "pygments_lexer": "ipython3",
   "version": "3.7.6"
  },
  "pycharm": {
   "stem_cell": {
    "cell_type": "raw",
    "metadata": {
     "collapsed": false
    },
    "source": []
   }
  }
 },
 "nbformat": 4,
 "nbformat_minor": 1
}
