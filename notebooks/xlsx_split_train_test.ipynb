{
 "cells": [
  {
   "cell_type": "code",
   "execution_count": 1,
   "metadata": {},
   "outputs": [],
   "source": [
    "stratify_column = 'class'\n",
    "path_excel_sheet_in = './../resources/data_example/splitme.xlsx'"
   ]
  },
  {
   "cell_type": "code",
   "execution_count": 2,
   "metadata": {},
   "outputs": [],
   "source": [
    "import pandas\n",
    "import sklearn.model_selection as model_selection\n",
    "\n",
    "df = pandas.read_excel(path_excel_sheet_in)\n",
    "\n",
    "train, test = model_selection.train_test_split(df,  test_size=100, random_state=0, stratify=df[stratify_column])\n",
    "\n",
    "train.to_excel(path_excel_sheet_in.replace('.xlsx', '_train.xlsx'))\n",
    "test.to_excel(path_excel_sheet_in.replace('.xlsx', '_test.xlsx'))"
   ]
  },
  {
   "cell_type": "code",
   "execution_count": null,
   "metadata": {},
   "outputs": [],
   "source": []
  }
 ],
 "metadata": {
  "kernelspec": {
   "display_name": "Python 3",
   "language": "python",
   "name": "python3"
  },
  "language_info": {
   "codemirror_mode": {
    "name": "ipython",
    "version": 3
   },
   "file_extension": ".py",
   "mimetype": "text/x-python",
   "name": "python",
   "nbconvert_exporter": "python",
   "pygments_lexer": "ipython3",
   "version": "3.7.6"
  }
 },
 "nbformat": 4,
 "nbformat_minor": 4
}
