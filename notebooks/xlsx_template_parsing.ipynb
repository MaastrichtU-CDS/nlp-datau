{
 "cells": [
  {
   "cell_type": "markdown",
   "source": [
    "# Template extraction #\n",
    "\n",
    "Parse text documents which are based on a template and stored in an excel document"
   ],
   "metadata": {
    "collapsed": false,
    "pycharm": {
     "name": "#%% md\n"
    }
   }
  },
  {
   "cell_type": "markdown",
   "source": [
    "Import dependencies and the nlp_datau package"
   ],
   "metadata": {
    "collapsed": false
   }
  },
  {
   "cell_type": "code",
   "execution_count": null,
   "outputs": [],
   "source": [
    "import sys\n",
    "sys.path.append(\"./../\")\n",
    "!pip install -r ./../requirements.txt\n"
   ],
   "metadata": {
    "collapsed": false,
    "pycharm": {
     "name": "#%%\n"
    }
   }
  },
  {
   "cell_type": "markdown",
   "source": [
    "## 1. Extract substring of substring ##\n",
    "\n",
    "Set variables"
   ],
   "metadata": {
    "collapsed": false,
    "pycharm": {
     "name": "#%% md\n"
    }
   }
  },
  {
   "cell_type": "code",
   "execution_count": 1,
   "metadata": {
    "collapsed": true,
    "pycharm": {
     "is_executing": false
    }
   },
   "outputs": [
    {
     "data": {
      "text/plain": "                                              source\n0  Blanco CT Thorax \\nCOVID 19 Standaardverslag \\...",
      "text/html": "<div>\n<style scoped>\n    .dataframe tbody tr th:only-of-type {\n        vertical-align: middle;\n    }\n\n    .dataframe tbody tr th {\n        vertical-align: top;\n    }\n\n    .dataframe thead th {\n        text-align: right;\n    }\n</style>\n<table border=\"1\" class=\"dataframe\">\n  <thead>\n    <tr style=\"text-align: right;\">\n      <th></th>\n      <th>source</th>\n    </tr>\n  </thead>\n  <tbody>\n    <tr>\n      <th>0</th>\n      <td>Blanco CT Thorax \\nCOVID 19 Standaardverslag \\...</td>\n    </tr>\n  </tbody>\n</table>\n</div>"
     },
     "metadata": {},
     "output_type": "display_data"
    }
   ],
   "source": [
    "path_excel_sheet_in = './../resources/data/standaardverslag_covid.xlsx'\n",
    "path_excel_sheet_out = './../resources/data/standaardverslag_covid_out.xlsx'\n",
    "\n",
    "column_source = 'source'\n",
    "column_target = 'conclusie_bevindingen'\n",
    "\n",
    "regex_conclusion = r\"Conclusie:(.*?)DISCLAIMER\"\n",
    "regex_incidental_findings = r\"(?<=Nevenbevindingen:)(.*?)(?=DISCLAIMER)\"\n",
    "\n",
    "import pandas\n",
    "from IPython.core.display import display\n",
    "df = pandas.read_excel(path_excel_sheet_in, header=0)\n",
    "display(df)"
   ]
  },
  {
   "cell_type": "markdown",
   "source": [
    "Run and write to out file"
   ],
   "metadata": {
    "collapsed": false,
    "pycharm": {
     "name": "#%% md\n"
    }
   }
  },
  {
   "cell_type": "code",
   "execution_count": 2,
   "outputs": [
    {
     "data": {
      "text/plain": "                                              source  \\\n0  Blanco CT Thorax \\nCOVID 19 Standaardverslag \\...   \n\n                      conclusie_bevindingen  \n0   { Dit is een hele vreemde bevinding   }  ",
      "text/html": "<div>\n<style scoped>\n    .dataframe tbody tr th:only-of-type {\n        vertical-align: middle;\n    }\n\n    .dataframe tbody tr th {\n        vertical-align: top;\n    }\n\n    .dataframe thead th {\n        text-align: right;\n    }\n</style>\n<table border=\"1\" class=\"dataframe\">\n  <thead>\n    <tr style=\"text-align: right;\">\n      <th></th>\n      <th>source</th>\n      <th>conclusie_bevindingen</th>\n    </tr>\n  </thead>\n  <tbody>\n    <tr>\n      <th>0</th>\n      <td>Blanco CT Thorax \\nCOVID 19 Standaardverslag \\...</td>\n      <td>{ Dit is een hele vreemde bevinding   }</td>\n    </tr>\n  </tbody>\n</table>\n</div>"
     },
     "metadata": {},
     "output_type": "display_data"
    }
   ],
   "source": [
    "from nlp_datau.string_utils import select_regex\n",
    "\n",
    "\n",
    "df[column_target] = df[column_source].apply(lambda x:select_regex(x, regex=regex_conclusion))\n",
    "df[column_target] = df[column_target].apply(lambda x:select_regex(x, regex=regex_incidental_findings))\n",
    "\n",
    "display(df)\n",
    "df.to_excel(path_excel_sheet_out)"
   ],
   "metadata": {
    "collapsed": false,
    "pycharm": {
     "name": "#%%\n",
     "is_executing": false
    }
   }
  }
 ],
 "metadata": {
  "kernelspec": {
   "display_name": "Python 3",
   "language": "python",
   "name": "python3"
  },
  "language_info": {
   "codemirror_mode": {
    "name": "ipython",
    "version": 2
   },
   "file_extension": ".py",
   "mimetype": "text/x-python",
   "name": "python",
   "nbconvert_exporter": "python",
   "pygments_lexer": "ipython2",
   "version": "2.7.6"
  },
  "pycharm": {
   "stem_cell": {
    "cell_type": "raw",
    "source": [],
    "metadata": {
     "collapsed": false
    }
   }
  }
 },
 "nbformat": 4,
 "nbformat_minor": 0
}