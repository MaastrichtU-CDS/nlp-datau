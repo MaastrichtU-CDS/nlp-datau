{
 "cells": [
  {
   "cell_type": "markdown",
   "metadata": {
    "pycharm": {
     "name": "#%% md\n"
    }
   },
   "source": [
    "# Template extraction #\n",
    "\n",
    "Parse text documents which are based on a template and stored in an excel document"
   ]
  },
  {
   "cell_type": "markdown",
   "metadata": {},
   "source": [
    "Install dependencies and import the nlp_datau package"
   ]
  },
  {
   "cell_type": "code",
   "execution_count": 1,
   "metadata": {
    "pycharm": {
     "is_executing": false,
     "name": "#%%\n"
    }
   },
   "outputs": [
    {
     "name": "stdout",
     "output_type": "stream",
     "text": [
      "Requirement already satisfied: pandas in c:\\users\\sander.puts\\ideaprojects\\work\\venv\\lib\\site-packages (from -r ./../requirements.txt (line 1)) (1.0.2)\n",
      "Requirement already satisfied: openpyxl in c:\\users\\sander.puts\\ideaprojects\\work\\venv\\lib\\site-packages (from -r ./../requirements.txt (line 2)) (3.0.3)\n",
      "Requirement already satisfied: python-docx==0.8.10 in c:\\users\\sander.puts\\ideaprojects\\work\\venv\\lib\\site-packages (from -r ./../requirements.txt (line 3)) (0.8.10)\n",
      "Requirement already satisfied: elasticsearch<8.0.0,>=7.0.0 in c:\\users\\sander.puts\\ideaprojects\\work\\venv\\lib\\site-packages (from -r ./../requirements.txt (line 4)) (7.6.0)\n",
      "Requirement already satisfied: xmltodict in c:\\users\\sander.puts\\ideaprojects\\work\\venv\\lib\\site-packages (from -r ./../requirements.txt (line 5)) (0.12.0)\n",
      "Requirement already satisfied: spacy<2.3.0,>=2.2.0 in c:\\users\\sander.puts\\ideaprojects\\work\\venv\\lib\\site-packages (from -r ./../requirements.txt (line 6)) (2.2.4)\n",
      "Requirement already satisfied: numpy>=1.13.3 in c:\\users\\sander.puts\\ideaprojects\\work\\venv\\lib\\site-packages (from pandas->-r ./../requirements.txt (line 1)) (1.18.2)\n",
      "Requirement already satisfied: python-dateutil>=2.6.1 in c:\\users\\sander.puts\\ideaprojects\\work\\venv\\lib\\site-packages (from pandas->-r ./../requirements.txt (line 1)) (2.8.1)\n",
      "Requirement already satisfied: pytz>=2017.2 in c:\\users\\sander.puts\\ideaprojects\\work\\venv\\lib\\site-packages (from pandas->-r ./../requirements.txt (line 1)) (2019.3)\n",
      "Requirement already satisfied: jdcal in c:\\users\\sander.puts\\ideaprojects\\work\\venv\\lib\\site-packages (from openpyxl->-r ./../requirements.txt (line 2)) (1.4.1)\n",
      "Requirement already satisfied: et_xmlfile in c:\\users\\sander.puts\\ideaprojects\\work\\venv\\lib\\site-packages (from openpyxl->-r ./../requirements.txt (line 2)) (1.0.1)\n",
      "Requirement already satisfied: lxml>=2.3.2 in c:\\users\\sander.puts\\ideaprojects\\work\\venv\\lib\\site-packages (from python-docx==0.8.10->-r ./../requirements.txt (line 3)) (4.5.0)\n",
      "Requirement already satisfied: urllib3>=1.21.1 in c:\\users\\sander.puts\\ideaprojects\\work\\venv\\lib\\site-packages (from elasticsearch<8.0.0,>=7.0.0->-r ./../requirements.txt (line 4)) (1.25.8)\n",
      "Requirement already satisfied: catalogue<1.1.0,>=0.0.7 in c:\\users\\sander.puts\\ideaprojects\\work\\venv\\lib\\site-packages (from spacy<2.3.0,>=2.2.0->-r ./../requirements.txt (line 6)) (1.0.0)\n",
      "Requirement already satisfied: requests<3.0.0,>=2.13.0 in c:\\users\\sander.puts\\ideaprojects\\work\\venv\\lib\\site-packages (from spacy<2.3.0,>=2.2.0->-r ./../requirements.txt (line 6)) (2.23.0)\n",
      "Requirement already satisfied: murmurhash<1.1.0,>=0.28.0 in c:\\users\\sander.puts\\ideaprojects\\work\\venv\\lib\\site-packages (from spacy<2.3.0,>=2.2.0->-r ./../requirements.txt (line 6)) (1.0.2)\n",
      "Requirement already satisfied: cymem<2.1.0,>=2.0.2 in c:\\users\\sander.puts\\ideaprojects\\work\\venv\\lib\\site-packages (from spacy<2.3.0,>=2.2.0->-r ./../requirements.txt (line 6)) (2.0.3)\n"
     ]
    }
   ],
   "source": [
    "import yaml\n",
    "!pip install -r ./../requirements.txt\n",
    "import sys\n",
    "sys.path.append(\"./../\")\n"
   ]
  },
  {
   "cell_type": "markdown",
   "metadata": {
    "pycharm": {
     "name": "#%% md\n"
    }
   },
   "source": [
    "## 1. Extract substring of substring ##\n",
    "\n",
    "Set variables"
   ]
  },
  {
   "cell_type": "code",
   "execution_count": 2,
   "metadata": {
    "pycharm": {
     "is_executing": false
    }
   },
   "outputs": [
    {
     "name": "stdout",
     "output_type": "stream",
     "text": [
      "Requirement already satisfied: wasabi<1.1.0,>=0.4.0 in c:\\users\\sander.puts\\ideaprojects\\work\\venv\\lib\\site-packages (from spacy<2.3.0,>=2.2.0->-r ./../requirements.txt (line 6)) (0.6.0)\n",
      "Requirement already satisfied: tqdm<5.0.0,>=4.38.0 in c:\\users\\sander.puts\\ideaprojects\\work\\venv\\lib\\site-packages (from spacy<2.3.0,>=2.2.0->-r ./../requirements.txt (line 6)) (4.43.0)\n",
      "Requirement already satisfied: blis<0.5.0,>=0.4.0 in c:\\users\\sander.puts\\ideaprojects\\work\\venv\\lib\\site-packages (from spacy<2.3.0,>=2.2.0->-r ./../requirements.txt (line 6)) (0.4.1)\n",
      "Requirement already satisfied: thinc==7.4.0 in c:\\users\\sander.puts\\ideaprojects\\work\\venv\\lib\\site-packages (from spacy<2.3.0,>=2.2.0->-r ./../requirements.txt (line 6)) (7.4.0)\n",
      "Requirement already satisfied: setuptools in c:\\users\\sander.puts\\ideaprojects\\work\\venv\\lib\\site-packages\\setuptools-40.8.0-py3.7.egg (from spacy<2.3.0,>=2.2.0->-r ./../requirements.txt (line 6)) (40.8.0)\n",
      "Requirement already satisfied: srsly<1.1.0,>=1.0.2 in c:\\users\\sander.puts\\ideaprojects\\work\\venv\\lib\\site-packages (from spacy<2.3.0,>=2.2.0->-r ./../requirements.txt (line 6)) (1.0.2)\n",
      "Requirement already satisfied: plac<1.2.0,>=0.9.6 in c:\\users\\sander.puts\\ideaprojects\\work\\venv\\lib\\site-packages (from spacy<2.3.0,>=2.2.0->-r ./../requirements.txt (line 6)) (1.1.3)\n",
      "Requirement already satisfied: preshed<3.1.0,>=3.0.2 in c:\\users\\sander.puts\\ideaprojects\\work\\venv\\lib\\site-packages (from spacy<2.3.0,>=2.2.0->-r ./../requirements.txt (line 6)) (3.0.2)\n",
      "Requirement already satisfied: six>=1.5 in c:\\users\\sander.puts\\ideaprojects\\work\\venv\\lib\\site-packages (from python-dateutil>=2.6.1->pandas->-r ./../requirements.txt (line 1)) (1.14.0)\n",
      "Requirement already satisfied: importlib-metadata>=0.20; python_version < \"3.8\" in c:\\users\\sander.puts\\ideaprojects\\work\\venv\\lib\\site-packages (from catalogue<1.1.0,>=0.0.7->spacy<2.3.0,>=2.2.0->-r ./../requirements.txt (line 6)) (1.5.0)\n",
      "Requirement already satisfied: certifi>=2017.4.17 in c:\\users\\sander.puts\\ideaprojects\\work\\venv\\lib\\site-packages (from requests<3.0.0,>=2.13.0->spacy<2.3.0,>=2.2.0->-r ./../requirements.txt (line 6)) (2019.11.28)\n",
      "Requirement already satisfied: idna<3,>=2.5 in c:\\users\\sander.puts\\ideaprojects\\work\\venv\\lib\\site-packages (from requests<3.0.0,>=2.13.0->spacy<2.3.0,>=2.2.0->-r ./../requirements.txt (line 6)) (2.9)\n",
      "Requirement already satisfied: chardet<4,>=3.0.2 in c:\\users\\sander.puts\\ideaprojects\\work\\venv\\lib\\site-packages (from requests<3.0.0,>=2.13.0->spacy<2.3.0,>=2.2.0->-r ./../requirements.txt (line 6)) (3.0.4)\n",
      "Requirement already satisfied: zipp>=0.5 in c:\\users\\sander.puts\\ideaprojects\\work\\venv\\lib\\site-packages (from importlib-metadata>=0.20; python_version < \"3.8\"->catalogue<1.1.0,>=0.0.7->spacy<2.3.0,>=2.2.0->-r ./../requirements.txt (line 6)) (3.1.0)\n"
     ]
    },
    {
     "data": {
      "text/html": [
       "<div>\n",
       "<style scoped>\n",
       "    .dataframe tbody tr th:only-of-type {\n",
       "        vertical-align: middle;\n",
       "    }\n",
       "\n",
       "    .dataframe tbody tr th {\n",
       "        vertical-align: top;\n",
       "    }\n",
       "\n",
       "    .dataframe thead th {\n",
       "        text-align: right;\n",
       "    }\n",
       "</style>\n",
       "<table border=\"1\" class=\"dataframe\">\n",
       "  <thead>\n",
       "    <tr style=\"text-align: right;\">\n",
       "      <th></th>\n",
       "      <th>text</th>\n",
       "    </tr>\n",
       "  </thead>\n",
       "  <tbody>\n",
       "    <tr>\n",
       "      <th>0</th>\n",
       "      <td>Blanco CT Thorax \\nCOVID 19 Standaardverslag \\...</td>\n",
       "    </tr>\n",
       "  </tbody>\n",
       "</table>\n",
       "</div>"
      ],
      "text/plain": [
       "                                                text\n",
       "0  Blanco CT Thorax \\nCOVID 19 Standaardverslag \\..."
      ]
     },
     "metadata": {},
     "output_type": "display_data"
    }
   ],
   "source": [
    "path_excel_sheet_in = '/home/jovyan/work/E/XML/19/report.xlsx'\n",
    "path_excel_sheet_out = '/home/jovyan/work/E/XML/19/report+nevenbevindingen.xlsx'\n",
    "\n",
    "# path_excel_sheet_in = './../resources/data_example/standaardverslag_covid.xlsx'\n",
    "# path_excel_sheet_out = './../resources/data_example/standaardverslag_covid_out.xlsx'\n",
    "\n",
    "column_source = 'text'\n",
    "column_target_conclusion = 'conclusion'\n",
    "column_target_incidental_findings = 'incidental_findings'\n",
    "column_target_missing_incidental_findings = 'missing_incidental_findings'\n",
    "column_corads = 'corads'\n",
    "\n",
    "regex_conclusion = r\"Conclusie:(.*?)(DISCLAIMER|Met collegiale groet)\"\n",
    "regex_incidental_findings = r\"(?<=Nevenbevindingen:)(.*?)(?=(DISCLAIMER|Met collegiale groet))\"\n",
    "\n",
    "import pandas\n",
    "from IPython.core.display import display\n",
    "df = pandas.read_excel(path_excel_sheet_in, header=0)\n",
    "display(df)"
   ]
  },
  {
   "cell_type": "markdown",
   "metadata": {
    "pycharm": {
     "name": "#%% md\n"
    }
   },
   "source": [
    "Extract findings"
   ]
  },
  {
   "cell_type": "code",
   "execution_count": 3,
   "metadata": {
    "pycharm": {
     "is_executing": false,
     "name": "#%%\n"
    }
   },
   "outputs": [],
   "source": [
    "from nlp_datau.string_utils import select_regex, regex_missing, normalize_regex\n",
    "\n",
    "df[column_target_conclusion] = df[column_source].apply(lambda x:select_regex(x, regex=regex_conclusion))\n",
    "df[column_target_incidental_findings] = df[column_target_conclusion].apply(lambda x:select_regex(x, regex=regex_incidental_findings))\n",
    "df[column_target_missing_incidental_findings] = df[column_target_conclusion].apply(lambda x:regex_missing(x, regex=regex_incidental_findings))\n"
   ]
  },
  {
   "cell_type": "markdown",
   "metadata": {},
   "source": [
    "Extract corads"
   ]
  },
  {
   "cell_type": "code",
   "execution_count": 4,
   "metadata": {
    "pycharm": {
     "is_executing": false,
     "name": "#%%\n"
    }
   },
   "outputs": [
    {
     "name": "stderr",
     "output_type": "stream",
     "text": [
      "C:\\git\\nlp-datau\\nlp_datau\\string_utils.py:23: YAMLLoadWarning: calling yaml.load_all() without Loader=... is deprecated, as the default Loader is unsafe. Please read https://msg.pyyaml.org/load for full details.\n",
      "  for target in targets:\n"
     ]
    },
    {
     "data": {
      "text/html": [
       "<div>\n",
       "<style scoped>\n",
       "    .dataframe tbody tr th:only-of-type {\n",
       "        vertical-align: middle;\n",
       "    }\n",
       "\n",
       "    .dataframe tbody tr th {\n",
       "        vertical-align: top;\n",
       "    }\n",
       "\n",
       "    .dataframe thead th {\n",
       "        text-align: right;\n",
       "    }\n",
       "</style>\n",
       "<table border=\"1\" class=\"dataframe\">\n",
       "  <thead>\n",
       "    <tr style=\"text-align: right;\">\n",
       "      <th></th>\n",
       "      <th>text</th>\n",
       "      <th>conclusion</th>\n",
       "      <th>incidental_findings</th>\n",
       "      <th>missing_incidental_findings</th>\n",
       "      <th>corads</th>\n",
       "    </tr>\n",
       "  </thead>\n",
       "  <tbody>\n",
       "    <tr>\n",
       "      <th>0</th>\n",
       "      <td>Blanco CT Thorax \\nCOVID 19 Standaardverslag \\...</td>\n",
       "      <td>Conclusie:Beeld [niet passend bij / passend bi...</td>\n",
       "      <td>{ Dit is een hele vreemde bevinding   }</td>\n",
       "      <td>False</td>\n",
       "      <td></td>\n",
       "    </tr>\n",
       "  </tbody>\n",
       "</table>\n",
       "</div>"
      ],
      "text/plain": [
       "                                                text  \\\n",
       "0  Blanco CT Thorax \\nCOVID 19 Standaardverslag \\...   \n",
       "\n",
       "                                          conclusion  \\\n",
       "0  Conclusie:Beeld [niet passend bij / passend bi...   \n",
       "\n",
       "                        incidental_findings  missing_incidental_findings  \\\n",
       "0   { Dit is een hele vreemde bevinding   }                        False   \n",
       "\n",
       "  corads  \n",
       "0         "
      ]
     },
     "metadata": {},
     "output_type": "display_data"
    }
   ],
   "source": [
    "corads_config = './../resources/config/pycontextnlp_tnm_targets_corads_nl.yml'\n",
    "\n",
    "stream = open(corads_config, \"r\")\n",
    "targets = yaml.load_all(stream)\n",
    "\n",
    "df[column_corads] = df[column_target_conclusion].apply(lambda x:normalize_regex(x, targets=targets))\n",
    "display(df)"
   ]
  },
  {
   "cell_type": "markdown",
   "metadata": {},
   "source": [
    "Run and write to out file"
   ]
  },
  {
   "cell_type": "code",
   "execution_count": 5,
   "metadata": {
    "pycharm": {
     "is_executing": false,
     "name": "#%%\n"
    }
   },
   "outputs": [],
   "source": [
    "df.to_excel(path_excel_sheet_out)"
   ]
  }
 ],
 "metadata": {
  "kernelspec": {
   "display_name": "Python 3",
   "language": "python",
   "name": "python3"
  },
  "language_info": {
   "codemirror_mode": {
    "name": "ipython",
    "version": 3
   },
   "file_extension": ".py",
   "mimetype": "text/x-python",
   "name": "python",
   "nbconvert_exporter": "python",
   "pygments_lexer": "ipython3",
   "version": "3.7.7"
  },
  "pycharm": {
   "stem_cell": {
    "cell_type": "raw",
    "source": [],
    "metadata": {
     "collapsed": false
    }
   }
  }
 },
 "nbformat": 4,
 "nbformat_minor": 1
}