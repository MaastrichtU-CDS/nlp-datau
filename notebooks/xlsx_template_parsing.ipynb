{
 "cells": [
  {
   "cell_type": "markdown",
   "metadata": {
    "pycharm": {
     "name": "#%% md\n"
    }
   },
   "source": [
    "# Template extraction #\n",
    "\n",
    "Parse text documents which are based on a template and stored in an excel document"
   ]
  },
  {
   "cell_type": "markdown",
   "metadata": {},
   "source": [
    "Install dependencies and import the nlp_datau package"
   ]
  },
  {
   "cell_type": "code",
   "execution_count": null,
   "metadata": {
    "pycharm": {
     "is_executing": false,
     "name": "#%%\n"
    }
   },
   "outputs": [],
   "source": [
    "import yaml\n",
    "!pip install -r ./../requirements.txt\n",
    "import sys\n",
    "sys.path.append(\"./../\")\n"
   ]
  },
  {
   "cell_type": "markdown",
   "metadata": {
    "pycharm": {
     "name": "#%% md\n"
    }
   },
   "source": [
    "## 1. Extract substring of substring ##\n",
    "\n",
    "Set variables"
   ]
  },
  {
   "cell_type": "code",
   "execution_count": null,
   "metadata": {
    "pycharm": {
     "is_executing": false
    }
   },
   "outputs": [],
   "source": [
    "path_excel_sheet_in = '/home/jovyan/work/E/Sander/Outcomes until 20 May incl verslagen.xlsx'\n",
    "path_excel_sheet_out = '/home/jovyan/work/E/Sander/Outcomes until 20 May incl verslagen_incidental findings_co-rads.xlsx'\n",
    "\n",
    "# path_excel_sheet_in = './../resources/data_example/standaardverslag_covid.xlsx'\n",
    "# path_excel_sheet_out = './../resources/data_example/standaardverslag_covid_out.xlsx'\n",
    "\n",
    "column_source = 'text'\n",
    "column_target_conclusion = 'conclusion'\n",
    "column_target_incidental_findings = 'incidental_findings'\n",
    "column_target_missing_incidental_findings = 'missing_incidental_findings'\n",
    "column_corads = 'corads'\n",
    "\n",
    "regex_conclusion = r\"(CONCLUSIE:|Conclusie:)(.*?)(DISCLAIMER|Met collegiale groet)\"\n",
    "regex_incidental_findings = r\"(?<=Nevenbevindingen:)(.*?)(?=(DISCLAIMER|Met collegiale groet))\"\n",
    "\n",
    "import pandas\n",
    "from IPython.core.display import display\n",
    "df = pandas.read_excel(path_excel_sheet_in, header=0)\n",
    "display(df)"
   ]
  },
  {
   "cell_type": "markdown",
   "metadata": {
    "pycharm": {
     "name": "#%% md\n"
    }
   },
   "source": [
    "Extract findings"
   ]
  },
  {
   "cell_type": "code",
   "execution_count": null,
   "metadata": {
    "pycharm": {
     "is_executing": false,
     "name": "#%%\n"
    }
   },
   "outputs": [],
   "source": [
    "from nlp_datau.string_utils import select_regex, regex_missing, normalize_regex\n",
    "\n",
    "df[column_target_conclusion] = df[column_source].apply(lambda x:select_regex(x, regex=regex_conclusion))\n",
    "df[column_target_incidental_findings] = df[column_target_conclusion].apply(lambda x:select_regex(x, regex=regex_incidental_findings))\n",
    "df[column_target_missing_incidental_findings] = df[column_target_conclusion].apply(lambda x:regex_missing(x, regex=regex_incidental_findings))\n"
   ]
  },
  {
   "cell_type": "markdown",
   "metadata": {},
   "source": [
    "Extract corads"
   ]
  },
  {
   "cell_type": "code",
   "execution_count": null,
   "metadata": {
    "pycharm": {
     "is_executing": false,
     "name": "#%%\n"
    }
   },
   "outputs": [],
   "source": [
    "corads_config = './../resources/config/pycontextnlp_tnm_targets_corads_nl.yml'\n",
    "\n",
    "stream = open(corads_config, \"r\")\n",
    "targets = yaml.load_all(stream)\n",
    "regex_list = []\n",
    "for target in targets:\n",
    "    regex_list.append(target)\n",
    "\n",
    "df[column_corads] = df[column_target_conclusion].apply(lambda x:normalize_regex(x, targets=regex_list))\n",
    "display(df)"
   ]
  },
  {
   "cell_type": "markdown",
   "metadata": {},
   "source": [
    "Run and write to out file"
   ]
  },
  {
   "cell_type": "code",
   "execution_count": null,
   "metadata": {
    "pycharm": {
     "is_executing": false,
     "name": "#%%\n"
    }
   },
   "outputs": [],
   "source": [
    "df.to_excel(path_excel_sheet_out)"
   ]
  }
 ],
 "metadata": {
  "kernelspec": {
   "display_name": "Python 3",
   "language": "python",
   "name": "python3"
  },
  "language_info": {
   "codemirror_mode": {
    "name": "ipython",
    "version": 3
   },
   "file_extension": ".py",
   "mimetype": "text/x-python",
   "name": "python",
   "nbconvert_exporter": "python",
   "pygments_lexer": "ipython3",
   "version": "3.7.6"
  },
  "pycharm": {
   "stem_cell": {
    "cell_type": "raw",
    "metadata": {
     "collapsed": false
    },
    "source": []
   }
  }
 },
 "nbformat": 4,
 "nbformat_minor": 1
}
