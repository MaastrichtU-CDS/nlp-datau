{
 "cells": [
  {
   "cell_type": "markdown",
   "metadata": {
    "pycharm": {
     "name": "#%% md\n"
    }
   },
   "source": [
    "# Template extraction #\n",
    "\n",
    "Parse text documents which are based on a template and stored in an excel document"
   ]
  },
  {
   "cell_type": "markdown",
   "metadata": {},
   "source": [
    "Install dependencies and import the nlp_datau package"
   ]
  },
  {
   "cell_type": "code",
   "execution_count": null,
   "metadata": {
    "pycharm": {
     "name": "#%%\n"
    }
   },
   "outputs": [],
   "source": [
    "!pip install -r ./../requirements.txt\n",
    "import sys\n",
    "sys.path.append(\"./../\")\n"
   ]
  },
  {
   "cell_type": "markdown",
   "metadata": {
    "pycharm": {
     "name": "#%% md\n"
    }
   },
   "source": [
    "## 1. Extract substring of substring ##\n",
    "\n",
    "Set variables"
   ]
  },
  {
   "cell_type": "code",
   "execution_count": null,
   "metadata": {
    "pycharm": {
     "is_executing": false
    }
   },
   "outputs": [],
   "source": [
    "path_excel_sheet_in = '/home/jovyan/work/E/XML/19/report.xlsx'\n",
    "path_excel_sheet_out = '/home/jovyan/work/E/XML/19/report+nevenbevindingen.xlsx'\n",
    "\n",
    "column_source = 'text'\n",
    "column_target = 'conclusie_bevindingen'\n",
    "\n",
    "regex_conclusion = r\"Conclusie:(.*?)(DISCLAIMER|Met collegiale groet)\"\n",
    "regex_incidental_findings = r\"(?<=Nevenbevindingen:)(.*?)(?=(DISCLAIMER|Met collegiale groet))\"\n",
    "\n",
    "import pandas\n",
    "from IPython.core.display import display\n",
    "df = pandas.read_excel(path_excel_sheet_in, header=0)\n",
    "display(df)"
   ]
  },
  {
   "cell_type": "markdown",
   "metadata": {
    "pycharm": {
     "name": "#%% md\n"
    }
   },
   "source": [
    "Run and write to out file"
   ]
  },
  {
   "cell_type": "code",
   "execution_count": null,
   "metadata": {
    "pycharm": {
     "is_executing": false,
     "name": "#%%\n"
    }
   },
   "outputs": [],
   "source": [
    "from nlp_datau.string_utils import select_regex\n",
    "\n",
    "\n",
    "df[column_target] = df[column_source].apply(lambda x:select_regex(x, regex=regex_conclusion))\n",
    "df[column_target] = df[column_target].apply(lambda x:select_regex(x, regex=regex_incidental_findings))\n",
    "\n",
    "display(df)\n",
    "df.to_excel(path_excel_sheet_out)"
   ]
  }
 ],
 "metadata": {
  "kernelspec": {
   "display_name": "Python 3",
   "language": "python",
   "name": "python3"
  },
  "language_info": {
   "codemirror_mode": {
    "name": "ipython",
    "version": 3
   },
   "file_extension": ".py",
   "mimetype": "text/x-python",
   "name": "python",
   "nbconvert_exporter": "python",
   "pygments_lexer": "ipython3",
   "version": "3.7.6"
  },
  "pycharm": {
   "stem_cell": {
    "cell_type": "raw",
    "metadata": {
     "collapsed": false
    },
    "source": []
   }
  }
 },
 "nbformat": 4,
 "nbformat_minor": 1
}
