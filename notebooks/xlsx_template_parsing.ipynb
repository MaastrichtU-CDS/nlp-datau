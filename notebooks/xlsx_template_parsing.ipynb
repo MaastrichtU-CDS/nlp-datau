{
 "cells": [
  {
   "cell_type": "markdown",
   "source": [
    "Template extraction"
   ],
   "metadata": {
    "collapsed": false,
    "pycharm": {
     "name": "#%% md\n"
    }
   }
  },
  {
   "cell_type": "code",
   "execution_count": null,
   "metadata": {
    "collapsed": true
   },
   "outputs": [],
   "source": [
    "path_excel_sheet_in = ''\n",
    "path_excel_sheet_out = ''\n",
    "\n",
    "column_source = 'source'\n",
    "column_target = 'conclusie_bevindingen'\n",
    "\n",
    "regex_conclusion = r\"Conclusie:(.*?)DISCLAIMER\"\n",
    "regex_incidental_findings = r\"(?<=Nevenbevindingen:)(.*?)(?=DISCLAIMER)\"\n",
    "\n",
    "import pandas\n",
    "from nlp_datau.string_utils import select_regex\n",
    "\n",
    "df = pandas.read_excel(path_excel_sheet_in, header=0)\n",
    "\n",
    "df[column_target] = df[column_source].apply(select_regex(regex_conclusion))\n",
    "df[column_target] = df[column_target].apply(select_regex(regex_incidental_findings))"
   ]
  }
 ],
 "metadata": {
  "kernelspec": {
   "display_name": "Python 3",
   "language": "python",
   "name": "python3"
  },
  "language_info": {
   "codemirror_mode": {
    "name": "ipython",
    "version": 2
   },
   "file_extension": ".py",
   "mimetype": "text/x-python",
   "name": "python",
   "nbconvert_exporter": "python",
   "pygments_lexer": "ipython2",
   "version": "2.7.6"
  },
  "pycharm": {
   "stem_cell": {
    "cell_type": "raw",
    "source": [],
    "metadata": {
     "collapsed": false
    }
   }
  }
 },
 "nbformat": 4,
 "nbformat_minor": 0
}