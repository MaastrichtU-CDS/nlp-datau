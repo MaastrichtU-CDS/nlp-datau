{
 "cells": [
  {
   "cell_type": "markdown",
   "metadata": {
    "collapsed": true,
    "pycharm": {
     "name": "#%% md\n"
    }
   },
   "source": [
    "# Calculate NLP statistics over classification results in excel format\n",
    "Analyse a excel sheet of NLP classification results."
   ]
  },
  {
   "cell_type": "markdown",
   "metadata": {},
   "source": [
    "Use yaml config"
   ]
  },
  {
   "cell_type": "code",
   "execution_count": 1,
   "metadata": {
    "pycharm": {
     "is_executing": false,
     "name": "#%%\n"
    }
   },
   "outputs": [],
   "source": [
    "use_config_file = True\n",
    "config_file = './../resources/config/result-analysis-tn-t-train.yaml'\n",
    "cfg = None\n",
    "if use_config_file:\n",
    "    import yaml\n",
    "    with open(config_file, 'r') as yaml_file:\n",
    "        cfg = yaml.safe_load(yaml_file)\n"
   ]
  },
  {
   "cell_type": "markdown",
   "metadata": {
    "pycharm": {
     "name": "#%% md\n"
    }
   },
   "source": [
    "Set path of excel sheet"
   ]
  },
  {
   "cell_type": "code",
   "execution_count": 2,
   "metadata": {
    "pycharm": {
     "is_executing": false,
     "name": "#%%\n"
    }
   },
   "outputs": [],
   "source": [
    "path_excel_sheet = \"./../resources/data_ignored/results-tn-val.xlsx\"\n",
    "if use_config_file:\n",
    "    path_excel_sheet = cfg['path_excel_sheet']\n"
   ]
  },
  {
   "cell_type": "markdown",
   "metadata": {
    "pycharm": {
     "name": "#%% md\n"
    }
   },
   "source": [
    "Set output directory"
   ]
  },
  {
   "cell_type": "code",
   "execution_count": 3,
   "metadata": {
    "pycharm": {
     "is_executing": false,
     "name": "#%%\n"
    }
   },
   "outputs": [
    {
     "name": "stdout",
     "output_type": "stream",
     "text": [
      "Successfully created the directory ./../resources/results/results-tn-t-train-results \n"
     ]
    }
   ],
   "source": [
    "path_output_dir = \"./../resources/\"\n",
    "\n",
    "out_file = None\n",
    "out_file_excel = None\n",
    "if use_config_file:\n",
    "    path_output_dir = cfg['path_output_dir']\n",
    "try:\n",
    "    from pathlib import Path\n",
    "    Path(path_output_dir).mkdir(parents=True, exist_ok=True)\n",
    "    out_file = open(path_output_dir + \"/\"+ \"result-analysis-out.txt\", \"w\")\n",
    "    out_file_excel = path_output_dir + \"/\"+ \"result-analysis-out.xlsx\"\n",
    "except OSError:\n",
    "    print (\"Creation of the directory %s failed\" % path_output_dir)\n",
    "else:\n",
    "    print (\"Successfully created the directory %s \" % path_output_dir)\n",
    "    "
   ]
  },
  {
   "cell_type": "markdown",
   "metadata": {
    "pycharm": {
     "name": "#%% md\n"
    }
   },
   "source": [
    "Set label and classification columns"
   ]
  },
  {
   "cell_type": "code",
   "execution_count": 4,
   "metadata": {
    "pycharm": {
     "is_executing": false,
     "name": "#%%\n"
    }
   },
   "outputs": [],
   "source": [
    "column_actual = 'label longembolie'\n",
    "column_predicted = 'target-snomedct:59282003'\n",
    "\n",
    "if use_config_file:\n",
    "    column_actual = cfg['column_actual']\n",
    "    column_predicted = cfg['column_predicted']"
   ]
  },
  {
   "cell_type": "markdown",
   "metadata": {
    "pycharm": {
     "name": "#%% md\n"
    }
   },
   "source": [
    "Read columns and determine values, in case of key error, make sure the columns are set correctly"
   ]
  },
  {
   "cell_type": "code",
   "execution_count": 5,
   "metadata": {
    "pycharm": {
     "is_executing": false,
     "name": "#%%\n"
    }
   },
   "outputs": [
    {
     "name": "stdout",
     "output_type": "stream",
     "text": [
      "actual category values: ['T4', 'T2', 'T1', 'T3']\n",
      "predicted category values: ['T2', 'T4', 'T1', 'T3', 'T0']\n",
      "['T0', 'T3', 'T2', 'T1', 'T4']\n"
     ]
    }
   ],
   "source": [
    "import pandas\n",
    "df = pandas.read_excel(path_excel_sheet, header=0)\n",
    "\n",
    "df = df[df[\"label_T\"] != \"?\"] # Filter dataframe on reports that have a valid label\n",
    "df = df[df[\"label_N\"] != \"?\"] # Filter dataframe on reports that have a valid label\n",
    "\n",
    "actual_values = df[column_actual].value_counts().index.tolist() \n",
    "predicted_values = df[column_predicted].value_counts().index.tolist() \n",
    "\n",
    "print('actual category values:', actual_values)\n",
    "print('predicted category values:', predicted_values)\n",
    "all_values = list(set(actual_values).union(set(predicted_values)))\n",
    "print(all_values)"
   ]
  },
  {
   "cell_type": "markdown",
   "metadata": {
    "pycharm": {
     "name": "#%% md\n"
    }
   },
   "source": [
    "Manually set valid values from actual and predicted categories (other values will be ignored)"
   ]
  },
  {
   "cell_type": "code",
   "execution_count": 6,
   "metadata": {
    "pycharm": {
     "is_executing": false,
     "name": "#%%\n"
    }
   },
   "outputs": [],
   "source": [
    "valid_values = []\n",
    "ignored_values = []\n",
    "\n",
    "if use_config_file and 'valid_values' in cfg:\n",
    "    valid_values = cfg['valid_values']\n",
    "if use_config_file and 'ignored_values' in cfg:\n",
    "    ignored_values = cfg['ignored_values']\n",
    "\n",
    "if not valid_values or len(valid_values) == 0:\n",
    "    valid_values = all_values\n",
    "    \n",
    "def matches_ignored(x):\n",
    "    for ignored in ignored_values:\n",
    "        if ignored in x:\n",
    "            return True\n",
    "    return False\n",
    "    \n",
    "valid_values = [] \n",
    "for x in all_values:\n",
    "    if not matches_ignored(x):\n",
    "        valid_values.append(x)\n",
    "\n",
    "valid_values.sort()"
   ]
  },
  {
   "cell_type": "markdown",
   "metadata": {
    "pycharm": {
     "name": "#%% md\n"
    }
   },
   "source": [
    "Check valid values"
   ]
  },
  {
   "cell_type": "code",
   "execution_count": 7,
   "metadata": {
    "pycharm": {
     "is_executing": false,
     "name": "#%%\n"
    }
   },
   "outputs": [
    {
     "name": "stdout",
     "output_type": "stream",
     "text": [
      "actual category values: ['T4', 'T2', 'T1', 'T3']\n",
      "predicted category values: ['T2', 'T4', 'T1', 'T3', 'T0']\n"
     ]
    }
   ],
   "source": [
    "df_valid = df[df[column_actual].isin(valid_values)]\n",
    "\n",
    "actual_index_valid = df_valid[column_actual].value_counts().index.tolist() \n",
    "predicted_index_valid = df_valid[column_predicted].value_counts().index.tolist() \n",
    "\n",
    "print('actual category values:', actual_index_valid)\n",
    "print('predicted category values:', predicted_index_valid)"
   ]
  },
  {
   "cell_type": "markdown",
   "metadata": {
    "pycharm": {
     "name": "#%% md\n"
    }
   },
   "source": [
    "Histograms Original"
   ]
  },
  {
   "cell_type": "code",
   "execution_count": 8,
   "metadata": {
    "pycharm": {
     "is_executing": false,
     "name": "#%%\n"
    }
   },
   "outputs": [
    {
     "data": {
      "image/png": "[encoded data removed]",
      "text/plain": [
       "<Figure size 432x288 with 1 Axes>"
      ]
     },
     "metadata": {
      "needs_background": "light"
     },
     "output_type": "display_data"
    }
   ],
   "source": [
    "actual_bar_plt = df[column_actual].value_counts(sort = False).plot(kind='bar', title='actual')"
   ]
  },
  {
   "cell_type": "markdown",
   "metadata": {
    "pycharm": {
     "is_executing": false,
     "name": "#%% md\n"
    }
   },
   "source": [
    "Histograms Valid Values only"
   ]
  },
  {
   "cell_type": "code",
   "execution_count": 9,
   "metadata": {
    "pycharm": {
     "is_executing": false,
     "name": "#%%\n"
    }
   },
   "outputs": [
    {
     "data": {
      "image/png": "[encoded data removed]",
      "text/plain": [
       "<Figure size 432x288 with 1 Axes>"
      ]
     },
     "metadata": {
      "needs_background": "light"
     },
     "output_type": "display_data"
    }
   ],
   "source": [
    "actual_valid_bar_plot = df_valid[column_actual].value_counts().plot(kind='bar', title='actual valid')"
   ]
  },
  {
   "cell_type": "code",
   "execution_count": 10,
   "metadata": {
    "pycharm": {
     "is_executing": false,
     "name": "#%%\n"
    }
   },
   "outputs": [
    {
     "data": {
      "image/png": "[encoded data removed]",
      "text/plain": [
       "<Figure size 432x288 with 1 Axes>"
      ]
     },
     "metadata": {
      "needs_background": "light"
     },
     "output_type": "display_data"
    }
   ],
   "source": [
    "predicted_valid_bar_plt = df_valid[column_predicted].value_counts().plot(kind='bar', title='predicted valid')"
   ]
  },
  {
   "cell_type": "markdown",
   "metadata": {
    "pycharm": {
     "name": "#%% md\n"
    }
   },
   "source": [
    "Metrics"
   ]
  },
  {
   "cell_type": "code",
   "execution_count": 11,
   "metadata": {
    "pycharm": {
     "is_executing": false,
     "name": "#%%\n"
    }
   },
   "outputs": [
    {
     "name": "stdout",
     "output_type": "stream",
     "text": [
      "accuracy = 0.8947\n",
      "micro_precision = 0.8947\n",
      "micro_recall_score = 0.8947\n",
      "micro_f1 = 0.8947\n",
      "macro_precision = 0.7381\n",
      "macro_recall_score = 0.7185\n",
      "macro_f1 = 0.7262\n",
      "weighted_precision = 0.9313\n",
      "weighted_recall_score = 0.8947\n",
      "weighted_f1 = 0.9105\n",
      "precision: [0.         1.         0.85714286 0.83333333 1.        ]\n",
      "recall: [0.         0.86956522 0.88888889 0.9375     0.89655172]\n",
      "fscore: [0.         0.93023256 0.87272727 0.88235294 0.94545455]\n",
      "support: [ 0 23 27 16 29]\n",
      "\n",
      "\n",
      "    Precision    Recall   F-score\n",
      "T0   0.000000  0.000000  0.000000\n",
      "T1   1.000000  0.869565  0.930233\n",
      "T2   0.857143  0.888889  0.872727\n",
      "T3   0.833333  0.937500  0.882353\n",
      "T4   1.000000  0.896552  0.945455\n"
     ]
    },
    {
     "name": "stderr",
     "output_type": "stream",
     "text": [
      "/opt/conda/lib/python3.7/site-packages/sklearn/metrics/_classification.py:1272: UndefinedMetricWarning: Recall is ill-defined and being set to 0.0 in labels with no true samples. Use `zero_division` parameter to control this behavior.\n",
      "  _warn_prf(average, modifier, msg_start, len(result))\n",
      "/opt/conda/lib/python3.7/site-packages/sklearn/metrics/_classification.py:1272: UndefinedMetricWarning: Recall and F-score are ill-defined and being set to 0.0 in labels with no true samples. Use `zero_division` parameter to control this behavior.\n",
      "  _warn_prf(average, modifier, msg_start, len(result))\n"
     ]
    },
    {
     "data": {
      "text/plain": [
       "205"
      ]
     },
     "execution_count": 11,
     "metadata": {},
     "output_type": "execute_result"
    }
   ],
   "source": [
    "df = df_valid\n",
    "\n",
    "from sklearn.metrics import precision_recall_fscore_support, confusion_matrix\n",
    "y_actu = pandas.Series(df[column_actual], name='Actual')\n",
    "y_pred = pandas.Series(df[column_predicted], name='Predicted')\n",
    "\n",
    "from sklearn.metrics import accuracy_score, f1_score, precision_score, recall_score, classification_report, confusion_matrix\n",
    "\n",
    "accuracy = \"accuracy = \" + str(round(accuracy_score(y_actu, y_pred), 4))\n",
    "print(accuracy)\n",
    "out_file.write(accuracy + \"\\n\\n\")\n",
    "\n",
    "avg = [\"micro\", \"macro\", \"weighted\"]\n",
    "for avg_opt in avg:\n",
    "    a_precision = avg_opt + \"_precision = \" + str(round(precision_score(y_actu, y_pred, average=avg_opt), 4))\n",
    "    a_recall_score = avg_opt + \"_recall_score = \" + str(round(recall_score(y_actu, y_pred, average=avg_opt), 4))\n",
    "    a_f1 = avg_opt + \"_f1 = \" + str(round(f1_score(y_actu, y_pred, average=avg_opt), 4))\n",
    "    print(a_precision)\n",
    "    print(a_recall_score)\n",
    "    print(a_f1)       \n",
    "    out_file.write(a_precision + \"\\n\")\n",
    "    out_file.write(a_recall_score + \"\\n\")\n",
    "    out_file.write(a_f1 + \"\\n\")\n",
    "    out_file.write(\"\\n\")\n",
    "    \n",
    "from sklearn.metrics import precision_recall_fscore_support as score\n",
    "predicted = [1,2,3,4,5,1,2,1,1,4,5] \n",
    "\n",
    "precision, recall, fscore, support = score(y_actu, y_pred)\n",
    "\n",
    "print('precision: {}'.format(precision))\n",
    "print('recall: {}'.format(recall))\n",
    "print('fscore: {}'.format(fscore))\n",
    "print('support: {}'.format(support))\n",
    "\n",
    "out_file.write('precision: {}'.format(precision) + '\\n')\n",
    "out_file.write('recall: {}'.format(recall) +'\\n')\n",
    "out_file.write('fscore: {}'.format(fscore) + '\\n')\n",
    "out_file.write('support: {}'.format(support) + '\\n')\n",
    "print('\\n')\n",
    "               \n",
    "prf = precision_recall_fscore_support(y_actu, y_pred, average=None, labels=valid_values)\n",
    "evaldf = pandas.DataFrame({\"Precision\": prf[0], \"Recall\": prf[1], \"F-score\": prf[2]}, index=valid_values)\n",
    "print(evaldf)\n",
    "out_file.write(str(evaldf) + \"\\n\\n\")"
   ]
  },
  {
   "cell_type": "markdown",
   "metadata": {
    "pycharm": {
     "name": "#%% md\n"
    }
   },
   "source": [
    "Create confusion matrix"
   ]
  },
  {
   "cell_type": "code",
   "execution_count": 12,
   "metadata": {
    "pycharm": {
     "is_executing": false,
     "name": "#%%\n"
    }
   },
   "outputs": [
    {
     "name": "stdout",
     "output_type": "stream",
     "text": [
      "CONFUSION MATRIX\n",
      "Predicted  T0  T1  T2  T3  T4  All\n",
      "Actual                            \n",
      "T1          0  20   2   1   0   23\n",
      "T2          2   0  24   1   0   27\n",
      "T3          0   0   1  15   0   16\n",
      "T4          1   0   1   1  26   29\n",
      "All         3  20  28  18  26   95\n"
     ]
    }
   ],
   "source": [
    "crosstab = pandas.crosstab(y_actu, y_pred, rownames=['Actual'], colnames=['Predicted'], margins=True)\n",
    "print(\"CONFUSION MATRIX\")\n",
    "print(crosstab)\n",
    "out_file.write(str(crosstab))\n",
    "\n",
    "\n",
    "import openpyxl\n",
    "crosstab.to_excel(out_file_excel)\n"
   ]
  },
  {
   "cell_type": "markdown",
   "metadata": {
    "pycharm": {
     "name": "#%% md\n"
    }
   },
   "source": [
    "Plot confusion matrix"
   ]
  },
  {
   "cell_type": "code",
   "execution_count": 13,
   "metadata": {
    "pycharm": {
     "is_executing": false,
     "name": "#%%\n"
    },
    "scrolled": true
   },
   "outputs": [
    {
     "data": {
      "image/png": "[encoded data removed]",
      "text/plain": [
       "<Figure size 1152x1152 with 2 Axes>"
      ]
     },
     "metadata": {
      "needs_background": "light"
     },
     "output_type": "display_data"
    }
   ],
   "source": [
    "import seaborn\n",
    "import matplotlib\n",
    "import matplotlib.pyplot as plt\n",
    "\n",
    "data = {'y_Actual': df_valid[column_actual], 'y_Predicted': df_valid[column_predicted]}\n",
    "df = pandas.DataFrame(data, columns=['y_Actual','y_Predicted'])\n",
    "\n",
    "confusion_matrix = pandas.crosstab(df['y_Actual'], df['y_Predicted'], rownames=['Actual'], colnames=['Predicted'])\n",
    "\n",
    "plt.figure(figsize=(16,16))  \n",
    "plt.title(cfg['title_confusion_matrix'])\n",
    "\n",
    "confusion_matrix_heatmap = seaborn.heatmap(confusion_matrix, annot=True, cmap=matplotlib.cm.Blues)\n",
    "\n"
   ]
  },
  {
   "cell_type": "markdown",
   "metadata": {
    "pycharm": {
     "name": "#%% md\n"
    }
   },
   "source": [
    "Save confusion matix figure to file"
   ]
  },
  {
   "cell_type": "code",
   "execution_count": 14,
   "metadata": {
    "pycharm": {
     "is_executing": false,
     "name": "#%%\n"
    }
   },
   "outputs": [],
   "source": [
    "file_type_eps = False\n",
    "fig = confusion_matrix_heatmap.get_figure()\n",
    "if file_type_eps:\n",
    "    fig.savefig(path_output_dir + \"/\" + \"confusion_matrix.eps\", dict=\"eps\", dpi=200)\n",
    "else:\n",
    "   fig.savefig(path_output_dir + \"/\" + \"confusion_matrix.png\", dpi=200)\n",
    "\n",
    "out_file.close()"
   ]
  }
 ],
 "metadata": {
  "kernelspec": {
   "display_name": "Python 3",
   "language": "python",
   "name": "python3"
  },
  "language_info": {
   "codemirror_mode": {
    "name": "ipython",
    "version": 3
   },
   "file_extension": ".py",
   "mimetype": "text/x-python",
   "name": "python",
   "nbconvert_exporter": "python",
   "pygments_lexer": "ipython3",
   "version": "3.7.6"
  },
  "pycharm": {
   "stem_cell": {
    "cell_type": "raw",
    "metadata": {
     "collapsed": false
    },
    "source": []
   }
  }
 },
 "nbformat": 4,
 "nbformat_minor": 1
}
