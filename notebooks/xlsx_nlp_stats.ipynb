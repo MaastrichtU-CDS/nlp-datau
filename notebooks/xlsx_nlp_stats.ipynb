{
 "cells": [
  {
   "cell_type": "markdown",
   "metadata": {
    "collapsed": true,
    "pycharm": {
     "name": "#%% md\n"
    }
   },
   "source": [
    "# Calculate NLP statistics over classification results in excel format\n",
    "Analyse a excel sheet of NLP classification results."
   ]
  },
  {
   "cell_type": "markdown",
   "metadata": {},
   "source": [
    "Use yaml config"
   ]
  },
  {
   "cell_type": "code",
   "execution_count": 1,
   "metadata": {
    "pycharm": {
     "is_executing": false,
     "name": "#%%\n"
    }
   },
   "outputs": [],
   "source": [
    "use_config_file = True\n",
    "config_file = './../resources/config/result-analysis-tn-tn-val.yaml'\n",
    "cfg = None\n",
    "if use_config_file:\n",
    "    import yaml\n",
    "    with open(config_file, 'r') as yaml_file:\n",
    "        cfg = yaml.safe_load(yaml_file)\n"
   ]
  },
  {
   "cell_type": "markdown",
   "metadata": {
    "pycharm": {
     "name": "#%% md\n"
    }
   },
   "source": [
    "Set path of excel sheet"
   ]
  },
  {
   "cell_type": "code",
   "execution_count": 2,
   "metadata": {
    "pycharm": {
     "is_executing": false,
     "name": "#%%\n"
    }
   },
   "outputs": [],
   "source": [
    "path_excel_sheet = \"./../resources/data_ignored/results-tn-train.xlsx\"\n",
    "if use_config_file:\n",
    "    path_excel_sheet = cfg['path_excel_sheet']\n"
   ]
  },
  {
   "cell_type": "markdown",
   "metadata": {
    "pycharm": {
     "name": "#%% md\n"
    }
   },
   "source": [
    "Set output directory"
   ]
  },
  {
   "cell_type": "code",
   "execution_count": 3,
   "metadata": {
    "pycharm": {
     "is_executing": false,
     "name": "#%%\n"
    }
   },
   "outputs": [
    {
     "name": "stdout",
     "output_type": "stream",
     "text": [
      "Successfully created the directory ./../resources/results/results-tn-val-merge-result \n"
     ]
    }
   ],
   "source": [
    "path_output_dir = \"./../resources/\"\n",
    "\n",
    "out_file = None\n",
    "out_file_excel = None\n",
    "if use_config_file:\n",
    "    path_output_dir = cfg['path_output_dir']\n",
    "try:\n",
    "    from pathlib import Path\n",
    "    Path(path_output_dir).mkdir(parents=True, exist_ok=True)\n",
    "    out_file = open(path_output_dir + \"/\"+ \"result-analysis-out.txt\", \"w\")\n",
    "    out_file_excel = path_output_dir + \"/\"+ \"result-analysis-out.xlsx\"\n",
    "except OSError:\n",
    "    print (\"Creation of the directory %s failed\" % path_output_dir)\n",
    "else:\n",
    "    print (\"Successfully created the directory %s \" % path_output_dir)\n",
    "    "
   ]
  },
  {
   "cell_type": "markdown",
   "metadata": {
    "pycharm": {
     "name": "#%% md\n"
    }
   },
   "source": [
    "Set label and classification columns"
   ]
  },
  {
   "cell_type": "code",
   "execution_count": 4,
   "metadata": {
    "pycharm": {
     "is_executing": false,
     "name": "#%%\n"
    }
   },
   "outputs": [],
   "source": [
    "column_actual = 'label longembolie'\n",
    "column_predicted = 'target-snomedct:59282003'\n",
    "\n",
    "if use_config_file:\n",
    "    column_actual = cfg['column_actual']\n",
    "    column_predicted = cfg['column_predicted']"
   ]
  },
  {
   "cell_type": "markdown",
   "metadata": {
    "pycharm": {
     "name": "#%% md\n"
    }
   },
   "source": [
    "Read columns and determine values, in case of key error, make sure the columns are set correctly"
   ]
  },
  {
   "cell_type": "code",
   "execution_count": 5,
   "metadata": {
    "pycharm": {
     "is_executing": false,
     "name": "#%%\n"
    }
   },
   "outputs": [
    {
     "name": "stdout",
     "output_type": "stream",
     "text": [
      "actual category values: ['??', 'T4N2', 'T1cN0', 'T4N0', 'T3N2', 'T3N3', 'T3N0', 'T2bN2', 'T4N3', 'T2aN0', 'T1cN2', 'T2aN2', 'T1cN1', 'T2N2', 'T2bN3', 'T4N1', 'T2bN0', 'T2bN1', 'T1bN0', 'T2N0', 'T2N3', 'T2aN1', 'T1cN3', 'T1bN2', 'T2aN3', 'T1bN3']\n",
      "predicted category values: ['T4N2', 'T1cN0', 'T2bN2', 'T3N2', 'T4N3', 'T4N0', 'T3N0', 'T1cN2', 'T3N3', 'T2aN0', 'T2aN3', 'T2aN2', 'T4N1', 'T1cN1', 'T2aN1', 'T2N2', 'T1bN0', 'T0N0', 'T0N3', 'T1cN3', 'T2bN3', 'T1bN2', 'T2bN1', 'T2N0', 'T2N3', 'T3N1', 'T2bN0', 'T0N2', 'T1bN3']\n",
      "['T3N0', 'T2N0', 'T1bN0', 'T3N2', 'T4N2', 'T2bN0', 'T0N2', 'T1cN1', '??', 'T2N3', 'T0N0', 'T4N1', 'T1bN2', 'T1cN3', 'T2aN1', 'T3N3', 'T2N2', 'T0N3', 'T2aN0', 'T2bN3', 'T1cN0', 'T2bN2', 'T1cN2', 'T3N1', 'T2aN3', 'T2aN2', 'T4N3', 'T1bN3', 'T4N0', 'T2bN1']\n"
     ]
    }
   ],
   "source": [
    "import pandas\n",
    "df = pandas.read_excel(path_excel_sheet, header=0)\n",
    "\n",
    "actual_values = df[column_actual].value_counts().index.tolist() \n",
    "predicted_values = df[column_predicted].value_counts().index.tolist() \n",
    "\n",
    "print('actual category values:', actual_values)\n",
    "print('predicted category values:', predicted_values)\n",
    "all_values = list(set(actual_values).union(set(predicted_values)))\n",
    "print(all_values)"
   ]
  },
  {
   "cell_type": "markdown",
   "metadata": {
    "pycharm": {
     "name": "#%% md\n"
    }
   },
   "source": [
    "Manually set valid values from actual and predicted categories (other values will be ignored)"
   ]
  },
  {
   "cell_type": "code",
   "execution_count": 6,
   "metadata": {
    "pycharm": {
     "is_executing": false,
     "name": "#%%\n"
    }
   },
   "outputs": [],
   "source": [
    "valid_values = []\n",
    "ignored_values = []\n",
    "\n",
    "if use_config_file and 'valid_values' in cfg:\n",
    "    valid_values = cfg['valid_values']\n",
    "if use_config_file and 'ignored_values' in cfg:\n",
    "    ignored_values = cfg['ignored_values']\n",
    "\n",
    "if not valid_values or len(valid_values) == 0:\n",
    "    valid_values = all_values\n",
    "    \n",
    "def matches_ignored(x):\n",
    "    for ignored in ignored_values:\n",
    "        if ignored in x:\n",
    "            return True\n",
    "    return False\n",
    "    \n",
    "valid_values = [] \n",
    "for x in all_values:\n",
    "    if not matches_ignored(x):\n",
    "        valid_values.append(x)\n",
    "\n",
    "valid_values.sort()"
   ]
  },
  {
   "cell_type": "markdown",
   "metadata": {
    "pycharm": {
     "name": "#%% md\n"
    }
   },
   "source": [
    "Check valid values"
   ]
  },
  {
   "cell_type": "code",
   "execution_count": 7,
   "metadata": {
    "pycharm": {
     "is_executing": false,
     "name": "#%%\n"
    }
   },
   "outputs": [
    {
     "name": "stdout",
     "output_type": "stream",
     "text": [
      "actual category values: ['T4N2', 'T1cN0', 'T3N2', 'T4N0', 'T2bN2', 'T3N0', 'T4N3', 'T3N3', 'T1cN2', 'T2aN0', 'T2aN2', 'T2N2', 'T1cN1', 'T2bN3', 'T1bN0', 'T2bN1', 'T4N1', 'T2bN0', 'T1cN3', 'T2aN1', 'T2N3', 'T2N0', 'T2aN3', 'T1bN3', 'T1bN2']\n",
      "predicted category values: ['T4N2', 'T1cN0', 'T3N2', 'T2bN2', 'T4N3', 'T4N0', 'T3N0', 'T1cN2', 'T3N3', 'T2aN0', 'T2aN2', 'T4N1', 'T1bN0', 'T2N2', 'T2bN3', 'T2aN1', 'T2aN3', 'T1cN1', 'T1bN2', 'T0N0', 'T2bN0', 'T2N0', 'T2N3', 'T1bN3', 'T2bN1']\n"
     ]
    }
   ],
   "source": [
    "df_valid = df[df[column_actual].isin(valid_values)]\n",
    "\n",
    "actual_index_valid = df_valid[column_actual].value_counts().index.tolist() \n",
    "predicted_index_valid = df_valid[column_predicted].value_counts().index.tolist() \n",
    "\n",
    "print('actual category values:', actual_index_valid)\n",
    "print('predicted category values:', predicted_index_valid)"
   ]
  },
  {
   "cell_type": "markdown",
   "metadata": {
    "pycharm": {
     "name": "#%% md\n"
    }
   },
   "source": [
    "Histograms Original"
   ]
  },
  {
   "cell_type": "code",
   "execution_count": 8,
   "metadata": {
    "pycharm": {
     "is_executing": false,
     "name": "#%%\n"
    }
   },
   "outputs": [
    {
     "data": {
      "image/png": "[encoded data removed]",
      "text/plain": [
       "<Figure size 432x288 with 1 Axes>"
      ]
     },
     "metadata": {
      "needs_background": "light"
     },
     "output_type": "display_data"
    }
   ],
   "source": [
    "actual_bar_plt = df[column_actual].value_counts(sort = False).plot(kind='bar', title='actual')"
   ]
  },
  {
   "cell_type": "markdown",
   "metadata": {
    "pycharm": {
     "is_executing": false,
     "name": "#%% md\n"
    }
   },
   "source": [
    "Histograms Valid Values only"
   ]
  },
  {
   "cell_type": "code",
   "execution_count": 9,
   "metadata": {
    "pycharm": {
     "is_executing": false,
     "name": "#%%\n"
    }
   },
   "outputs": [
    {
     "data": {
      "image/png": "[encoded data removed]",
      "text/plain": [
       "<Figure size 432x288 with 1 Axes>"
      ]
     },
     "metadata": {
      "needs_background": "light"
     },
     "output_type": "display_data"
    }
   ],
   "source": [
    "actual_valid_bar_plot = df_valid[column_actual].value_counts().plot(kind='bar', title='actual valid')"
   ]
  },
  {
   "cell_type": "code",
   "execution_count": 10,
   "metadata": {
    "pycharm": {
     "is_executing": false,
     "name": "#%%\n"
    }
   },
   "outputs": [
    {
     "data": {
      "image/png": "[encoded data removed]",
      "text/plain": [
       "<Figure size 432x288 with 1 Axes>"
      ]
     },
     "metadata": {
      "needs_background": "light"
     },
     "output_type": "display_data"
    }
   ],
   "source": [
    "predicted_valid_bar_plt = df_valid[column_predicted].value_counts().plot(kind='bar', title='predicted valid')"
   ]
  },
  {
   "cell_type": "markdown",
   "metadata": {
    "pycharm": {
     "name": "#%% md\n"
    }
   },
   "source": [
    "Metrics"
   ]
  },
  {
   "cell_type": "code",
   "execution_count": 11,
   "metadata": {
    "pycharm": {
     "is_executing": false,
     "name": "#%%\n"
    }
   },
   "outputs": [
    {
     "name": "stdout",
     "output_type": "stream",
     "text": [
      "accuracy = 0.8247\n",
      "micro_precision = 0.8247\n",
      "micro_recall_score = 0.8247\n",
      "micro_f1 = 0.8247\n",
      "macro_precision = 0.7946\n",
      "macro_recall_score = 0.7664\n",
      "macro_f1 = 0.7611\n",
      "weighted_precision = 0.8473\n",
      "weighted_recall_score = 0.8247\n",
      "weighted_f1 = 0.8223\n",
      "precision: [0.         1.         1.         1.         0.9        1.\n",
      " 0.8        0.         1.         1.         1.         1.\n",
      " 0.5        0.66666667 0.5        1.         1.         0.66666667\n",
      " 1.         0.83333333 0.88888889 1.         0.85714286 0.5\n",
      " 0.83333333 0.71428571]\n",
      "recall: [0.         1.         1.         1.         1.         0.66666667\n",
      " 0.8        0.         1.         0.66666667 1.         0.8\n",
      " 1.         0.5        1.         0.5        0.5        1.\n",
      " 1.         0.83333333 1.         0.66666667 0.75       0.5\n",
      " 0.90909091 0.83333333]\n",
      "fscore: [0.         1.         1.         1.         0.94736842 0.8\n",
      " 0.8        0.         1.         0.8        1.         0.88888889\n",
      " 0.66666667 0.57142857 0.66666667 0.66666667 0.66666667 0.8\n",
      " 1.         0.83333333 0.94117647 0.8        0.8        0.5\n",
      " 0.86956522 0.76923077]\n",
      "support: [ 0  2  1  1  9  3  5  1  1  3  1  5  1  4  1  2  2  6  2  6  8  6  8  2\n",
      " 11  6]\n",
      "\n",
      "\n",
      "       Precision    Recall   F-score\n",
      "T0N0    0.000000  0.000000  0.000000\n",
      "T0N2    0.000000  0.000000  0.000000\n",
      "T0N3    0.000000  0.000000  0.000000\n",
      "T1bN0   1.000000  1.000000  1.000000\n",
      "T1bN2   1.000000  1.000000  1.000000\n",
      "T1bN3   1.000000  1.000000  1.000000\n",
      "T1cN0   0.900000  1.000000  0.947368\n",
      "T1cN1   1.000000  0.666667  0.800000\n",
      "T1cN2   0.800000  0.800000  0.800000\n",
      "T1cN3   0.000000  0.000000  0.000000\n",
      "T2N0    1.000000  1.000000  1.000000\n",
      "T2N2    1.000000  0.666667  0.800000\n",
      "T2N3    1.000000  1.000000  1.000000\n",
      "T2aN0   1.000000  0.800000  0.888889\n",
      "T2aN1   0.500000  1.000000  0.666667\n",
      "T2aN2   0.666667  0.500000  0.571429\n",
      "T2aN3   0.500000  1.000000  0.666667\n",
      "T2bN0   1.000000  0.500000  0.666667\n",
      "T2bN1   1.000000  0.500000  0.666667\n",
      "T2bN2   0.666667  1.000000  0.800000\n",
      "T2bN3   1.000000  1.000000  1.000000\n",
      "T3N0    0.833333  0.833333  0.833333\n",
      "T3N1    0.000000  0.000000  0.000000\n",
      "T3N2    0.888889  1.000000  0.941176\n",
      "T3N3    1.000000  0.666667  0.800000\n",
      "T4N0    0.857143  0.750000  0.800000\n",
      "T4N1    0.500000  0.500000  0.500000\n",
      "T4N2    0.833333  0.909091  0.869565\n",
      "T4N3    0.714286  0.833333  0.769231\n"
     ]
    },
    {
     "name": "stderr",
     "output_type": "stream",
     "text": [
      "/opt/conda/lib/python3.7/site-packages/sklearn/metrics/_classification.py:1272: UndefinedMetricWarning: Precision is ill-defined and being set to 0.0 in labels with no predicted samples. Use `zero_division` parameter to control this behavior.\n",
      "  _warn_prf(average, modifier, msg_start, len(result))\n",
      "/opt/conda/lib/python3.7/site-packages/sklearn/metrics/_classification.py:1272: UndefinedMetricWarning: Recall is ill-defined and being set to 0.0 in labels with no true samples. Use `zero_division` parameter to control this behavior.\n",
      "  _warn_prf(average, modifier, msg_start, len(result))\n",
      "/opt/conda/lib/python3.7/site-packages/sklearn/metrics/_classification.py:1272: UndefinedMetricWarning: Precision and F-score are ill-defined and being set to 0.0 in labels with no predicted samples. Use `zero_division` parameter to control this behavior.\n",
      "  _warn_prf(average, modifier, msg_start, len(result))\n",
      "/opt/conda/lib/python3.7/site-packages/sklearn/metrics/_classification.py:1272: UndefinedMetricWarning: Recall and F-score are ill-defined and being set to 0.0 in labels with no true samples. Use `zero_division` parameter to control this behavior.\n",
      "  _warn_prf(average, modifier, msg_start, len(result))\n"
     ]
    },
    {
     "data": {
      "text/plain": [
       "1111"
      ]
     },
     "execution_count": 11,
     "metadata": {},
     "output_type": "execute_result"
    }
   ],
   "source": [
    "df = df_valid\n",
    "\n",
    "from sklearn.metrics import precision_recall_fscore_support, confusion_matrix\n",
    "y_actu = pandas.Series(df[column_actual], name='Actual')\n",
    "y_pred = pandas.Series(df[column_predicted], name='Predicted')\n",
    "\n",
    "from sklearn.metrics import accuracy_score, f1_score, precision_score, recall_score, classification_report, confusion_matrix\n",
    "\n",
    "accuracy = \"accuracy = \" + str(round(accuracy_score(y_actu, y_pred), 4))\n",
    "print(accuracy)\n",
    "out_file.write(accuracy + \"\\n\\n\")\n",
    "\n",
    "avg = [\"micro\", \"macro\", \"weighted\"]\n",
    "for avg_opt in avg:\n",
    "    a_precision = avg_opt + \"_precision = \" + str(round(precision_score(y_actu, y_pred, average=avg_opt), 4))\n",
    "    a_recall_score = avg_opt + \"_recall_score = \" + str(round(recall_score(y_actu, y_pred, average=avg_opt), 4))\n",
    "    a_f1 = avg_opt + \"_f1 = \" + str(round(f1_score(y_actu, y_pred, average=avg_opt), 4))\n",
    "    print(a_precision)\n",
    "    print(a_recall_score)\n",
    "    print(a_f1)       \n",
    "    out_file.write(a_precision + \"\\n\")\n",
    "    out_file.write(a_recall_score + \"\\n\")\n",
    "    out_file.write(a_f1 + \"\\n\")\n",
    "    out_file.write(\"\\n\")\n",
    "    \n",
    "from sklearn.metrics import precision_recall_fscore_support as score\n",
    "predicted = [1,2,3,4,5,1,2,1,1,4,5] \n",
    "\n",
    "precision, recall, fscore, support = score(y_actu, y_pred)\n",
    "\n",
    "print('precision: {}'.format(precision))\n",
    "print('recall: {}'.format(recall))\n",
    "print('fscore: {}'.format(fscore))\n",
    "print('support: {}'.format(support))\n",
    "\n",
    "out_file.write('precision: {}'.format(precision) + '\\n')\n",
    "out_file.write('recall: {}'.format(recall) +'\\n')\n",
    "out_file.write('fscore: {}'.format(fscore) + '\\n')\n",
    "out_file.write('support: {}'.format(support) + '\\n')\n",
    "print('\\n')\n",
    "               \n",
    "prf = precision_recall_fscore_support(y_actu, y_pred, average=None, labels=valid_values)\n",
    "evaldf = pandas.DataFrame({\"Precision\": prf[0], \"Recall\": prf[1], \"F-score\": prf[2]}, index=valid_values)\n",
    "print(evaldf)\n",
    "out_file.write(str(evaldf) + \"\\n\\n\")"
   ]
  },
  {
   "cell_type": "markdown",
   "metadata": {
    "pycharm": {
     "name": "#%% md\n"
    }
   },
   "source": [
    "Create confusion matrix"
   ]
  },
  {
   "cell_type": "code",
   "execution_count": 12,
   "metadata": {
    "pycharm": {
     "is_executing": false,
     "name": "#%%\n"
    }
   },
   "outputs": [
    {
     "name": "stdout",
     "output_type": "stream",
     "text": [
      "CONFUSION MATRIX\n",
      "Predicted  T0N0  T1bN0  T1bN2  T1bN3  T1cN0  T1cN1  T1cN2  T2N0  T2N2  T2N3  \\\n",
      "Actual                                                                        \n",
      "T1bN0         0      2      0      0      0      0      0     0     0     0   \n",
      "T1bN2         0      0      1      0      0      0      0     0     0     0   \n",
      "T1bN3         0      0      0      1      0      0      0     0     0     0   \n",
      "T1cN0         0      0      0      0      9      0      0     0     0     0   \n",
      "T1cN1         0      0      0      0      1      2      0     0     0     0   \n",
      "T1cN2         0      0      0      0      0      0      4     0     0     0   \n",
      "T1cN3         0      0      0      0      0      0      1     0     0     0   \n",
      "T2N0          0      0      0      0      0      0      0     1     0     0   \n",
      "T2N2          0      0      0      0      0      0      0     0     2     0   \n",
      "T2N3          0      0      0      0      0      0      0     0     0     1   \n",
      "T2aN0         1      0      0      0      0      0      0     0     0     0   \n",
      "T2aN1         0      0      0      0      0      0      0     0     0     0   \n",
      "T2aN2         0      0      0      0      0      0      0     0     0     0   \n",
      "T2aN3         0      0      0      0      0      0      0     0     0     0   \n",
      "T2bN0         0      0      0      0      0      0      0     0     0     0   \n",
      "T2bN1         0      0      0      0      0      0      0     0     0     0   \n",
      "T2bN2         0      0      0      0      0      0      0     0     0     0   \n",
      "T2bN3         0      0      0      0      0      0      0     0     0     0   \n",
      "T3N0          0      0      0      0      0      0      0     0     0     0   \n",
      "T3N2          0      0      0      0      0      0      0     0     0     0   \n",
      "T3N3          0      0      0      0      0      0      0     0     0     0   \n",
      "T4N0          0      0      0      0      0      0      0     0     0     0   \n",
      "T4N1          0      0      0      0      0      0      0     0     0     0   \n",
      "T4N2          0      0      0      0      0      0      0     0     0     0   \n",
      "T4N3          0      0      0      0      0      0      0     0     0     0   \n",
      "All           1      2      1      1     10      2      5     1     2     1   \n",
      "\n",
      "Predicted  ...  T2bN2  T2bN3  T3N0  T3N2  T3N3  T4N0  T4N1  T4N2  T4N3  All  \n",
      "Actual     ...                                                               \n",
      "T1bN0      ...      0      0     0     0     0     0     0     0     0    2  \n",
      "T1bN2      ...      0      0     0     0     0     0     0     0     0    1  \n",
      "T1bN3      ...      0      0     0     0     0     0     0     0     0    1  \n",
      "T1cN0      ...      0      0     0     0     0     0     0     0     0    9  \n",
      "T1cN1      ...      0      0     0     0     0     0     0     0     0    3  \n",
      "T1cN2      ...      1      0     0     0     0     0     0     0     0    5  \n",
      "T1cN3      ...      0      0     0     0     0     0     0     0     0    1  \n",
      "T2N0       ...      0      0     0     0     0     0     0     0     0    1  \n",
      "T2N2       ...      1      0     0     0     0     0     0     0     0    3  \n",
      "T2N3       ...      0      0     0     0     0     0     0     0     0    1  \n",
      "T2aN0      ...      0      0     0     0     0     0     0     0     0    5  \n",
      "T2aN1      ...      0      0     0     0     0     0     0     0     0    1  \n",
      "T2aN2      ...      0      0     0     0     0     0     0     0     0    4  \n",
      "T2aN3      ...      0      0     0     0     0     0     0     0     0    1  \n",
      "T2bN0      ...      0      0     0     0     0     1     0     0     0    2  \n",
      "T2bN1      ...      1      0     0     0     0     0     0     0     0    2  \n",
      "T2bN2      ...      6      0     0     0     0     0     0     0     0    6  \n",
      "T2bN3      ...      0      2     0     0     0     0     0     0     0    2  \n",
      "T3N0       ...      0      0     5     1     0     0     0     0     0    6  \n",
      "T3N2       ...      0      0     0     8     0     0     0     0     0    8  \n",
      "T3N3       ...      0      0     0     0     4     0     0     1     1    6  \n",
      "T4N0       ...      0      0     1     0     0     6     1     0     0    8  \n",
      "T4N1       ...      0      0     0     0     0     0     1     0     1    2  \n",
      "T4N2       ...      0      0     0     0     0     0     0    10     0   11  \n",
      "T4N3       ...      0      0     0     0     0     0     0     1     5    6  \n",
      "All        ...      9      2     6     9     4     7     2    12     7   97  \n",
      "\n",
      "[26 rows x 26 columns]\n"
     ]
    }
   ],
   "source": [
    "crosstab = pandas.crosstab(y_actu, y_pred, rownames=['Actual'], colnames=['Predicted'], margins=True)\n",
    "print(\"CONFUSION MATRIX\")\n",
    "print(crosstab)\n",
    "out_file.write(str(crosstab))\n",
    "\n",
    "\n",
    "import openpyxl\n",
    "crosstab.to_excel(out_file_excel)\n"
   ]
  },
  {
   "cell_type": "markdown",
   "metadata": {
    "pycharm": {
     "name": "#%% md\n"
    }
   },
   "source": [
    "Plot confusion matrix"
   ]
  },
  {
   "cell_type": "code",
   "execution_count": 13,
   "metadata": {
    "pycharm": {
     "is_executing": false,
     "name": "#%%\n"
    },
    "scrolled": true
   },
   "outputs": [
    {
     "data": {
      "image/png": "[encoded data removed]",
      "text/plain": [
       "<Figure size 1152x1152 with 2 Axes>"
      ]
     },
     "metadata": {
      "needs_background": "light"
     },
     "output_type": "display_data"
    }
   ],
   "source": [
    "import seaborn\n",
    "import matplotlib\n",
    "import matplotlib.pyplot as plt\n",
    "\n",
    "data = {'y_Actual': df_valid[column_actual], 'y_Predicted': df_valid[column_predicted]}\n",
    "df = pandas.DataFrame(data, columns=['y_Actual','y_Predicted'])\n",
    "\n",
    "confusion_matrix = pandas.crosstab(df['y_Actual'], df['y_Predicted'], rownames=['Actual'], colnames=['Predicted'])\n",
    "\n",
    "plt.figure(figsize=(16,16))  \n",
    "plt.title(cfg['title_confusion_matrix'])\n",
    "\n",
    "confusion_matrix_heatmap = seaborn.heatmap(confusion_matrix, annot=True, cmap=matplotlib.cm.Blues)\n",
    "\n"
   ]
  },
  {
   "cell_type": "markdown",
   "metadata": {
    "pycharm": {
     "name": "#%% md\n"
    }
   },
   "source": [
    "Save confusion matix figure to file"
   ]
  },
  {
   "cell_type": "code",
   "execution_count": 14,
   "metadata": {
    "pycharm": {
     "is_executing": false,
     "name": "#%%\n"
    }
   },
   "outputs": [],
   "source": [
    "file_type_eps = False\n",
    "fig = confusion_matrix_heatmap.get_figure()\n",
    "if file_type_eps:\n",
    "    fig.savefig(path_output_dir + \"/\" + \"confusion_matrix.eps\", dict=\"eps\", dpi=600)\n",
    "else:\n",
    "   fig.savefig(path_output_dir + \"/\" + \"confusion_matrix.png\", dpi=600)\n",
    "\n",
    "out_file.close()"
   ]
  }
 ],
 "metadata": {
  "kernelspec": {
   "display_name": "Python 3",
   "language": "python",
   "name": "python3"
  },
  "language_info": {
   "codemirror_mode": {
    "name": "ipython",
    "version": 3
   },
   "file_extension": ".py",
   "mimetype": "text/x-python",
   "name": "python",
   "nbconvert_exporter": "python",
   "pygments_lexer": "ipython3",
   "version": "3.7.6"
  },
  "pycharm": {
   "stem_cell": {
    "cell_type": "raw",
    "metadata": {
     "collapsed": false
    },
    "source": []
   }
  }
 },
 "nbformat": 4,
 "nbformat_minor": 1
}
