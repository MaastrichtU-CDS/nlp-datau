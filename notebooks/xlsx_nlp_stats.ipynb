{
 "cells": [
  {
   "cell_type": "markdown",
   "metadata": {
    "collapsed": true,
    "pycharm": {
     "name": "#%% md\n"
    }
   },
   "source": [
    "# Calculate NLP statistics over classification results in excel format\n",
    "Analyse a excel sheet of NLP classification results."
   ]
  },
  {
   "cell_type": "markdown",
   "source": [
    "Use yaml config"
   ],
   "metadata": {
    "collapsed": false
   }
  },
  {
   "cell_type": "code",
   "execution_count": 46,
   "outputs": [],
   "source": [
    "use_config_file = True\n",
    "config_file = './../resources/config/result-analysis-tn-tn-train.yaml'\n",
    "cfg = None\n",
    "if use_config_file:\n",
    "    import yaml\n",
    "    with open(config_file, 'r') as yaml_file:\n",
    "        cfg = yaml.safe_load(yaml_file)\n"
   ],
   "metadata": {
    "collapsed": false,
    "pycharm": {
     "name": "#%%\n",
     "is_executing": false
    }
   }
  },
  {
   "cell_type": "markdown",
   "metadata": {
    "pycharm": {
     "name": "#%% md\n"
    }
   },
   "source": [
    "Set path of excel sheet"
   ]
  },
  {
   "cell_type": "code",
   "execution_count": 47,
   "metadata": {
    "pycharm": {
     "is_executing": false,
     "name": "#%%\n"
    }
   },
   "outputs": [],
   "source": [
    "path_excel_sheet = \"./../resources/data_ignored/context_results.xlsx\"\n",
    "if use_config_file:\n",
    "    path_excel_sheet = cfg['path_excel_sheet']\n"
   ]
  },
  {
   "cell_type": "markdown",
   "source": [
    "Set output directory"
   ],
   "metadata": {
    "collapsed": false,
    "pycharm": {
     "name": "#%% md\n"
    }
   }
  },
  {
   "cell_type": "code",
   "execution_count": 48,
   "outputs": [
    {
     "name": "stdout",
     "text": [
      "Successfully created the directory ./../resources/results/20200116-tnm-tn-train-merge \n"
     ],
     "output_type": "stream"
    }
   ],
   "source": [
    "path_output_dir = \"./../resources/\"\n",
    "\n",
    "out_file = None\n",
    "if use_config_file:\n",
    "    path_output_dir = cfg['path_output_dir']\n",
    "try:\n",
    "    from pathlib import Path\n",
    "    Path(path_output_dir).mkdir(parents=True, exist_ok=True)\n",
    "    out_file = open(path_output_dir + \"/\"+ \"result-analysis-out.txt\", \"w\")\n",
    "except OSError:\n",
    "    print (\"Creation of the directory %s failed\" % path_output_dir)\n",
    "else:\n",
    "    print (\"Successfully created the directory %s \" % path_output_dir)\n",
    "    "
   ],
   "metadata": {
    "collapsed": false,
    "pycharm": {
     "name": "#%%\n",
     "is_executing": false
    }
   }
  },
  {
   "cell_type": "markdown",
   "metadata": {
    "pycharm": {
     "name": "#%% md\n"
    }
   },
   "source": [
    "Set label and classification columns"
   ]
  },
  {
   "cell_type": "code",
   "execution_count": 49,
   "metadata": {
    "pycharm": {
     "is_executing": false,
     "name": "#%%\n"
    }
   },
   "outputs": [],
   "source": [
    "column_actual = 'label longembolie'\n",
    "column_predicted = 'target-snomedct:59282003'\n",
    "\n",
    "if use_config_file:\n",
    "    column_actual = cfg['column_actual']\n",
    "    column_predicted = cfg['column_predicted']"
   ]
  },
  {
   "cell_type": "markdown",
   "metadata": {
    "pycharm": {
     "name": "#%% md\n"
    }
   },
   "source": [
    "Read columns and determine values, in case of key error, make sure the columns are set correctly"
   ]
  },
  {
   "cell_type": "code",
   "execution_count": 50,
   "metadata": {
    "pycharm": {
     "is_executing": false,
     "name": "#%%\n"
    }
   },
   "outputs": [
    {
     "name": "stdout",
     "text": [
      "actual category values: ['T4N2', '??', 'T4N3', 'T4N0', 'T1cN0', 'T1bN0', 'T3N3', 'T3N2', 'T3N0', 'T2aN0', 'T2N2', 'T2bN0', 'T2bN2', 'T1cN3', 'T2aN2', 'T2bN3', 'T4?', 'T2a?', 'T1bN1', 'T1cN2', 'T2aN1', 'T3?', 'T3N1', 'T2N3', 'T2b?', 'T2aN3', 'T1aN2', 'T0N2']\n",
      "predicted category values: ['T4N2', 'T4N3', 'T3N2', 'T1cN0', 'T1bN0', 'T4N0', 'T3N0', 'T2aN0', 'T3N3', 'T2bN2', 'T2bN0', 'T2bN3', 'T3N1', 'T2aN3', 'T2N0', 'T1bN1', 'T0N3', 'T1cN3', 'T1cN2', 'T2N2', 'T2aN2', 'T0N0', 'T0N2', 'T2aN1', 'T1bN3', 'T0N1', 'T4N1', 'T2N3', 'T1cN1', 'T2bN1', 'T1aN2']\n",
      "['T1cN0', 'T1cN2', 'T2N3', 'T1bN0', '??', 'T4N3', 'T1bN3', 'T2a?', 'T4N1', 'T0N0', 'T4?', 'T1cN3', 'T2aN0', 'T0N2', 'T0N3', 'T4N0', 'T4N2', 'T2N2', 'T3?', 'T2bN3', 'T3N3', 'T2aN3', 'T1bN1', 'T2b?', 'T2bN0', 'T3N1', 'T0N1', 'T3N2', 'T2N0', 'T2aN2', 'T2aN1', 'T2bN2', 'T1cN1', 'T2bN1', 'T1aN2', 'T3N0']\n"
     ],
     "output_type": "stream"
    }
   ],
   "source": [
    "import pandas\n",
    "df = pandas.read_excel(path_excel_sheet, header=0)\n",
    "\n",
    "actual_values = df[column_actual].value_counts().index.tolist() \n",
    "predicted_values = df[column_predicted].value_counts().index.tolist() \n",
    "\n",
    "print('actual category values:', actual_values)\n",
    "print('predicted category values:', predicted_values)\n",
    "all_values = list(set(actual_values).union(set(predicted_values)))\n",
    "print(all_values)"
   ]
  },
  {
   "cell_type": "markdown",
   "metadata": {
    "pycharm": {
     "name": "#%% md\n"
    }
   },
   "source": [
    "Manually set valid values from actual and predicted categories (other values will be ignored)"
   ]
  },
  {
   "cell_type": "code",
   "execution_count": 51,
   "metadata": {
    "pycharm": {
     "is_executing": false,
     "name": "#%%\n"
    }
   },
   "outputs": [],
   "source": [
    "valid_values = []\n",
    "ignored_values = []\n",
    "\n",
    "if use_config_file and 'valid_values' in cfg:\n",
    "    valid_values = cfg['valid_values']\n",
    "if use_config_file and 'ignored_values' in cfg:\n",
    "    ignored_values = cfg['ignored_values']\n",
    "\n",
    "if not valid_values or len(valid_values) == 0:\n",
    "    valid_values = all_values\n",
    "    \n",
    "def matches_ignored(x):\n",
    "    for ignored in ignored_values:\n",
    "        if ignored in x:\n",
    "            return True\n",
    "    return False\n",
    "    \n",
    "valid_values = [] \n",
    "for x in all_values:\n",
    "    if not matches_ignored(x):\n",
    "        valid_values.append(x)\n",
    "\n",
    "valid_values.sort()"
   ]
  },
  {
   "cell_type": "markdown",
   "metadata": {
    "pycharm": {
     "name": "#%% md\n"
    }
   },
   "source": [
    "Check valid values"
   ]
  },
  {
   "cell_type": "code",
   "execution_count": 52,
   "metadata": {
    "pycharm": {
     "name": "#%%\n",
     "is_executing": false
    }
   },
   "outputs": [
    {
     "name": "stdout",
     "text": [
      "actual category values: ['T4N2', 'T4N3', 'T1bN0', 'T4N0', 'T1cN0', 'T3N2', 'T3N3', 'T3N0', 'T2bN0', 'T2aN0', 'T2N2', 'T2bN2', 'T2aN2', 'T2bN3', 'T1cN3', 'T1cN2', 'T1bN1', 'T2aN1', 'T2aN3', 'T2N3', 'T3N1', 'T1aN2', 'T0N2']\n",
      "predicted category values: ['T4N2', 'T4N3', 'T1bN0', 'T4N0', 'T1cN0', 'T3N2', 'T3N3', 'T3N0', 'T2bN0', 'T2aN0', 'T2N2', 'T2bN2', 'T2aN2', 'T2bN3', 'T1cN3', 'T1cN2', 'T1bN1', 'T2aN1', 'T2aN3', 'T2N3', 'T3N1', 'T1aN2', 'T0N2']\n"
     ],
     "output_type": "stream"
    }
   ],
   "source": [
    "df_valid = df[df[column_actual].isin(valid_values)]\n",
    "\n",
    "actual_index_valid = df_valid[column_actual].value_counts().index.tolist() \n",
    "predicted_index_valid = df_valid[column_actual].value_counts().index.tolist() \n",
    "\n",
    "print('actual category values:', actual_index_valid)\n",
    "print('predicted category values:', predicted_index_valid)"
   ]
  },
  {
   "cell_type": "markdown",
   "metadata": {
    "pycharm": {
     "name": "#%% md\n"
    }
   },
   "source": [
    "Histograms Original"
   ]
  },
  {
   "cell_type": "code",
   "execution_count": 53,
   "metadata": {
    "pycharm": {
     "is_executing": false,
     "name": "#%%\n"
    }
   },
   "outputs": [
    {
     "data": {
      "text/plain": "<Figure size 432x288 with 1 Axes>",
      "image/png": "[encoded data removed]"
     },
     "metadata": {
      "needs_background": "light"
     },
     "output_type": "display_data"
    }
   ],
   "source": [
    "actual_bar_plt = df[column_actual].value_counts(sort = False).plot(kind='bar', title='actual')"
   ]
  },
  {
   "cell_type": "markdown",
   "metadata": {
    "pycharm": {
     "is_executing": false,
     "name": "#%% md\n"
    }
   },
   "source": [
    "Histograms Valid Values only"
   ]
  },
  {
   "cell_type": "code",
   "execution_count": 54,
   "outputs": [
    {
     "data": {
      "text/plain": "<Figure size 432x288 with 1 Axes>",
      "image/png": "[encoded data removed]"
     },
     "metadata": {
      "needs_background": "light"
     },
     "output_type": "display_data"
    }
   ],
   "source": [
    "actual_valid_bar_plot = df_valid[column_actual].value_counts().plot(kind='bar', title='actual valid')"
   ],
   "metadata": {
    "collapsed": false,
    "pycharm": {
     "name": "#%%\n",
     "is_executing": false
    }
   }
  },
  {
   "cell_type": "code",
   "execution_count": 55,
   "outputs": [
    {
     "data": {
      "text/plain": "<Figure size 432x288 with 1 Axes>",
      "image/png": "[encoded data removed]"
     },
     "metadata": {
      "needs_background": "light"
     },
     "output_type": "display_data"
    }
   ],
   "source": [
    "predicted_valid_bar_plt = df_valid[column_predicted].value_counts().plot(kind='bar', title='predicted valid')"
   ],
   "metadata": {
    "collapsed": false,
    "pycharm": {
     "name": "#%%\n",
     "is_executing": false
    }
   }
  },
  {
   "cell_type": "markdown",
   "metadata": {
    "pycharm": {
     "is_executing": false,
     "name": "#%% md\n"
    }
   },
   "source": [
    "Compute accuracy"
   ]
  },
  {
   "cell_type": "code",
   "execution_count": 56,
   "metadata": {
    "pycharm": {
     "is_executing": false,
     "name": "#%%\n"
    }
   },
   "outputs": [
    {
     "name": "stdout",
     "text": [
      "Accuracy = 72.63%\n"
     ],
     "output_type": "stream"
    },
    {
     "data": {
      "text/plain": "19"
     },
     "metadata": {},
     "output_type": "execute_result",
     "execution_count": 56
    }
   ],
   "source": [
    "df = df_valid\n",
    "accuracy = df[df[column_predicted] == df[column_actual]].shape[0]/df.shape[0]\n",
    "print(\"Accuracy = \" + str(round(accuracy * 100, 2)) + \"%\")\n",
    "out_file.write(\"Accuracy = \" + str(round(accuracy * 100, 2)) + \"%\" + \"\\n\\n\")"
   ]
  },
  {
   "cell_type": "markdown",
   "metadata": {
    "pycharm": {
     "name": "#%% md\n"
    }
   },
   "source": [
    "F-scores"
   ]
  },
  {
   "cell_type": "code",
   "execution_count": 57,
   "metadata": {
    "pycharm": {
     "is_executing": false,
     "name": "#%%\n"
    }
   },
   "outputs": [
    {
     "name": "stdout",
     "text": [
      "       Precision    Recall   F-score\n",
      "T0N0    0.000000  0.000000  0.000000\n",
      "T0N1    0.000000  0.000000  0.000000\n",
      "T0N2    0.000000  0.000000  0.000000\n",
      "T0N3    0.000000  0.000000  0.000000\n",
      "T1aN2   1.000000  1.000000  1.000000\n",
      "T1bN0   1.000000  0.857143  0.923077\n",
      "T1bN1   1.000000  0.500000  0.666667\n",
      "T1bN3   0.000000  0.000000  0.000000\n",
      "T1cN0   1.000000  0.857143  0.923077\n",
      "T1cN1   0.000000  0.000000  0.000000\n",
      "T1cN2   0.500000  0.500000  0.500000\n",
      "T1cN3   1.000000  0.666667  0.800000\n",
      "T2N0    0.000000  0.000000  0.000000\n",
      "T2N2    0.500000  0.250000  0.333333\n",
      "T2N3    1.000000  1.000000  1.000000\n",
      "T2aN0   0.800000  1.000000  0.888889\n",
      "T2aN1   1.000000  0.500000  0.666667\n",
      "T2aN2   1.000000  0.666667  0.800000\n",
      "T2aN3   0.333333  1.000000  0.500000\n",
      "T2bN0   1.000000  1.000000  1.000000\n",
      "T2bN1   0.000000  0.000000  0.000000\n",
      "T2bN2   0.750000  0.750000  0.750000\n",
      "T2bN3   1.000000  0.666667  0.800000\n",
      "T3N0    1.000000  0.800000  0.888889\n",
      "T3N1    0.500000  1.000000  0.666667\n",
      "T3N2    0.555556  0.833333  0.666667\n",
      "T3N3    0.400000  0.333333  0.363636\n",
      "T4N0    1.000000  0.714286  0.833333\n",
      "T4N1    0.000000  0.000000  0.000000\n",
      "T4N2    0.909091  0.769231  0.833333\n",
      "T4N3    0.750000  0.750000  0.750000\n"
     ],
     "output_type": "stream"
    },
    {
     "name": "stderr",
     "text": [
      "c:\\users\\sander.puts\\ideaprojects\\work\\venv\\lib\\site-packages\\sklearn\\metrics\\_classification.py:1272: UndefinedMetricWarning: Precision and F-score are ill-defined and being set to 0.0 in labels with no predicted samples. Use `zero_division` parameter to control this behavior.\n",
      "  _warn_prf(average, modifier, msg_start, len(result))\n",
      "c:\\users\\sander.puts\\ideaprojects\\work\\venv\\lib\\site-packages\\sklearn\\metrics\\_classification.py:1272: UndefinedMetricWarning: Recall and F-score are ill-defined and being set to 0.0 in labels with no true samples. Use `zero_division` parameter to control this behavior.\n",
      "  _warn_prf(average, modifier, msg_start, len(result))\n"
     ],
     "output_type": "stream"
    },
    {
     "data": {
      "text/plain": "1185"
     },
     "metadata": {},
     "output_type": "execute_result",
     "execution_count": 57
    }
   ],
   "source": [
    "from sklearn.metrics import precision_recall_fscore_support, confusion_matrix\n",
    "from sklearn.utils.multiclass import unique_labels\n",
    "y_actu = pandas.Series(df[column_actual], name='Actual')\n",
    "y_pred = pandas.Series(df[column_predicted], name='Predicted')\n",
    "\n",
    "labels = unique_labels(y_actu, y_pred)\n",
    "prf = precision_recall_fscore_support(y_actu, y_pred, average=None, labels=valid_values)\n",
    "evaldf = pandas.DataFrame({\"Precision\": prf[0], \"Recall\": prf[1], \"F-score\": prf[2]}, index=valid_values)\n",
    "print(evaldf)\n",
    "out_file.write(str(evaldf) + \"\\n\\n\")"
   ]
  },
  {
   "cell_type": "markdown",
   "metadata": {
    "pycharm": {
     "name": "#%% md\n"
    }
   },
   "source": [
    "Create confusion matrix"
   ]
  },
  {
   "cell_type": "code",
   "execution_count": 58,
   "metadata": {
    "pycharm": {
     "is_executing": false,
     "name": "#%%\n"
    }
   },
   "outputs": [
    {
     "name": "stdout",
     "text": [
      "CONFUSION MATRIX\n",
      "Predicted  T0N0  T0N1  T0N2  T0N3  T1aN2  T1bN0  T1bN1  T1cN0  T1cN1  T1cN2  \\\n",
      "Actual                                                                        \n",
      "T0N2          0     0     0     0      0      0      0      0      0      1   \n",
      "T1aN2         0     0     0     0      1      0      0      0      0      0   \n",
      "T1bN0         0     0     0     0      0      6      0      0      0      0   \n",
      "T1bN1         0     0     0     0      0      0      1      0      1      0   \n",
      "T1cN0         0     0     0     0      0      0      0      6      0      0   \n",
      "T1cN2         0     0     0     0      0      0      0      0      0      1   \n",
      "T1cN3         0     0     0     0      0      0      0      0      0      0   \n",
      "T2N2          0     0     2     0      0      0      0      0      0      0   \n",
      "T2N3          0     0     0     0      0      0      0      0      0      0   \n",
      "T2aN0         0     0     0     0      0      0      0      0      0      0   \n",
      "T2aN1         0     1     0     0      0      0      0      0      0      0   \n",
      "T2aN2         0     0     0     0      0      0      0      0      0      0   \n",
      "T2aN3         0     0     0     0      0      0      0      0      0      0   \n",
      "T2bN0         0     0     0     0      0      0      0      0      0      0   \n",
      "T2bN2         0     0     0     0      0      0      0      0      0      0   \n",
      "T2bN3         0     0     0     0      0      0      0      0      0      0   \n",
      "T3N0          1     0     0     0      0      0      0      0      0      0   \n",
      "T3N1          0     0     0     0      0      0      0      0      0      0   \n",
      "T3N2          0     0     0     0      0      0      0      0      0      0   \n",
      "T3N3          0     0     0     0      0      0      0      0      0      0   \n",
      "T4N0          0     0     0     0      0      0      0      0      0      0   \n",
      "T4N2          0     0     0     0      0      0      0      0      0      0   \n",
      "T4N3          0     0     0     1      0      0      0      0      0      0   \n",
      "All           1     1     2     1      1      6      1      6      1      2   \n",
      "\n",
      "Predicted  ...  T2bN2  T2bN3  T3N0  T3N1  T3N2  T3N3  T4N0  T4N2  T4N3  All  \n",
      "Actual     ...                                                               \n",
      "T0N2       ...      0      0     0     0     0     0     0     0     0    1  \n",
      "T1aN2      ...      0      0     0     0     0     0     0     0     0    1  \n",
      "T1bN0      ...      0      0     0     0     0     0     0     0     0    7  \n",
      "T1bN1      ...      0      0     0     0     0     0     0     0     0    2  \n",
      "T1cN0      ...      0      0     0     0     0     0     0     0     0    7  \n",
      "T1cN2      ...      0      0     0     0     0     0     0     0     0    2  \n",
      "T1cN3      ...      0      0     0     0     0     1     0     0     0    3  \n",
      "T2N2       ...      0      0     0     0     1     0     0     0     0    4  \n",
      "T2N3       ...      0      0     0     0     0     0     0     0     0    1  \n",
      "T2aN0      ...      0      0     0     0     0     0     0     0     0    4  \n",
      "T2aN1      ...      0      0     0     0     0     0     0     0     0    2  \n",
      "T2aN2      ...      0      0     0     0     0     0     0     0     0    3  \n",
      "T2aN3      ...      0      0     0     0     0     0     0     0     0    1  \n",
      "T2bN0      ...      0      0     0     0     0     0     0     0     0    4  \n",
      "T2bN2      ...      3      0     0     0     1     0     0     0     0    4  \n",
      "T2bN3      ...      0      2     0     0     0     0     0     0     0    3  \n",
      "T3N0       ...      0      0     4     0     0     0     0     0     0    5  \n",
      "T3N1       ...      0      0     0     1     0     0     0     0     0    1  \n",
      "T3N2       ...      0      0     0     0     5     1     0     0     0    6  \n",
      "T3N3       ...      1      0     0     1     0     2     0     0     1    6  \n",
      "T4N0       ...      0      0     0     0     0     0     5     1     0    7  \n",
      "T4N2       ...      0      0     0     0     2     0     0    10     1   13  \n",
      "T4N3       ...      0      0     0     0     0     1     0     0     6    8  \n",
      "All        ...      4      2     4     2     9     5     5    11     8   95  \n",
      "\n",
      "[24 rows x 30 columns]\n"
     ],
     "output_type": "stream"
    },
    {
     "data": {
      "text/plain": "4106"
     },
     "metadata": {},
     "output_type": "execute_result",
     "execution_count": 58
    }
   ],
   "source": [
    "confusion_matrix = pandas.crosstab(y_actu, y_pred, rownames=['Actual'], colnames=['Predicted'], margins=True)\n",
    "print(\"CONFUSION MATRIX\")\n",
    "print(confusion_matrix)\n",
    "out_file.write(str(confusion_matrix))"
   ]
  },
  {
   "cell_type": "markdown",
   "metadata": {
    "pycharm": {
     "name": "#%% md\n"
    }
   },
   "source": [
    "Plot confusion matrix"
   ]
  },
  {
   "cell_type": "code",
   "execution_count": 59,
   "metadata": {
    "pycharm": {
     "is_executing": false,
     "name": "#%%\n"
    }
   },
   "outputs": [
    {
     "data": {
      "text/plain": "<Figure size 432x288 with 2 Axes>",
      "image/png": "[encoded data removed]"
     },
     "metadata": {
      "needs_background": "light"
     },
     "output_type": "display_data"
    }
   ],
   "source": [
    "import seaborn\n",
    "import matplotlib\n",
    "data = {'y_Actual':    df_valid[column_predicted],\n",
    "        'y_Predicted': df_valid[column_actual]\n",
    "        }\n",
    "\n",
    "df = pandas.DataFrame(data, columns=['y_Actual','y_Predicted'])\n",
    "confusion_matrix = pandas.crosstab(df['y_Actual'], df['y_Predicted'], rownames=['Actual'], colnames=['Predicted'])\n",
    "\n",
    "confusion_matrix_heatmap = seaborn.heatmap(confusion_matrix, annot=True, cmap=matplotlib.cm.Blues)"
   ]
  },
  {
   "cell_type": "markdown",
   "metadata": {
    "pycharm": {
     "name": "#%% md\n"
    }
   },
   "source": [
    "Save confusion matix figure to file"
   ]
  },
  {
   "cell_type": "code",
   "execution_count": 60,
   "metadata": {
    "pycharm": {
     "is_executing": false,
     "name": "#%%\n"
    }
   },
   "outputs": [],
   "source": [
    "file_type_eps = False\n",
    "if file_type_eps:\n",
    "    confusion_matrix_heatmap.figure.savefig(path_output_dir + \"/\" + \"confusion_matrix.eps\", dict=\"eps\")\n",
    "else:\n",
    "   confusion_matrix_heatmap.figure.savefig(path_output_dir + \"/\" + \"confusion_matrix.png\")\n",
    "\n",
    "out_file.close()"
   ]
  }
 ],
 "metadata": {
  "kernelspec": {
   "display_name": "Python 3",
   "language": "python",
   "name": "python3"
  },
  "language_info": {
   "codemirror_mode": {
    "name": "ipython",
    "version": 3
   },
   "file_extension": ".py",
   "mimetype": "text/x-python",
   "name": "python",
   "nbconvert_exporter": "python",
   "pygments_lexer": "ipython3",
   "version": "3.7.6"
  },
  "pycharm": {
   "stem_cell": {
    "cell_type": "raw",
    "source": [],
    "metadata": {
     "collapsed": false
    }
   }
  }
 },
 "nbformat": 4,
 "nbformat_minor": 1
}