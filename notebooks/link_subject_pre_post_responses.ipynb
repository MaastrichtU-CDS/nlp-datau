{
 "cells": [
  {
   "cell_type": "markdown",
   "metadata": {
    "pycharm": {
     "name": "#%% md\n"
    }
   },
   "source": [
    "# Link Subject Pre to Post Responses #"
   ]
  },
  {
   "cell_type": "markdown",
   "metadata": {
    "pycharm": {
     "name": "#%% md\n"
    }
   },
   "source": [
    "Set paths and columns.\n",
    "\n",
    "Tip! copy files into the directory './../resources/data_ignored/' (relative to this path)"
   ]
  },
  {
   "cell_type": "code",
   "execution_count": 1,
   "metadata": {
    "pycharm": {
     "is_executing": false,
     "name": "#%%\n"
    }
   },
   "outputs": [],
   "source": [
    "col_subject_id = 'subject_id'\n",
    "col_timestamp = 'timestamp'\n",
    "\n",
    "path_in_pre = './../resources/data_ignored/report.3559000.14321-3.csv'\n",
    "path_in_post = './../resources/data_ignored/report.3694000.14321-6.csv'\n",
    "\n",
    "# the results will be written to the following files\n",
    "path_out_link_column = './../resources/data_ignored/report.link.xlsx'\n",
    "path_out_merged = './../resources/data_ignored/report.merged.xlsx'"
   ]
  },
  {
   "cell_type": "markdown",
   "metadata": {
    "pycharm": {
     "name": "#%% md\n"
    }
   },
   "source": [
    "Install dependencies and import the nlp_datau package"
   ]
  },
  {
   "cell_type": "code",
   "execution_count": 2,
   "metadata": {
    "pycharm": {
     "is_executing": false,
     "name": "#%%\n"
    }
   },
   "outputs": [
    {
     "name": "stdout",
     "output_type": "stream",
     "text": [
      "Requirement already satisfied: pandas in /opt/conda/lib/python3.7/site-packages (from -r ./../requirements.txt (line 1)) (1.0.2)\n",
      "Requirement already satisfied: openpyxl in /opt/conda/lib/python3.7/site-packages (from -r ./../requirements.txt (line 2)) (3.0.3)\n",
      "Requirement already satisfied: python-docx==0.8.10 in /opt/conda/lib/python3.7/site-packages (from -r ./../requirements.txt (line 3)) (0.8.10)\n",
      "Requirement already satisfied: elasticsearch<8.0.0,>=7.0.0 in /opt/conda/lib/python3.7/site-packages (from -r ./../requirements.txt (line 4)) (7.6.0)\n",
      "Requirement already satisfied: xmltodict in /opt/conda/lib/python3.7/site-packages (from -r ./../requirements.txt (line 5)) (0.12.0)\n",
      "Requirement already satisfied: spacy<2.3.0,>=2.2.0 in /opt/conda/lib/python3.7/site-packages (from -r ./../requirements.txt (line 6)) (2.2.4)\n",
      "Requirement already satisfied: python-dateutil>=2.6.1 in /opt/conda/lib/python3.7/site-packages (from pandas->-r ./../requirements.txt (line 1)) (2.8.1)\n",
      "Requirement already satisfied: numpy>=1.13.3 in /opt/conda/lib/python3.7/site-packages (from pandas->-r ./../requirements.txt (line 1)) (1.18.1)\n",
      "Requirement already satisfied: pytz>=2017.2 in /opt/conda/lib/python3.7/site-packages (from pandas->-r ./../requirements.txt (line 1)) (2019.3)\n",
      "Requirement already satisfied: et-xmlfile in /opt/conda/lib/python3.7/site-packages (from openpyxl->-r ./../requirements.txt (line 2)) (1.0.1)\n",
      "Requirement already satisfied: jdcal in /opt/conda/lib/python3.7/site-packages (from openpyxl->-r ./../requirements.txt (line 2)) (1.4.1)\n",
      "Requirement already satisfied: lxml>=2.3.2 in /opt/conda/lib/python3.7/site-packages (from python-docx==0.8.10->-r ./../requirements.txt (line 3)) (4.5.0)\n",
      "Requirement already satisfied: urllib3>=1.21.1 in /opt/conda/lib/python3.7/site-packages (from elasticsearch<8.0.0,>=7.0.0->-r ./../requirements.txt (line 4)) (1.25.7)\n",
      "Requirement already satisfied: thinc==7.4.0 in /opt/conda/lib/python3.7/site-packages (from spacy<2.3.0,>=2.2.0->-r ./../requirements.txt (line 6)) (7.4.0)\n",
      "Requirement already satisfied: requests<3.0.0,>=2.13.0 in /opt/conda/lib/python3.7/site-packages (from spacy<2.3.0,>=2.2.0->-r ./../requirements.txt (line 6)) (2.23.0)\n",
      "Requirement already satisfied: catalogue<1.1.0,>=0.0.7 in /opt/conda/lib/python3.7/site-packages (from spacy<2.3.0,>=2.2.0->-r ./../requirements.txt (line 6)) (1.0.0)\n",
      "Requirement already satisfied: cymem<2.1.0,>=2.0.2 in /opt/conda/lib/python3.7/site-packages (from spacy<2.3.0,>=2.2.0->-r ./../requirements.txt (line 6)) (2.0.3)\n",
      "Requirement already satisfied: srsly<1.1.0,>=1.0.2 in /opt/conda/lib/python3.7/site-packages (from spacy<2.3.0,>=2.2.0->-r ./../requirements.txt (line 6)) (1.0.2)\n",
      "Requirement already satisfied: wasabi<1.1.0,>=0.4.0 in /opt/conda/lib/python3.7/site-packages (from spacy<2.3.0,>=2.2.0->-r ./../requirements.txt (line 6)) (0.6.0)\n",
      "Requirement already satisfied: tqdm<5.0.0,>=4.38.0 in /opt/conda/lib/python3.7/site-packages (from spacy<2.3.0,>=2.2.0->-r ./../requirements.txt (line 6)) (4.43.0)\n",
      "Requirement already satisfied: setuptools in /opt/conda/lib/python3.7/site-packages (from spacy<2.3.0,>=2.2.0->-r ./../requirements.txt (line 6)) (46.0.0.post20200311)\n",
      "Requirement already satisfied: plac<1.2.0,>=0.9.6 in /opt/conda/lib/python3.7/site-packages (from spacy<2.3.0,>=2.2.0->-r ./../requirements.txt (line 6)) (1.1.3)\n",
      "Requirement already satisfied: murmurhash<1.1.0,>=0.28.0 in /opt/conda/lib/python3.7/site-packages (from spacy<2.3.0,>=2.2.0->-r ./../requirements.txt (line 6)) (1.0.2)\n",
      "Requirement already satisfied: blis<0.5.0,>=0.4.0 in /opt/conda/lib/python3.7/site-packages (from spacy<2.3.0,>=2.2.0->-r ./../requirements.txt (line 6)) (0.4.1)\n",
      "Requirement already satisfied: preshed<3.1.0,>=3.0.2 in /opt/conda/lib/python3.7/site-packages (from spacy<2.3.0,>=2.2.0->-r ./../requirements.txt (line 6)) (3.0.2)\n",
      "Requirement already satisfied: six>=1.5 in /opt/conda/lib/python3.7/site-packages (from python-dateutil>=2.6.1->pandas->-r ./../requirements.txt (line 1)) (1.14.0)\n",
      "Requirement already satisfied: chardet<4,>=3.0.2 in /opt/conda/lib/python3.7/site-packages (from requests<3.0.0,>=2.13.0->spacy<2.3.0,>=2.2.0->-r ./../requirements.txt (line 6)) (3.0.4)\n",
      "Requirement already satisfied: idna<3,>=2.5 in /opt/conda/lib/python3.7/site-packages (from requests<3.0.0,>=2.13.0->spacy<2.3.0,>=2.2.0->-r ./../requirements.txt (line 6)) (2.9)\n",
      "Requirement already satisfied: certifi>=2017.4.17 in /opt/conda/lib/python3.7/site-packages (from requests<3.0.0,>=2.13.0->spacy<2.3.0,>=2.2.0->-r ./../requirements.txt (line 6)) (2019.11.28)\n",
      "Requirement already satisfied: importlib-metadata>=0.20; python_version < \"3.8\" in /opt/conda/lib/python3.7/site-packages (from catalogue<1.1.0,>=0.0.7->spacy<2.3.0,>=2.2.0->-r ./../requirements.txt (line 6)) (1.5.0)\n",
      "Requirement already satisfied: zipp>=0.5 in /opt/conda/lib/python3.7/site-packages (from importlib-metadata>=0.20; python_version < \"3.8\"->catalogue<1.1.0,>=0.0.7->spacy<2.3.0,>=2.2.0->-r ./../requirements.txt (line 6)) (3.1.0)\n"
     ]
    }
   ],
   "source": [
    "!pip install -r ./../requirements.txt\n",
    "import sys\n",
    "sys.path.append(\"./../\")\n"
   ]
  },
  {
   "cell_type": "markdown",
   "metadata": {
    "pycharm": {
     "name": "#%% md\n"
    }
   },
   "source": [
    "Link and write the output files"
   ]
  },
  {
   "cell_type": "code",
   "execution_count": 3,
   "metadata": {
    "pycharm": {
     "is_executing": false,
     "name": "#%% \n"
    }
   },
   "outputs": [
    {
     "name": "stdout",
     "output_type": "stream",
     "text": [
      "unique subjects 32\n",
      "Subject_id=19038 (0/32)\n",
      "Subject_id=18965 (1/32)\n",
      "Warning no hit for subject=18965 timestamp=1587071505\n",
      "Subject_id=18926 (2/32)\n",
      "Warning no hit for subject=18926 timestamp=1586441263\n",
      "Warning no hit for subject=18926 timestamp=1586950254\n",
      "Warning no hit for subject=18926 timestamp=1586967307\n",
      "Warning no hit for subject=18926 timestamp=1587096666\n",
      "Warning no hit for subject=18926 timestamp=1587115206\n",
      "Subject_id=18924 (3/32)\n",
      "Warning no hit for subject=18924 timestamp=1586414781\n",
      "Warning no hit for subject=18924 timestamp=1586627518\n",
      "Warning no hit for subject=18924 timestamp=1586780459\n",
      "Warning no hit for subject=18924 timestamp=1587053034\n",
      "Subject_id=18742 (4/32)\n",
      "Warning no hit for subject=18742 timestamp=1585827567\n",
      "Warning no hit for subject=18742 timestamp=1586031117\n",
      "Warning no hit for subject=18742 timestamp=1586516075\n",
      "Warning no hit for subject=18742 timestamp=1586600358\n",
      "Warning no hit for subject=18742 timestamp=1586948254\n",
      "Warning no hit for subject=18742 timestamp=1587037518\n",
      "Subject_id=18736 (5/32)\n",
      "Warning no hit for subject=18736 timestamp=1585808334\n",
      "Warning no hit for subject=18736 timestamp=1586095099\n",
      "Warning no hit for subject=18736 timestamp=1586171734\n",
      "Warning no hit for subject=18736 timestamp=1586425282\n",
      "Warning no hit for subject=18736 timestamp=1586534183\n",
      "Subject_id=18734 (6/32)\n",
      "Warning no hit for subject=18734 timestamp=1586093547\n",
      "Warning no hit for subject=18734 timestamp=1586173621\n",
      "Warning no hit for subject=18734 timestamp=1586182351\n",
      "Warning no hit for subject=18734 timestamp=1586415414\n",
      "Warning no hit for subject=18734 timestamp=1586621713\n",
      "Warning no hit for subject=18734 timestamp=1586846748\n",
      "Warning no hit for subject=18734 timestamp=1586881586\n",
      "Subject_id=18727 (7/32)\n",
      "Warning no hit for subject=18727 timestamp=1585657596\n",
      "Warning no hit for subject=18727 timestamp=1585666282\n",
      "Warning no hit for subject=18727 timestamp=1585688223\n",
      "Warning no hit for subject=18727 timestamp=1585692538\n",
      "Warning no hit for subject=18727 timestamp=1585723592\n",
      "Warning no hit for subject=18727 timestamp=1585760055\n",
      "Warning no hit for subject=18727 timestamp=1585773425\n",
      "Warning no hit for subject=18727 timestamp=1585811154\n",
      "Warning no hit for subject=18727 timestamp=1586327812\n",
      "Warning no hit for subject=18727 timestamp=1586501249\n",
      "Warning no hit for subject=18727 timestamp=1586517312\n",
      "Warning no hit for subject=18727 timestamp=1586620531\n",
      "Warning no hit for subject=18727 timestamp=1586855472\n",
      "Subject_id=18726 (8/32)\n",
      "Warning no hit for subject=18726 timestamp=1585809066\n",
      "Warning no hit for subject=18726 timestamp=1586014023\n",
      "Warning no hit for subject=18726 timestamp=1586107253\n",
      "Warning no hit for subject=18726 timestamp=1586181117\n",
      "Warning no hit for subject=18726 timestamp=1586687243\n",
      "Subject_id=18712 (9/32)\n",
      "Warning no hit for subject=18712 timestamp=1584899988\n",
      "Warning no hit for subject=18712 timestamp=1584960333\n",
      "Warning no hit for subject=18712 timestamp=1584980094\n",
      "Warning no hit for subject=18712 timestamp=1585050714\n",
      "Warning no hit for subject=18712 timestamp=1585407760\n",
      "Warning no hit for subject=18712 timestamp=1585590526\n",
      "Warning no hit for subject=18712 timestamp=1585590586\n",
      "Subject_id=18699 (10/32)\n",
      "Warning no hit for subject=18699 timestamp=1584862792\n",
      "Warning no hit for subject=18699 timestamp=1585378681\n",
      "Warning no hit for subject=18699 timestamp=1585682325\n",
      "Warning no hit for subject=18699 timestamp=1585982949\n",
      "Subject_id=18696 (11/32)\n",
      "Warning no hit for subject=18696 timestamp=1585224608\n",
      "Subject_id=18689 (12/32)\n",
      "Warning no hit for subject=18689 timestamp=1584617746\n",
      "Warning no hit for subject=18689 timestamp=1584617789\n",
      "Warning no hit for subject=18689 timestamp=1584618282\n",
      "Warning no hit for subject=18689 timestamp=1584817678\n",
      "Warning no hit for subject=18689 timestamp=1584887897\n",
      "Warning no hit for subject=18689 timestamp=1585043529\n",
      "Warning no hit for subject=18689 timestamp=1585043649\n",
      "Warning no hit for subject=18689 timestamp=1585043694\n",
      "Warning no hit for subject=18689 timestamp=1585311933\n",
      "Warning no hit for subject=18689 timestamp=1585589489\n",
      "Subject_id=18680 (13/32)\n",
      "Warning no hit for subject=18680 timestamp=1584970381\n",
      "Warning no hit for subject=18680 timestamp=1584988104\n",
      "Warning no hit for subject=18680 timestamp=1585048137\n",
      "Warning no hit for subject=18680 timestamp=1585057413\n",
      "Warning no hit for subject=18680 timestamp=1585256025\n",
      "Warning no hit for subject=18680 timestamp=1585311692\n",
      "Warning no hit for subject=18680 timestamp=1585317182\n",
      "Warning no hit for subject=18680 timestamp=1585431555\n",
      "Warning no hit for subject=18680 timestamp=1585549758\n",
      "Warning no hit for subject=18680 timestamp=1585578714\n",
      "Warning no hit for subject=18680 timestamp=1585680272\n",
      "Warning no hit for subject=18680 timestamp=1585849943\n",
      "Warning no hit for subject=18680 timestamp=1585912642\n",
      "Subject_id=18639 (14/32)\n",
      "Subject_id=18579 (15/32)\n",
      "Warning no hit for subject=18579 timestamp=1584642441\n",
      "Warning no hit for subject=18579 timestamp=1584790408\n",
      "Warning no hit for subject=18579 timestamp=1584806021\n",
      "Warning no hit for subject=18579 timestamp=1584873144\n",
      "Warning no hit for subject=18579 timestamp=1584882905\n",
      "Warning no hit for subject=18579 timestamp=1585068751\n",
      "Warning no hit for subject=18579 timestamp=1585128317\n",
      "Warning no hit for subject=18579 timestamp=1585248142\n",
      "Subject_id=18571 (16/32)\n",
      "Warning no hit for subject=18571 timestamp=1584360589\n",
      "Warning no hit for subject=18571 timestamp=1584443988\n",
      "Warning no hit for subject=18571 timestamp=1584518003\n",
      "Warning no hit for subject=18571 timestamp=1584612527\n",
      "Warning no hit for subject=18571 timestamp=1584692404\n",
      "Warning no hit for subject=18571 timestamp=1584712897\n",
      "Warning no hit for subject=18571 timestamp=1584790195\n",
      "Warning no hit for subject=18571 timestamp=1584866967\n",
      "Warning no hit for subject=18571 timestamp=1584895026\n",
      "Warning no hit for subject=18571 timestamp=1584949334\n",
      "Warning no hit for subject=18571 timestamp=1584964921\n",
      "Warning no hit for subject=18571 timestamp=1585211044\n",
      "Subject_id=18570 (17/32)\n",
      "Warning no hit for subject=18570 timestamp=1584469418\n",
      "Warning no hit for subject=18570 timestamp=1584469550\n",
      "Warning no hit for subject=18570 timestamp=1584612584\n",
      "Warning no hit for subject=18570 timestamp=1584722679\n",
      "Warning no hit for subject=18570 timestamp=1585564470\n",
      "Warning no hit for subject=18570 timestamp=1585643423\n",
      "Subject_id=18461 (18/32)\n",
      "Warning no hit for subject=18461 timestamp=1583164380\n",
      "Warning no hit for subject=18461 timestamp=1583435441\n",
      "Warning no hit for subject=18461 timestamp=1583581304\n",
      "Warning no hit for subject=18461 timestamp=1583690302\n",
      "Warning no hit for subject=18461 timestamp=1583736684\n",
      "Warning no hit for subject=18461 timestamp=1583918408\n",
      "Warning no hit for subject=18461 timestamp=1584096394\n",
      "Subject_id=18445 (19/32)\n",
      "Warning no hit for subject=18445 timestamp=1583144650\n",
      "Warning no hit for subject=18445 timestamp=1583389180\n",
      "Warning no hit for subject=18445 timestamp=1583404390\n",
      "Warning no hit for subject=18445 timestamp=1583828536\n",
      "Warning no hit for subject=18445 timestamp=1583835084\n",
      "Warning no hit for subject=18445 timestamp=1583907434\n",
      "Warning no hit for subject=18445 timestamp=1583948869\n",
      "Warning no hit for subject=18445 timestamp=1583994281\n",
      "Warning no hit for subject=18445 timestamp=1584008209\n",
      "Subject_id=18410 (20/32)\n",
      "Warning no hit for subject=18410 timestamp=1583133288\n",
      "Warning no hit for subject=18410 timestamp=1583606066\n",
      "Subject_id=18402 (21/32)\n",
      "Warning no hit for subject=18402 timestamp=1582735909\n",
      "Warning no hit for subject=18402 timestamp=1582891434\n",
      "Subject_id=18396 (22/32)\n",
      "Warning no hit for subject=18396 timestamp=1583074983\n",
      "Warning no hit for subject=18396 timestamp=1583346157\n",
      "Warning no hit for subject=18396 timestamp=1583476935\n",
      "Warning no hit for subject=18396 timestamp=1583927259\n",
      "Subject_id=18392 (23/32)\n",
      "Warning no hit for subject=18392 timestamp=1582445934\n",
      "Warning no hit for subject=18392 timestamp=1582567260\n",
      "Warning no hit for subject=18392 timestamp=1582575506\n",
      "Warning no hit for subject=18392 timestamp=1582975981\n",
      "Warning no hit for subject=18392 timestamp=1583005896\n",
      "Subject_id=18391 (24/32)\n",
      "Warning no hit for subject=18391 timestamp=1582293223\n",
      "Warning no hit for subject=18391 timestamp=1582812402\n",
      "Subject_id=18246 (25/32)\n",
      "Warning no hit for subject=18246 timestamp=1581420127\n",
      "Warning no hit for subject=18246 timestamp=1581420256\n",
      "Warning no hit for subject=18246 timestamp=1581420702\n",
      "Warning no hit for subject=18246 timestamp=1581421234\n",
      "Warning no hit for subject=18246 timestamp=1581487564\n",
      "Warning no hit for subject=18246 timestamp=1581659889\n",
      "Warning no hit for subject=18246 timestamp=1581877935\n",
      "Warning no hit for subject=18246 timestamp=1582003783\n",
      "Warning no hit for subject=18246 timestamp=1582223384\n",
      "Warning no hit for subject=18246 timestamp=1582275442\n",
      "Warning no hit for subject=18246 timestamp=1582357569\n",
      "Subject_id=18238 (26/32)\n"
     ]
    },
    {
     "name": "stdout",
     "output_type": "stream",
     "text": [
      "Warning no hit for subject=18238 timestamp=1582195779\n",
      "Subject_id=18228 (27/32)\n",
      "Warning no hit for subject=18228 timestamp=1581523906\n",
      "Warning no hit for subject=18228 timestamp=1581809090\n",
      "Warning no hit for subject=18228 timestamp=1582034896\n",
      "Warning no hit for subject=18228 timestamp=1582089127\n",
      "Warning no hit for subject=18228 timestamp=1582204166\n",
      "Subject_id=18224 (28/32)\n",
      "Warning no hit for subject=18224 timestamp=1581611799\n",
      "Warning no hit for subject=18224 timestamp=1581932118\n",
      "Warning no hit for subject=18224 timestamp=1582014885\n",
      "Warning no hit for subject=18224 timestamp=1582043274\n",
      "Warning no hit for subject=18224 timestamp=1582188577\n",
      "Warning no hit for subject=18224 timestamp=1582199155\n",
      "Subject_id=18188 (29/32)\n",
      "Warning no hit for subject=18188 timestamp=1581622600\n",
      "Warning no hit for subject=18188 timestamp=1582100757\n",
      "Warning no hit for subject=18188 timestamp=1582204464\n",
      "Warning no hit for subject=18188 timestamp=1582279456\n",
      "Warning no hit for subject=18188 timestamp=1582485037\n",
      "Subject_id=18124 (30/32)\n",
      "Warning no hit for subject=18124 timestamp=1581441786\n",
      "Warning no hit for subject=18124 timestamp=1581507538\n",
      "Warning no hit for subject=18124 timestamp=1581510506\n",
      "Warning no hit for subject=18124 timestamp=1581612276\n",
      "Warning no hit for subject=18124 timestamp=1581675889\n",
      "Warning no hit for subject=18124 timestamp=1581743740\n",
      "Warning no hit for subject=18124 timestamp=1582122559\n",
      "Warning no hit for subject=18124 timestamp=1582398701\n",
      "Warning no hit for subject=18124 timestamp=1582526015\n",
      "Subject_id=14321 (31/32)\n",
      "Warning no hit for subject=14321 timestamp=1576623600\n",
      "Warning no hit for subject=14321 timestamp=1578580180\n",
      "Warning no hit for subject=14321 timestamp=1580385892\n",
      "done!\n"
     ]
    }
   ],
   "source": [
    "from nlp_datau.link_subject_pre_post_responses import link_pre_post_responses\n",
    "\n",
    "linked, merged = link_pre_post_responses(path_in_pre, path_in_post, col_subject_id, col_timestamp)\n",
    "linked.to_excel(path_out_link_column)\n",
    "merged.to_excel(path_out_merged)\n",
    "\n",
    "print(\"done!\")"
   ]
  }
 ],
 "metadata": {
  "kernelspec": {
   "display_name": "Python 3",
   "language": "python",
   "name": "python3"
  },
  "language_info": {
   "codemirror_mode": {
    "name": "ipython",
    "version": 3
   },
   "file_extension": ".py",
   "mimetype": "text/x-python",
   "name": "python",
   "nbconvert_exporter": "python",
   "pygments_lexer": "ipython3",
   "version": "3.7.6"
  },
  "pycharm": {
   "stem_cell": {
    "cell_type": "raw",
    "source": [],
    "metadata": {
     "collapsed": false
    }
   }
  }
 },
 "nbformat": 4,
 "nbformat_minor": 1
}