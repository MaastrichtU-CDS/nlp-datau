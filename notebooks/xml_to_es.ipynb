{
 "cells": [
  {
   "cell_type": "markdown",
   "metadata": {
    "pycharm": {
     "name": "#%% md\n"
    }
   },
   "source": [
    "# XML reports to Elasticsearch\n",
    "\n",
    "Functionality can be tested with the MEANTIME corpus [download](http://www.newsreader-project.eu/results/data/wikinews/)"
   ]
  },
  {
   "cell_type": "markdown",
   "metadata": {
    "pycharm": {
     "name": "#%% md\n"
    }
   },
   "source": [
    "Install dependencies and import the nlp_datau package"
   ]
  },
  {
   "cell_type": "code",
   "execution_count": 1,
   "metadata": {
    "pycharm": {
     "name": "#%%\n"
    }
   },
   "outputs": [
    {
     "name": "stdout",
     "output_type": "stream",
     "text": [
      "\u001B[33mWARNING: Ignoring invalid distribution -x (/Users/sanderputs/IdeaProjects/Research/venv/lib/python3.8/site-packages)\u001B[0m\r\n",
      "\u001B[33mWARNING: Ignoring invalid distribution -ix (/Users/sanderputs/IdeaProjects/Research/venv/lib/python3.8/site-packages)\u001B[0m\r\n",
      "\u001B[33mWARNING: Ignoring invalid distribution - (/Users/sanderputs/IdeaProjects/Research/venv/lib/python3.8/site-packages)\u001B[0m\r\n",
      "\u001B[33mWARNING: Ignoring invalid distribution -x (/Users/sanderputs/IdeaProjects/Research/venv/lib/python3.8/site-packages)\u001B[0m\r\n",
      "\u001B[33mWARNING: Ignoring invalid distribution -ix (/Users/sanderputs/IdeaProjects/Research/venv/lib/python3.8/site-packages)\u001B[0m\r\n",
      "\u001B[33mWARNING: Ignoring invalid distribution - (/Users/sanderputs/IdeaProjects/Research/venv/lib/python3.8/site-packages)\u001B[0m\r\n",
      "Requirement already satisfied: pandas in /Users/sanderputs/IdeaProjects/Research/venv/lib/python3.8/site-packages (from -r ./../requirements.txt (line 1)) (1.3.4)\r\n",
      "Requirement already satisfied: openpyxl in /Users/sanderputs/IdeaProjects/Research/venv/lib/python3.8/site-packages (from -r ./../requirements.txt (line 2)) (3.0.9)\r\n",
      "Requirement already satisfied: python-docx==0.8.10 in /Users/sanderputs/IdeaProjects/Research/venv/lib/python3.8/site-packages (from -r ./../requirements.txt (line 3)) (0.8.10)\r\n",
      "Requirement already satisfied: elasticsearch<8.0.0,>=7.0.0 in /Users/sanderputs/IdeaProjects/Research/venv/lib/python3.8/site-packages (from -r ./../requirements.txt (line 4)) (7.9.1)\r\n",
      "Requirement already satisfied: xmltodict in /Users/sanderputs/IdeaProjects/Research/venv/lib/python3.8/site-packages (from -r ./../requirements.txt (line 5)) (0.12.0)\r\n",
      "Requirement already satisfied: spacy<2.3.0,>=2.2.0 in /Users/sanderputs/IdeaProjects/Research/venv/lib/python3.8/site-packages (from -r ./../requirements.txt (line 6)) (2.2.4)\r\n",
      "Requirement already satisfied: lxml>=2.3.2 in /Users/sanderputs/IdeaProjects/Research/venv/lib/python3.8/site-packages (from python-docx==0.8.10->-r ./../requirements.txt (line 3)) (4.6.2)\r\n",
      "Requirement already satisfied: urllib3>=1.21.1 in /Users/sanderputs/IdeaProjects/Research/venv/lib/python3.8/site-packages (from elasticsearch<8.0.0,>=7.0.0->-r ./../requirements.txt (line 4)) (1.26.2)\r\n",
      "Requirement already satisfied: certifi in /Users/sanderputs/IdeaProjects/Research/venv/lib/python3.8/site-packages (from elasticsearch<8.0.0,>=7.0.0->-r ./../requirements.txt (line 4)) (2020.11.8)\r\n",
      "Requirement already satisfied: preshed<3.1.0,>=3.0.2 in /Users/sanderputs/IdeaProjects/Research/venv/lib/python3.8/site-packages (from spacy<2.3.0,>=2.2.0->-r ./../requirements.txt (line 6)) (3.0.5)\r\n",
      "Requirement already satisfied: murmurhash<1.1.0,>=0.28.0 in /Users/sanderputs/IdeaProjects/Research/venv/lib/python3.8/site-packages (from spacy<2.3.0,>=2.2.0->-r ./../requirements.txt (line 6)) (1.0.5)\r\n",
      "Requirement already satisfied: srsly<1.1.0,>=1.0.2 in /Users/sanderputs/IdeaProjects/Research/venv/lib/python3.8/site-packages (from spacy<2.3.0,>=2.2.0->-r ./../requirements.txt (line 6)) (1.0.5)\r\n",
      "Requirement already satisfied: setuptools in /Users/sanderputs/IdeaProjects/Research/venv/lib/python3.8/site-packages (from spacy<2.3.0,>=2.2.0->-r ./../requirements.txt (line 6)) (54.2.0)\r\n",
      "Requirement already satisfied: blis<0.5.0,>=0.4.0 in /Users/sanderputs/IdeaProjects/Research/venv/lib/python3.8/site-packages (from spacy<2.3.0,>=2.2.0->-r ./../requirements.txt (line 6)) (0.4.1)\r\n",
      "Requirement already satisfied: tqdm<5.0.0,>=4.38.0 in /Users/sanderputs/IdeaProjects/Research/venv/lib/python3.8/site-packages (from spacy<2.3.0,>=2.2.0->-r ./../requirements.txt (line 6)) (4.49.0)\r\n",
      "Requirement already satisfied: numpy>=1.15.0 in /Users/sanderputs/IdeaProjects/Research/venv/lib/python3.8/site-packages (from spacy<2.3.0,>=2.2.0->-r ./../requirements.txt (line 6)) (1.19.5)\r\n",
      "Requirement already satisfied: thinc==7.4.0 in /Users/sanderputs/IdeaProjects/Research/venv/lib/python3.8/site-packages (from spacy<2.3.0,>=2.2.0->-r ./../requirements.txt (line 6)) (7.4.0)\r\n",
      "Requirement already satisfied: wasabi<1.1.0,>=0.4.0 in /Users/sanderputs/IdeaProjects/Research/venv/lib/python3.8/site-packages (from spacy<2.3.0,>=2.2.0->-r ./../requirements.txt (line 6)) (0.8.2)\r\n",
      "Requirement already satisfied: catalogue<1.1.0,>=0.0.7 in /Users/sanderputs/IdeaProjects/Research/venv/lib/python3.8/site-packages (from spacy<2.3.0,>=2.2.0->-r ./../requirements.txt (line 6)) (1.0.0)\r\n",
      "Requirement already satisfied: cymem<2.1.0,>=2.0.2 in /Users/sanderputs/IdeaProjects/Research/venv/lib/python3.8/site-packages (from spacy<2.3.0,>=2.2.0->-r ./../requirements.txt (line 6)) (2.0.5)\r\n",
      "Requirement already satisfied: requests<3.0.0,>=2.13.0 in /Users/sanderputs/IdeaProjects/Research/venv/lib/python3.8/site-packages (from spacy<2.3.0,>=2.2.0->-r ./../requirements.txt (line 6)) (2.25.1)\r\n",
      "Requirement already satisfied: plac<1.2.0,>=0.9.6 in /Users/sanderputs/IdeaProjects/Research/venv/lib/python3.8/site-packages (from spacy<2.3.0,>=2.2.0->-r ./../requirements.txt (line 6)) (1.1.3)\r\n",
      "Requirement already satisfied: chardet<5,>=3.0.2 in /Users/sanderputs/IdeaProjects/Research/venv/lib/python3.8/site-packages (from requests<3.0.0,>=2.13.0->spacy<2.3.0,>=2.2.0->-r ./../requirements.txt (line 6)) (3.0.4)\r\n",
      "Requirement already satisfied: idna<3,>=2.5 in /Users/sanderputs/IdeaProjects/Research/venv/lib/python3.8/site-packages (from requests<3.0.0,>=2.13.0->spacy<2.3.0,>=2.2.0->-r ./../requirements.txt (line 6)) (2.10)\r\n",
      "Requirement already satisfied: pytz>=2017.3 in /Users/sanderputs/IdeaProjects/Research/venv/lib/python3.8/site-packages (from pandas->-r ./../requirements.txt (line 1)) (2020.4)\r\n",
      "Requirement already satisfied: python-dateutil>=2.7.3 in /Users/sanderputs/IdeaProjects/Research/venv/lib/python3.8/site-packages (from pandas->-r ./../requirements.txt (line 1)) (2.8.2)\r\n",
      "Requirement already satisfied: six>=1.5 in /Users/sanderputs/IdeaProjects/Research/venv/lib/python3.8/site-packages (from python-dateutil>=2.7.3->pandas->-r ./../requirements.txt (line 1)) (1.15.0)\r\n",
      "Requirement already satisfied: et-xmlfile in /Users/sanderputs/IdeaProjects/Research/venv/lib/python3.8/site-packages (from openpyxl->-r ./../requirements.txt (line 2)) (1.1.0)\r\n",
      "\u001B[33mWARNING: Ignoring invalid distribution -x (/Users/sanderputs/IdeaProjects/Research/venv/lib/python3.8/site-packages)\u001B[0m\r\n",
      "\u001B[33mWARNING: Ignoring invalid distribution -ix (/Users/sanderputs/IdeaProjects/Research/venv/lib/python3.8/site-packages)\u001B[0m\r\n",
      "\u001B[33mWARNING: Ignoring invalid distribution - (/Users/sanderputs/IdeaProjects/Research/venv/lib/python3.8/site-packages)\u001B[0m\r\n",
      "\u001B[33mWARNING: Ignoring invalid distribution -x (/Users/sanderputs/IdeaProjects/Research/venv/lib/python3.8/site-packages)\u001B[0m\r\n",
      "\u001B[33mWARNING: Ignoring invalid distribution -ix (/Users/sanderputs/IdeaProjects/Research/venv/lib/python3.8/site-packages)\u001B[0m\r\n",
      "\u001B[33mWARNING: Ignoring invalid distribution - (/Users/sanderputs/IdeaProjects/Research/venv/lib/python3.8/site-packages)\u001B[0m\r\n",
      "\u001B[33mWARNING: Ignoring invalid distribution -x (/Users/sanderputs/IdeaProjects/Research/venv/lib/python3.8/site-packages)\u001B[0m\r\n",
      "\u001B[33mWARNING: Ignoring invalid distribution -ix (/Users/sanderputs/IdeaProjects/Research/venv/lib/python3.8/site-packages)\u001B[0m\r\n",
      "\u001B[33mWARNING: Ignoring invalid distribution - (/Users/sanderputs/IdeaProjects/Research/venv/lib/python3.8/site-packages)\u001B[0m\r\n",
      "\u001B[33mWARNING: Ignoring invalid distribution -x (/Users/sanderputs/IdeaProjects/Research/venv/lib/python3.8/site-packages)\u001B[0m\r\n",
      "\u001B[33mWARNING: Ignoring invalid distribution -ix (/Users/sanderputs/IdeaProjects/Research/venv/lib/python3.8/site-packages)\u001B[0m\r\n",
      "\u001B[33mWARNING: Ignoring invalid distribution - (/Users/sanderputs/IdeaProjects/Research/venv/lib/python3.8/site-packages)\u001B[0m\r\n",
      "\u001B[33mWARNING: You are using pip version 21.1; however, version 21.3.1 is available.\r\n",
      "You should consider upgrading via the '/Users/sanderputs/IdeaProjects/Research/venv/bin/python -m pip install --upgrade pip' command.\u001B[0m\r\n"
     ]
    }
   ],
   "source": [
    "!pip install -r ./../requirements.txt\n",
    "import sys\n",
    "sys.path.append(\"./../\")"
   ]
  },
  {
   "cell_type": "markdown",
   "metadata": {
    "pycharm": {
     "name": "#%% md\n"
    }
   },
   "source": [
    "Configure the directory containing the xml files and xml document (id of the document in the xml file (using a dot notation)"
   ]
  },
  {
   "cell_type": "code",
   "execution_count": 2,
   "metadata": {
    "pycharm": {
     "name": "#%%\n"
    }
   },
   "outputs": [],
   "source": [
    "directory_in_str = '/home/jovyan/work/E/Sander/verslagen/'\n",
    "directory_in_str = '/home/jovyan/work/D/work/ACR'\n",
    "directory_in_str = '/Users/sanderputs/git/nlp-datau/resources/data_ignored/report_test'\n",
    "\n",
    "field_id = \"ClinicalDocument.setId.@extension\""
   ]
  },
  {
   "cell_type": "markdown",
   "metadata": {
    "pycharm": {
     "name": "#%% md\n"
    }
   },
   "source": [
    "Defined a name for the Elasticsearch index (hint project name)"
   ]
  },
  {
   "cell_type": "code",
   "execution_count": 3,
   "metadata": {
    "pycharm": {
     "name": "#%%\n"
    }
   },
   "outputs": [],
   "source": [
    "es_host = \"doccano-dataset-tools-es01\"\n",
    "es_host =  \"localhost\"\n",
    "es_index = \"free-text-reports\""
   ]
  },
  {
   "cell_type": "markdown",
   "metadata": {
    "pycharm": {
     "name": "#%% md\n"
    }
   },
   "source": [
    "Configure whitelist dictionary: the key is the Elasticsearch document target field, the value the source field in the XML file.\n",
    "\n",
    "The example below shows how to index field embedded field \"text\" to \"text\".\n",
    "By definining an optional start-and/or-stop-line, you can extract substrings from the source field"
   ]
  },
  {
   "cell_type": "code",
   "execution_count": 4,
   "metadata": {
    "pycharm": {
     "name": "#%%\n"
    }
   },
   "outputs": [],
   "source": [
    "whitelist_dict = {\n",
    "                     \"text\": {\n",
    "                         \"field\": \"ClinicalDocument.component.structuredBody.component.section.text\",\n",
    "                         \"type\": \"xml\",\n",
    "                         \"xml-field\": \"getReportTextByAccessionnrResult.REPORT.REPORT_BODY.TEXT\",\n",
    "                         \"start-line\": \"Verslagstatus:\",\n",
    "                         \"stop-line\": \"Met collegiale groet,\"\n",
    "                     },\n",
    "                    \"R_DATELASTCHANGED\": {\n",
    "                         \"field\": \"ClinicalDocument.component.structuredBody.component.section.text\",\n",
    "                         \"type\": \"xml\",\n",
    "                         \"xml-field\": \"getReportTextByAccessionnrResult.REPORT.REPORT_DATA.R_DATELASTCHANGED\"\n",
    "                     },\n",
    "                    \"patient_id\": {\n",
    "                        \"field\": \"ClinicalDocument.recordTarget.patientRole.id\",\n",
    "                        \"type\": \"list\",\n",
    "                        \"key\": \"@extension\",\n",
    "                        \"match-key\": \"@root\",\n",
    "                        \"match-value\": \"2.16.840.1.113883.2.4.3.74.3.1.9.3\",\n",
    "                    }\n",
    "\n",
    "                 }"
   ]
  },
  {
   "cell_type": "markdown",
   "metadata": {
    "pycharm": {
     "name": "#%% md\n"
    }
   },
   "source": [
    "An yaml configuration file can be used to store configuration (optional)"
   ]
  },
  {
   "cell_type": "code",
   "execution_count": 5,
   "metadata": {},
   "outputs": [],
   "source": [
    "use_config_file = False\n",
    "config_file = 'config/xml_to_excel_config.yaml'\n",
    "\n",
    "import yaml\n",
    "if use_config_file:\n",
    "    with open(config_file, 'r') as yaml_file:\n",
    "        cfg = yaml.safe_load(yaml_file)\n",
    "        print(cfg)\n",
    "        directory_in_str = cfg['directory_in_str']\n",
    "        extension = cfg['extension']\n",
    "        field_id = cfg['field_id']\n",
    "        whitelist_dict = cfg['whitelist_dict']\n",
    "\n"
   ]
  },
  {
   "cell_type": "markdown",
   "metadata": {
    "pycharm": {
     "name": "#%% md\n"
    }
   },
   "source": [
    "Index directory"
   ]
  },
  {
   "cell_type": "code",
   "execution_count": 6,
   "metadata": {
    "pycharm": {
     "name": "#%%\n"
    }
   },
   "outputs": [
    {
     "name": "stderr",
     "output_type": "stream",
     "text": [
      "INFO:python-processor:start iteration /Users/sanderputs/git/nlp-datau/resources/data_ignored/report_test\n",
      "INFO:python-processor:iteration finished /Users/sanderputs/git/nlp-datau/resources/data_ignored/report_test\n"
     ]
    }
   ],
   "source": [
    "from nlp_datau.xml_to_index import XmlToIndex\n",
    "XmlToIndex(es_host=es_host).iterate_xml_dir(\n",
    "    directory_in_str,\n",
    "            extension=\".xml\",\n",
    "            es_index=es_index,\n",
    "            field_id=field_id,\n",
    "            whitelist_dict=whitelist_dict)"
   ]
  },
  {
   "cell_type": "markdown",
   "metadata": {
    "pycharm": {
     "name": "#%% md\n"
    }
   },
   "source": [
    "Validate the number of documents at\n",
    "[http://localhost:9200/[ES_INDEX]/_count](http://localhost:9200/[ES_INDEX]/_count)\n",
    "\n",
    "e.g.\n",
    "[http://localhost:9200/free-text-reports/_count](http://localhost:9200/free-text-reports/_count)"
   ]
  }
 ],
 "metadata": {
  "kernelspec": {
   "display_name": "Python 3",
   "language": "python",
   "name": "python3"
  },
  "language_info": {
   "codemirror_mode": {
    "name": "ipython",
    "version": 3
   },
   "file_extension": ".py",
   "mimetype": "text/x-python",
   "name": "python",
   "nbconvert_exporter": "python",
   "pygments_lexer": "ipython3",
   "version": "3.7.6"
  }
 },
 "nbformat": 4,
 "nbformat_minor": 1
}