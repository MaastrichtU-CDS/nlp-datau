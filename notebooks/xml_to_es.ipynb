{
 "cells": [
  {
   "cell_type": "markdown",
   "metadata": {
    "pycharm": {
     "name": "#%% md\n"
    }
   },
   "source": [
    "# XML reports to Elasticsearch\n",
    "\n",
    "Functionality can be tested with the MEANTIME corpus [download](http://www.newsreader-project.eu/results/data/wikinews/)"
   ]
  },
  {
   "cell_type": "markdown",
   "metadata": {
    "pycharm": {
     "name": "#%% md\n"
    }
   },
   "source": [
    "Install dependencies and import the nlp_datau package"
   ]
  },
  {
   "cell_type": "code",
   "execution_count": 1,
   "metadata": {
    "pycharm": {
     "is_executing": false,
     "name": "#%%\n"
    }
   },
   "outputs": [
    {
     "name": "stdout",
     "output_type": "stream",
     "text": [
      "Requirement already satisfied: pandas in /opt/conda/lib/python3.7/site-packages (from -r ./../requirements.txt (line 1)) (1.0.2)\n",
      "Requirement already satisfied: openpyxl in /opt/conda/lib/python3.7/site-packages (from -r ./../requirements.txt (line 2)) (3.0.3)\n",
      "Requirement already satisfied: python-docx==0.8.10 in /opt/conda/lib/python3.7/site-packages (from -r ./../requirements.txt (line 3)) (0.8.10)\n",
      "Requirement already satisfied: elasticsearch<8.0.0,>=7.0.0 in /opt/conda/lib/python3.7/site-packages (from -r ./../requirements.txt (line 4)) (7.6.0)\n",
      "Requirement already satisfied: xmltodict in /opt/conda/lib/python3.7/site-packages (from -r ./../requirements.txt (line 5)) (0.12.0)\n",
      "Requirement already satisfied: spacy<2.3.0,>=2.2.0 in /opt/conda/lib/python3.7/site-packages (from -r ./../requirements.txt (line 6)) (2.2.4)\n",
      "Requirement already satisfied: python-dateutil>=2.6.1 in /opt/conda/lib/python3.7/site-packages (from pandas->-r ./../requirements.txt (line 1)) (2.8.1)\n",
      "Requirement already satisfied: numpy>=1.13.3 in /opt/conda/lib/python3.7/site-packages (from pandas->-r ./../requirements.txt (line 1)) (1.18.1)\n",
      "Requirement already satisfied: pytz>=2017.2 in /opt/conda/lib/python3.7/site-packages (from pandas->-r ./../requirements.txt (line 1)) (2019.3)\n",
      "Requirement already satisfied: et-xmlfile in /opt/conda/lib/python3.7/site-packages (from openpyxl->-r ./../requirements.txt (line 2)) (1.0.1)\n",
      "Requirement already satisfied: jdcal in /opt/conda/lib/python3.7/site-packages (from openpyxl->-r ./../requirements.txt (line 2)) (1.4.1)\n",
      "Requirement already satisfied: lxml>=2.3.2 in /opt/conda/lib/python3.7/site-packages (from python-docx==0.8.10->-r ./../requirements.txt (line 3)) (4.5.0)\n",
      "Requirement already satisfied: urllib3>=1.21.1 in /opt/conda/lib/python3.7/site-packages (from elasticsearch<8.0.0,>=7.0.0->-r ./../requirements.txt (line 4)) (1.25.7)\n",
      "Requirement already satisfied: cymem<2.1.0,>=2.0.2 in /opt/conda/lib/python3.7/site-packages (from spacy<2.3.0,>=2.2.0->-r ./../requirements.txt (line 6)) (2.0.3)\n",
      "Requirement already satisfied: requests<3.0.0,>=2.13.0 in /opt/conda/lib/python3.7/site-packages (from spacy<2.3.0,>=2.2.0->-r ./../requirements.txt (line 6)) (2.23.0)\n",
      "Requirement already satisfied: murmurhash<1.1.0,>=0.28.0 in /opt/conda/lib/python3.7/site-packages (from spacy<2.3.0,>=2.2.0->-r ./../requirements.txt (line 6)) (1.0.2)\n",
      "Requirement already satisfied: plac<1.2.0,>=0.9.6 in /opt/conda/lib/python3.7/site-packages (from spacy<2.3.0,>=2.2.0->-r ./../requirements.txt (line 6)) (1.1.3)\n",
      "Requirement already satisfied: blis<0.5.0,>=0.4.0 in /opt/conda/lib/python3.7/site-packages (from spacy<2.3.0,>=2.2.0->-r ./../requirements.txt (line 6)) (0.4.1)\n",
      "Requirement already satisfied: preshed<3.1.0,>=3.0.2 in /opt/conda/lib/python3.7/site-packages (from spacy<2.3.0,>=2.2.0->-r ./../requirements.txt (line 6)) (3.0.2)\n",
      "Requirement already satisfied: tqdm<5.0.0,>=4.38.0 in /opt/conda/lib/python3.7/site-packages (from spacy<2.3.0,>=2.2.0->-r ./../requirements.txt (line 6)) (4.43.0)\n",
      "Requirement already satisfied: setuptools in /opt/conda/lib/python3.7/site-packages (from spacy<2.3.0,>=2.2.0->-r ./../requirements.txt (line 6)) (46.0.0.post20200311)\n",
      "Requirement already satisfied: thinc==7.4.0 in /opt/conda/lib/python3.7/site-packages (from spacy<2.3.0,>=2.2.0->-r ./../requirements.txt (line 6)) (7.4.0)\n",
      "Requirement already satisfied: catalogue<1.1.0,>=0.0.7 in /opt/conda/lib/python3.7/site-packages (from spacy<2.3.0,>=2.2.0->-r ./../requirements.txt (line 6)) (1.0.0)\n",
      "Requirement already satisfied: wasabi<1.1.0,>=0.4.0 in /opt/conda/lib/python3.7/site-packages (from spacy<2.3.0,>=2.2.0->-r ./../requirements.txt (line 6)) (0.6.0)\n",
      "Requirement already satisfied: srsly<1.1.0,>=1.0.2 in /opt/conda/lib/python3.7/site-packages (from spacy<2.3.0,>=2.2.0->-r ./../requirements.txt (line 6)) (1.0.2)\n",
      "Requirement already satisfied: six>=1.5 in /opt/conda/lib/python3.7/site-packages (from python-dateutil>=2.6.1->pandas->-r ./../requirements.txt (line 1)) (1.14.0)\n",
      "Requirement already satisfied: idna<3,>=2.5 in /opt/conda/lib/python3.7/site-packages (from requests<3.0.0,>=2.13.0->spacy<2.3.0,>=2.2.0->-r ./../requirements.txt (line 6)) (2.9)\n",
      "Requirement already satisfied: chardet<4,>=3.0.2 in /opt/conda/lib/python3.7/site-packages (from requests<3.0.0,>=2.13.0->spacy<2.3.0,>=2.2.0->-r ./../requirements.txt (line 6)) (3.0.4)\n",
      "Requirement already satisfied: certifi>=2017.4.17 in /opt/conda/lib/python3.7/site-packages (from requests<3.0.0,>=2.13.0->spacy<2.3.0,>=2.2.0->-r ./../requirements.txt (line 6)) (2019.11.28)\n",
      "Requirement already satisfied: importlib-metadata>=0.20; python_version < \"3.8\" in /opt/conda/lib/python3.7/site-packages (from catalogue<1.1.0,>=0.0.7->spacy<2.3.0,>=2.2.0->-r ./../requirements.txt (line 6)) (1.5.0)\n",
      "Requirement already satisfied: zipp>=0.5 in /opt/conda/lib/python3.7/site-packages (from importlib-metadata>=0.20; python_version < \"3.8\"->catalogue<1.1.0,>=0.0.7->spacy<2.3.0,>=2.2.0->-r ./../requirements.txt (line 6)) (3.1.0)\n"
     ]
    }
   ],
   "source": [
    "!pip install -r ./../requirements.txt\n",
    "import sys\n",
    "sys.path.append(\"./../\")"
   ]
  },
  {
   "cell_type": "markdown",
   "metadata": {
    "pycharm": {
     "name": "#%% md\n"
    }
   },
   "source": [
    "Configure the directory containing the xml files and xml document (id of the document in the xml file (using a dot notation)"
   ]
  },
  {
   "cell_type": "code",
   "execution_count": 7,
   "metadata": {
    "pycharm": {
     "is_executing": false,
     "name": "#%%\n"
    }
   },
   "outputs": [],
   "source": [
    "directory_in_str = '/home/jovyan/work/E/Sander/verslagen/'\n",
    "directory_in_str = '/home/jovyan/work/resources/data_ignored/20200228/'\n",
    "\n",
    "field_id = \"ClinicalDocument.setId.@extension\""
   ]
  },
  {
   "cell_type": "markdown",
   "metadata": {
    "pycharm": {
     "name": "#%% md\n"
    }
   },
   "source": [
    "Defined a name for the Elasticsearch index (hint project name)"
   ]
  },
  {
   "cell_type": "code",
   "execution_count": 8,
   "metadata": {
    "pycharm": {
     "is_executing": false,
     "name": "#%%\n"
    }
   },
   "outputs": [],
   "source": [
    "es_host = \"doccano-dataset-tools-es01\"\n",
    "es_index = \"free-text-reports\""
   ]
  },
  {
   "cell_type": "markdown",
   "metadata": {
    "pycharm": {
     "name": "#%% md\n"
    }
   },
   "source": [
    "Configure whitelist dictionary: the key is the Elasticsearch document target field, the value the source field in the XML file.\n",
    "\n",
    "The example below shows how to index field embedded field \"text\" to \"text\".\n",
    "By definining an optional start-and/or-stop-line, you can extract substrings from the source field"
   ]
  },
  {
   "cell_type": "code",
   "execution_count": 9,
   "metadata": {
    "pycharm": {
     "is_executing": false,
     "name": "#%%\n"
    }
   },
   "outputs": [],
   "source": [
    "whitelist_dict = {\n",
    "                     \"text\": {\n",
    "                         \"field\": \"ClinicalDocument.component.structuredBody.component.section.text\",\n",
    "                         \"type\": \"xml\",\n",
    "                         \"xml-field\": \"getReportTextByAccessionnrResult.REPORT.REPORT_BODY.TEXT\",\n",
    "                         \"start-line\": \"Verslagstatus:\",\n",
    "                         \"stop-line\": \"Met collegiale groet,\"\n",
    "                     }\n",
    "                 }"
   ]
  },
  {
   "cell_type": "markdown",
   "metadata": {
    "pycharm": {
     "name": "#%% md\n"
    }
   },
   "source": [
    "An yaml configuration file can be used to store configuration (optional)"
   ]
  },
  {
   "cell_type": "code",
   "execution_count": 10,
   "metadata": {
    "pycharm": {
     "is_executing": false
    }
   },
   "outputs": [],
   "source": [
    "use_config_file = False\n",
    "config_file = 'config/xml_to_excel_config.yaml'\n",
    "\n",
    "import yaml\n",
    "if use_config_file:\n",
    "    with open(config_file, 'r') as yaml_file:\n",
    "        cfg = yaml.safe_load(yaml_file)\n",
    "        print(cfg)\n",
    "        directory_in_str = cfg['directory_in_str']\n",
    "        extension = cfg['extension']\n",
    "        field_id = cfg['field_id']\n",
    "        whitelist_dict = cfg['whitelist_dict']\n",
    "\n"
   ]
  },
  {
   "cell_type": "markdown",
   "metadata": {
    "pycharm": {
     "name": "#%% md\n"
    }
   },
   "source": [
    "Index directory"
   ]
  },
  {
   "cell_type": "code",
   "execution_count": 11,
   "metadata": {
    "pycharm": {
     "is_executing": false,
     "name": "#%%\n"
    }
   },
   "outputs": [
    {
     "name": "stderr",
     "output_type": "stream",
     "text": [
      "INFO:python-processor:start iteration /home/jovyan/work/resources/data_ignored/20200228/\n",
      "INFO:python-processor:count 100\n",
      "INFO:python-processor:count 200\n",
      "INFO:python-processor:count 300\n",
      "INFO:python-processor:count 400\n",
      "INFO:python-processor:count 500\n",
      "INFO:python-processor:count 600\n",
      "INFO:python-processor:count 700\n",
      "INFO:python-processor:count 800\n",
      "INFO:python-processor:count 900\n",
      "INFO:python-processor:count 1000\n",
      "INFO:python-processor:count 1100\n",
      "INFO:python-processor:count 1200\n",
      "INFO:python-processor:count 1300\n",
      "INFO:python-processor:count 1400\n",
      "INFO:python-processor:count 1500\n",
      "INFO:python-processor:count 1600\n",
      "INFO:python-processor:count 1700\n",
      "INFO:python-processor:count 1800\n",
      "INFO:python-processor:count 1900\n",
      "INFO:python-processor:count 2000\n",
      "INFO:python-processor:count 2100\n",
      "INFO:python-processor:count 2200\n",
      "INFO:python-processor:count 2300\n",
      "INFO:python-processor:count 2400\n",
      "INFO:python-processor:count 2500\n",
      "INFO:python-processor:count 2600\n",
      "INFO:python-processor:count 2700\n",
      "INFO:python-processor:count 2800\n",
      "INFO:python-processor:count 2900\n",
      "INFO:python-processor:count 3000\n",
      "INFO:python-processor:count 3100\n",
      "INFO:python-processor:count 3200\n",
      "INFO:python-processor:count 3300\n",
      "INFO:python-processor:count 3400\n",
      "INFO:python-processor:count 3500\n",
      "INFO:python-processor:count 3600\n",
      "INFO:python-processor:count 3700\n",
      "INFO:python-processor:count 3800\n",
      "INFO:python-processor:count 3900\n",
      "INFO:python-processor:count 4000\n",
      "INFO:python-processor:count 4100\n",
      "INFO:python-processor:count 4200\n",
      "INFO:python-processor:count 4300\n",
      "INFO:python-processor:count 4400\n",
      "INFO:python-processor:count 4500\n",
      "INFO:python-processor:count 4600\n",
      "INFO:python-processor:count 4700\n",
      "INFO:python-processor:count 4800\n",
      "INFO:python-processor:count 4900\n",
      "INFO:python-processor:count 5000\n",
      "INFO:python-processor:count 5100\n",
      "INFO:python-processor:count 5200\n",
      "INFO:python-processor:count 5300\n",
      "INFO:python-processor:count 5400\n",
      "INFO:python-processor:count 5500\n",
      "INFO:python-processor:count 5600\n",
      "INFO:python-processor:count 5700\n",
      "INFO:python-processor:count 5800\n",
      "INFO:python-processor:count 5900\n",
      "INFO:python-processor:count 6000\n",
      "INFO:python-processor:count 6100\n",
      "INFO:python-processor:count 6200\n",
      "INFO:python-processor:count 6300\n",
      "INFO:python-processor:count 6400\n",
      "INFO:python-processor:count 6500\n",
      "INFO:python-processor:count 6600\n",
      "INFO:python-processor:count 6700\n",
      "INFO:python-processor:count 6800\n",
      "INFO:python-processor:iteration finished /home/jovyan/work/resources/data_ignored/20200228/\n"
     ]
    }
   ],
   "source": [
    "from nlp_datau.xml_to_index import XmlToIndex\n",
    "XmlToIndex(es_host=es_host).iterate_xml_dir(\n",
    "    directory_in_str,\n",
    "            extension=\".xml\",\n",
    "            es_index=es_index,\n",
    "            field_id=field_id,\n",
    "            whitelist_dict=whitelist_dict)"
   ]
  },
  {
   "cell_type": "markdown",
   "metadata": {
    "pycharm": {
     "name": "#%% md\n"
    }
   },
   "source": [
    "Validate the number of documents at\n",
    "[http://localhost:9200/[ES_INDEX]/_count](http://localhost:9200/[ES_INDEX]/_count)\n",
    "\n",
    "e.g.\n",
    "[http://localhost:9200/free-text-reports/_count](http://localhost:9200/free-text-reports/_count)"
   ]
  }
 ],
 "metadata": {
  "kernelspec": {
   "display_name": "Python 3",
   "language": "python",
   "name": "python3"
  },
  "language_info": {
   "codemirror_mode": {
    "name": "ipython",
    "version": 3
   },
   "file_extension": ".py",
   "mimetype": "text/x-python",
   "name": "python",
   "nbconvert_exporter": "python",
   "pygments_lexer": "ipython3",
   "version": "3.7.6"
  },
  "pycharm": {
   "stem_cell": {
    "cell_type": "raw",
    "metadata": {
     "collapsed": false
    },
    "source": []
   }
  }
 },
 "nbformat": 4,
 "nbformat_minor": 1
}
