{
 "cells": [
  {
   "cell_type": "markdown",
   "metadata": {
    "pycharm": {
     "name": "#%% md\n"
    }
   },
   "source": [
    "# XML reports to Elasticsearch\n",
    "\n",
    "Functionality can be tested with the MEANTIME corpus [download](http://www.newsreader-project.eu/results/data/wikinews/)"
   ]
  },
  {
   "cell_type": "markdown",
   "metadata": {
    "pycharm": {
     "name": "#%% md\n"
    }
   },
   "source": [
    "Install dependencies and import the nlp_datau package"
   ]
  },
  {
   "cell_type": "code",
   "execution_count": null,
   "metadata": {
    "pycharm": {
     "is_executing": false,
     "name": "#%%\n"
    }
   },
   "outputs": [],
   "source": [
    "!pip install -r ./../requirements.txt\n",
    "import sys\n",
    "sys.path.append(\"./../\")"
   ]
  },
  {
   "cell_type": "markdown",
   "metadata": {
    "pycharm": {
     "name": "#%% md\n"
    }
   },
   "source": [
    "Configure the directory containing the xml files and xml document (id of the document in the xml file (using a dot notation)"
   ]
  },
  {
   "cell_type": "code",
   "execution_count": null,
   "metadata": {
    "pycharm": {
     "is_executing": false,
     "name": "#%%\n"
    }
   },
   "outputs": [],
   "source": [
    "directory_in_str = '/home/jovyan/work/E/Sander/verslagen/'\n",
    "directory_in_str = '/home/jovyan/work/resources/data_ignored/20200228/'\n",
    "\n",
    "field_id = \"ClinicalDocument.setId.@extension\""
   ]
  },
  {
   "cell_type": "markdown",
   "metadata": {
    "pycharm": {
     "name": "#%% md\n"
    }
   },
   "source": [
    "Defined a name for the Elasticsearch index (hint project name)"
   ]
  },
  {
   "cell_type": "code",
   "execution_count": null,
   "metadata": {
    "pycharm": {
     "is_executing": false,
     "name": "#%%\n"
    }
   },
   "outputs": [],
   "source": [
    "es_host = \"doccano-dataset-tools-es01\"\n",
    "es_index = \"free-text-reports\""
   ]
  },
  {
   "cell_type": "markdown",
   "metadata": {
    "pycharm": {
     "name": "#%% md\n"
    }
   },
   "source": [
    "Configure whitelist dictionary: the key is the Elasticsearch document target field, the value the source field in the XML file.\n",
    "\n",
    "The example below shows how to index field embedded field \"text\" to \"text\".\n",
    "By definining an optional start-and/or-stop-line, you can extract substrings from the source field"
   ]
  },
  {
   "cell_type": "code",
   "execution_count": null,
   "metadata": {
    "pycharm": {
     "is_executing": false,
     "name": "#%%\n"
    }
   },
   "outputs": [],
   "source": [
    "whitelist_dict = {\n",
    "                     \"text\": {\n",
    "                         \"field\": \"ClinicalDocument.component.structuredBody.component.section.text\",\n",
    "                         \"type\": \"xml\",\n",
    "                         \"xml-field\": \"getReportTextByAccessionnrResult.REPORT.REPORT_BODY.TEXT\",\n",
    "                         \"start-line\": \"Verslagstatus:\",\n",
    "                         \"stop-line\": \"Met collegiale groet,\"\n",
    "                     }\n",
    "                 }"
   ]
  },
  {
   "cell_type": "markdown",
   "metadata": {
    "pycharm": {
     "name": "#%% md\n"
    }
   },
   "source": [
    "An yaml configuration file can be used to store configuration (optional)"
   ]
  },
  {
   "cell_type": "code",
   "execution_count": null,
   "metadata": {
    "pycharm": {
     "is_executing": false
    }
   },
   "outputs": [],
   "source": [
    "use_config_file = False\n",
    "config_file = 'config/xml_to_excel_config.yaml'\n",
    "\n",
    "import yaml\n",
    "if use_config_file:\n",
    "    with open(config_file, 'r') as yaml_file:\n",
    "        cfg = yaml.safe_load(yaml_file)\n",
    "        print(cfg)\n",
    "        directory_in_str = cfg['directory_in_str']\n",
    "        extension = cfg['extension']\n",
    "        field_id = cfg['field_id']\n",
    "        whitelist_dict = cfg['whitelist_dict']\n",
    "\n"
   ]
  },
  {
   "cell_type": "markdown",
   "metadata": {
    "pycharm": {
     "name": "#%% md\n"
    }
   },
   "source": [
    "Index directory"
   ]
  },
  {
   "cell_type": "code",
   "execution_count": null,
   "metadata": {
    "pycharm": {
     "is_executing": false,
     "name": "#%%\n"
    }
   },
   "outputs": [],
   "source": [
    "from nlp_datau.xml_to_index import XmlToIndex\n",
    "XmlToIndex(es_host=es_host).iterate_xml_dir(\n",
    "    directory_in_str,\n",
    "            extension=\".xml\",\n",
    "            es_index=es_index,\n",
    "            field_id=field_id,\n",
    "            whitelist_dict=whitelist_dict)"
   ]
  },
  {
   "cell_type": "markdown",
   "metadata": {
    "pycharm": {
     "name": "#%% md\n"
    }
   },
   "source": [
    "Validate the number of documents at\n",
    "[http://localhost:9200/[ES_INDEX]/_count](http://localhost:9200/[ES_INDEX]/_count)\n",
    "\n",
    "e.g.\n",
    "[http://localhost:9200/free-text-reports/_count](http://localhost:9200/free-text-reports/_count)"
   ]
  }
 ],
 "metadata": {
  "kernelspec": {
   "display_name": "Python 3",
   "language": "python",
   "name": "python3"
  },
  "language_info": {
   "codemirror_mode": {
    "name": "ipython",
    "version": 3
   },
   "file_extension": ".py",
   "mimetype": "text/x-python",
   "name": "python",
   "nbconvert_exporter": "python",
   "pygments_lexer": "ipython3",
   "version": "3.7.6"
  },
  "pycharm": {
   "stem_cell": {
    "cell_type": "raw",
    "metadata": {
     "collapsed": false
    },
    "source": []
   }
  }
 },
 "nbformat": 4,
 "nbformat_minor": 1
}
