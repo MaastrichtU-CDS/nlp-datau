{
 "cells": [
  {
   "cell_type": "markdown",
   "metadata": {
    "collapsed": true,
    "pycharm": {
     "name": "#%% md\n"
    }
   },
   "source": [
    "# NLP Result Analysis\n",
    "Analyse a excel sheet of NLP classification results.\n",
    "Template is filled in "
   ]
  },
  {
   "cell_type": "markdown",
   "source": [
    "Import the current repository"
   ],
   "metadata": {
    "collapsed": false
   }
  },
  {
   "cell_type": "code",
   "execution_count": 1,
   "outputs": [],
   "source": [
    "import sys\n",
    "sys.path.append(\"../\")\n"
   ],
   "metadata": {
    "collapsed": false,
    "pycharm": {
     "name": "#%%\n",
     "is_executing": false
    }
   }
  },
  {
   "cell_type": "markdown",
   "source": [
    "Set path of excel sheet"
   ],
   "metadata": {
    "collapsed": false,
    "pycharm": {
     "name": "#%% md\n"
    }
   }
  },
  {
   "cell_type": "code",
   "execution_count": 2,
   "outputs": [],
   "source": [
    "path_excel_sheet = \"./../resources/context_results.xlsx\""
   ],
   "metadata": {
    "collapsed": false,
    "pycharm": {
     "name": "#%%\n",
     "is_executing": false
    }
   }
  },
  {
   "cell_type": "markdown",
   "source": [
    "Set label and classification columns"
   ],
   "metadata": {
    "collapsed": false,
    "pycharm": {
     "name": "#%% md\n"
    }
   }
  },
  {
   "cell_type": "code",
   "execution_count": 3,
   "outputs": [],
   "source": [
    "column_label = 'label longembolie'\n",
    "column_classification = 'target-snomedct:59282003'"
   ],
   "metadata": {
    "collapsed": false,
    "pycharm": {
     "name": "#%%\n",
     "is_executing": false
    }
   }
  },
  {
   "cell_type": "markdown",
   "source": [
    "Read columns and determine values, in case of key error, make sure the columns are set correctly"
   ],
   "metadata": {
    "collapsed": false,
    "pycharm": {
     "name": "#%% md\n"
    }
   }
  },
  {
   "cell_type": "code",
   "execution_count": 4,
   "outputs": [
    {
     "name": "stdout",
     "text": [
      "label category values: [True, False]\n",
      "classification category values: [True, False]\n"
     ],
     "output_type": "stream"
    }
   ],
   "source": [
    "import pandas\n",
    "df = pandas.read_excel(path_excel_sheet, header=0)\n",
    "\n",
    "label_index = df[column_label].value_counts().index.tolist() \n",
    "classification_index = df[column_classification].value_counts().index.tolist() \n",
    "\n",
    "print('label category values:', label_index)\n",
    "print('classification category values:', classification_index)"
   ],
   "metadata": {
    "collapsed": false,
    "pycharm": {
     "name": "#%%\n",
     "is_executing": false
    }
   }
  },
  {
   "cell_type": "markdown",
   "source": [
    "Set valid values (other values will be ignored)"
   ],
   "metadata": {
    "collapsed": false,
    "pycharm": {
     "name": "#%% md\n"
    }
   }
  },
  {
   "cell_type": "code",
   "execution_count": 5,
   "outputs": [
    {
     "name": "stdout",
     "text": [
      "label category values: [True, False]\n",
      "classification category values: [True, False]\n"
     ],
     "output_type": "stream"
    }
   ],
   "source": [
    "valid_values = [True, False]\n",
    "\n",
    "df_valid = df[df[column_label].isin(valid_values)]\n",
    "df_valid = df_valid[df_valid[column_classification].isin(valid_values)]\n",
    "\n",
    "label_index_valid = df_valid[column_label].value_counts().index.tolist() \n",
    "classification_index_valid = df_valid[column_classification].value_counts().index.tolist() \n",
    "\n",
    "print('label category values:', label_index_valid)\n",
    "print('classification category values:', classification_index_valid)"
   ],
   "metadata": {
    "collapsed": false,
    "pycharm": {
     "name": "#%%\n",
     "is_executing": false
    }
   }
  },
  {
   "cell_type": "markdown",
   "source": [
    "Compute accuracy"
   ],
   "metadata": {
    "collapsed": false,
    "pycharm": {
     "name": "#%% md\n",
     "is_executing": false
    }
   }
  },
  {
   "cell_type": "code",
   "execution_count": 6,
   "outputs": [
    {
     "name": "stdout",
     "text": [
      "Accuracy = 100.0%\n"
     ],
     "output_type": "stream"
    }
   ],
   "source": [
    "df = df_valid\n",
    "accuracy = df[df[column_classification] == df[column_label]].shape[0]/df.shape[0]\n",
    "print(\"Accuracy = \" + str(round(accuracy * 100, 2)) + \"%\")"
   ],
   "metadata": {
    "collapsed": false,
    "pycharm": {
     "name": "#%%\n",
     "is_executing": false
    }
   }
  },
  {
   "cell_type": "markdown",
   "source": [
    "F-scores"
   ],
   "metadata": {
    "collapsed": false,
    "pycharm": {
     "name": "#%% md\n"
    }
   }
  },
  {
   "cell_type": "code",
   "execution_count": 7,
   "outputs": [
    {
     "name": "stdout",
     "text": [
      "       Precision  Recall  F-score\n",
      "True         1.0     1.0      1.0\n",
      "False        1.0     1.0      1.0\n"
     ],
     "output_type": "stream"
    }
   ],
   "source": [
    "from sklearn.metrics import precision_recall_fscore_support, confusion_matrix\n",
    "from sklearn.utils.multiclass import unique_labels\n",
    "y_actu = pandas.Series(df[column_label], name='Actual')\n",
    "y_pred = pandas.Series(df[column_classification], name='Predicted')\n",
    "\n",
    "labels = unique_labels(y_actu, y_pred)\n",
    "prf = precision_recall_fscore_support(y_actu, y_pred, average=None, labels=valid_values)\n",
    "evaldf = pandas.DataFrame({\"Precision\": prf[0], \"Recall\": prf[1], \"F-score\": prf[2]}, index=valid_values)\n",
    "print(evaldf)"
   ],
   "metadata": {
    "collapsed": false,
    "pycharm": {
     "name": "#%%\n",
     "is_executing": false
    }
   }
  },
  {
   "cell_type": "markdown",
   "source": [
    "Create confusion matrix"
   ],
   "metadata": {
    "collapsed": false,
    "pycharm": {
     "name": "#%% md\n"
    }
   }
  },
  {
   "cell_type": "code",
   "execution_count": 8,
   "outputs": [
    {
     "name": "stdout",
     "text": [
      "CONFUSION MATRIX\n",
      "Predicted  False  True  All\n",
      "Actual                     \n",
      "False          1     0    1\n",
      "True           0     1    1\n",
      "All            1     1    2\n"
     ],
     "output_type": "stream"
    }
   ],
   "source": [
    "confusion_matrix = pandas.crosstab(y_actu, y_pred, rownames=['Actual'], colnames=['Predicted'], margins=True)\n",
    "print(\"CONFUSION MATRIX\")\n",
    "print(confusion_matrix)"
   ],
   "metadata": {
    "collapsed": false,
    "pycharm": {
     "name": "#%%\n",
     "is_executing": false
    }
   }
  },
  {
   "cell_type": "markdown",
   "source": [
    "Plot confusion matrix"
   ],
   "metadata": {
    "collapsed": false,
    "pycharm": {
     "name": "#%% md\n"
    }
   }
  },
  {
   "cell_type": "code",
   "execution_count": 9,
   "outputs": [
    {
     "data": {
      "text/plain": "<Figure size 432x288 with 2 Axes>",
      "image/png": "[encoded data removed]"
     },
     "metadata": {
      "needs_background": "light"
     },
     "output_type": "display_data"
    }
   ],
   "source": [
    "import seaborn\n",
    "import matplotlib\n",
    "data = {'y_Actual':    df_valid[column_label],\n",
    "        'y_Predicted': df_valid[column_classification]\n",
    "        }\n",
    "\n",
    "df = pandas.DataFrame(data, columns=['y_Actual','y_Predicted'])\n",
    "confusion_matrix = pandas.crosstab(df['y_Actual'], df['y_Predicted'], rownames=['Actual'], colnames=['Predicted'])\n",
    "\n",
    "confusion_matrix_heatmap = seaborn.heatmap(confusion_matrix, annot=True, cmap=matplotlib.cm.Blues)"
   ],
   "metadata": {
    "collapsed": false,
    "pycharm": {
     "name": "#%%\n",
     "is_executing": false
    }
   }
  },
  {
   "cell_type": "markdown",
   "source": [
    "Save confusion matix figure to file"
   ],
   "metadata": {
    "collapsed": false,
    "pycharm": {
     "name": "#%% md\n"
    }
   }
  },
  {
   "cell_type": "code",
   "execution_count": 10,
   "outputs": [],
   "source": [
    "file_type_eps = False\n",
    "output_path = './../resources/confusion_matrix'\n",
    "\n",
    "if file_type_eps:\n",
    "    confusion_matrix_heatmap.figure.savefig(output_path + \".eps\", dict=\"eps\")\n",
    "else:\n",
    "   confusion_matrix_heatmap.figure.savefig(output_path + \".png\")"
   ],
   "metadata": {
    "collapsed": false,
    "pycharm": {
     "name": "#%%\n",
     "is_executing": false
    }
   }
  }
 ],
 "metadata": {
  "kernelspec": {
   "display_name": "Python 3",
   "language": "python",
   "name": "python3"
  },
  "language_info": {
   "codemirror_mode": {
    "name": "ipython",
    "version": 2
   },
   "file_extension": ".py",
   "mimetype": "text/x-python",
   "name": "python",
   "nbconvert_exporter": "python",
   "pygments_lexer": "ipython2",
   "version": "2.7.6"
  },
  "pycharm": {
   "stem_cell": {
    "cell_type": "raw",
    "source": [],
    "metadata": {
     "collapsed": false
    }
   }
  }
 },
 "nbformat": 4,
 "nbformat_minor": 0
}