{
 "cells": [
  {
   "cell_type": "markdown",
   "metadata": {},
   "source": [
    "# Write elasticsearch index to single text file"
   ]
  },
  {
   "cell_type": "markdown",
   "metadata": {},
   "source": [
    "Set variables"
   ]
  },
  {
   "cell_type": "code",
   "execution_count": null,
   "metadata": {},
   "outputs": [],
   "source": [
    "es_host = \"doccano-dataset-tools-es01\"\n",
    "es_index = \"free-text-reports\"\n",
    "field = \"text\"\n",
    "output_txt_file = '/home/jovyan/work/resources/data_ignored/data.txt'\n",
    "output_model_file = \"fasttext_rad.bin\"\n",
    "output_vec_file = \"fasttext_rad.vec\""
   ]
  },
  {
   "cell_type": "markdown",
   "metadata": {},
   "source": [
    "Install dependencies"
   ]
  },
  {
   "cell_type": "code",
   "execution_count": null,
   "metadata": {},
   "outputs": [],
   "source": [
    "import sys\n",
    "import re\n",
    "sys.path.append(\"./../\")"
   ]
  },
  {
   "cell_type": "code",
   "execution_count": null,
   "metadata": {
    "scrolled": true
   },
   "outputs": [],
   "source": [
    "pip install fasttext"
   ]
  },
  {
   "cell_type": "markdown",
   "metadata": {},
   "source": [
    "Write .txt file of all documents in configured elasticsearch index"
   ]
  },
  {
   "cell_type": "code",
   "execution_count": null,
   "metadata": {},
   "outputs": [],
   "source": [
    "from nlp_datau.index_to_txt import IndexToTxt\n",
    "to_txt = IndexToTxt(es_host=es_host, es_index=es_index)\n",
    "to_txt.write_index(output_txt_file, field)"
   ]
  },
  {
   "cell_type": "markdown",
   "metadata": {},
   "source": [
    "Methods to clean text using SpaCy for sentence splitting (not sure if sentence splitting is required)"
   ]
  },
  {
   "cell_type": "code",
   "execution_count": null,
   "metadata": {
    "scrolled": true
   },
   "outputs": [],
   "source": [
    "import spacy\n",
    "\n",
    "nlp = spacy.load(\"nl_core_news_sm\")\n",
    "from string import punctuation\n",
    "\n",
    "def replace_punct(string):\n",
    "    if string is None: \n",
    "        return ''\n",
    "    for ch in ['&','#', '?', '!', ':', ';', ', ', '- ', '(' , ')', '[', ']']:\n",
    "         if ch in string:\n",
    "            string = string.replace(ch, ' ')\n",
    "    return string\n",
    "\n",
    "    \n",
    "def clean(line):\n",
    "    lines = []\n",
    "    line = replace_punct(line)\n",
    "    doc = nlp(line)\n",
    "    for sent in doc.sents:\n",
    "        line_sentence = sent.text\n",
    "        line_sentence = line_sentence.lower()\n",
    "        line_sentence = line_sentence.strip()\n",
    "        line_sentence = line_sentence.rstrip('.')\n",
    "        line_sentence = line_sentence.rstrip(',')\n",
    "\n",
    "        if line_sentence is not None and len(line_sentence) > 0 and len(line_sentence.split()) > 2:\n",
    "            lines.append(line_sentence)\n",
    "    return lines"
   ]
  },
  {
   "cell_type": "markdown",
   "metadata": {},
   "source": [
    "Clean text and write to file"
   ]
  },
  {
   "cell_type": "code",
   "execution_count": null,
   "metadata": {},
   "outputs": [],
   "source": [
    "with open(output_txt_file + 'clean.txt', 'w') as out_file:\n",
    "    with open(output_txt_file) as fp:\n",
    "        for cnt, line in enumerate(fp):                \n",
    "            cleaned_lines = clean(line)\n",
    "            if cnt % 1000 == 0:\n",
    "                print('cleaned_lines={}'.format(cnt))\n",
    "            for cleaned_line in cleaned_lines:\n",
    "                out_file.write(cleaned_line + '\\n')\n",
    "                \n",
    "print('done') "
   ]
  }
 ],
 "metadata": {
  "kernelspec": {
   "display_name": "Python 3",
   "language": "python",
   "name": "python3"
  },
  "language_info": {
   "codemirror_mode": {
    "name": "ipython",
    "version": 3
   },
   "file_extension": ".py",
   "mimetype": "text/x-python",
   "name": "python",
   "nbconvert_exporter": "python",
   "pygments_lexer": "ipython3",
   "version": "3.7.6"
  }
 },
 "nbformat": 4,
 "nbformat_minor": 4
}
