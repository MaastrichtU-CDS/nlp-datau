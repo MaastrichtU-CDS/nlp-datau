{
 "cells": [
  {
   "cell_type": "markdown",
   "metadata": {},
   "source": [
    "# FastText Preprocessing #\n",
    "From:\n",
    "https://fasttext.cc/docs/en/supervised-tutorial.html#preprocessing-the-data"
   ]
  },
  {
   "cell_type": "code",
   "execution_count": null,
   "metadata": {},
   "outputs": [],
   "source": [
    "import spacy\n",
    "spacy.info"
   ]
  },
  {
   "cell_type": "markdown",
   "metadata": {},
   "source": [
    "Split text to sentences"
   ]
  },
  {
   "cell_type": "code",
   "execution_count": null,
   "metadata": {},
   "outputs": [],
   "source": [
    "from __future__ import unicode_literals, print_function\n",
    "from spacy.lang.nl import Dutch # updated\n",
    "# from spacy.lang.en import English # updated\n",
    "\n",
    "raw_text = 'Hello, world. Here are two sentences. And a [third] one, maybe a fourth?'\n",
    "nlp = Dutch()\n",
    "# nlp = English()\n",
    "nlp.add_pipe(nlp.create_pipe('sentencizer')) # updated\n",
    "doc = nlp(raw_text)\n",
    "sentences = [sent.string.strip() for sent in doc.sents]\n",
    "print(sentences)"
   ]
  },
  {
   "cell_type": "markdown",
   "metadata": {},
   "source": [
    "Replace and lowercase\n",
    "sed -e \"s/\\([.\\!?,'/()]\\)/ \\1 /g\" | tr \"[:upper:]\" \"[:lower:]\" \n",
    "/s substitude\n",
    "/ regex\n",
    "/ whitespace (followed by)\n",
    "\\1 backreference\n",
    "/g global"
   ]
  },
  {
   "cell_type": "code",
   "execution_count": null,
   "metadata": {},
   "outputs": [],
   "source": [
    "import re\n",
    "pattern_compiled = re.compile(\"([.!?,'/()])\")\n",
    "\n",
    "for line in sentences:\n",
    "    line = pattern_compiled.sub(\"\", line)\n",
    "    line = line.lower()\n",
    "    print(line)"
   ]
  },
  {
   "cell_type": "code",
   "execution_count": null,
   "metadata": {},
   "outputs": [],
   "source": [
    "directory_in_str = '/home/jovyan/work/resources/data_ignored/n-clean/'"
   ]
  },
  {
   "cell_type": "code",
   "execution_count": null,
   "metadata": {},
   "outputs": [],
   "source": [
    "def get_cleaned_lines(f):\n",
    "    doc = nlp(f)\n",
    "    sentences = [sent.string.strip() for sent in doc.sents]\n",
    "    lines = [pattern_compiled.sub(\"\", line).lower() for line in sentences]\n",
    "    return lines"
   ]
  },
  {
   "cell_type": "code",
   "execution_count": null,
   "metadata": {},
   "outputs": [],
   "source": [
    "import os\n",
    "import string\n",
    "\n",
    "fw = open('/home/jovyan/work/resources/data_ignored/n-clean/preprocessed.txt',\"r+\")\n",
    "count = 0\n",
    "for file in os.listdir(os.fsencode(directory_in_str)):\n",
    "    if count > 10000: break\n",
    "    count = count + 1\n",
    "    filename = os.fsdecode(file)\n",
    "    if filename.endswith(\".txt\"): \n",
    "        file_path = os.path.join(directory_in_str, filename)\n",
    "        with open(file_path, encoding='UTF-8') as fr:\n",
    "            contents = fr.read()\n",
    "            contents = contents.encode(\"ascii\", \"ignore\").decode()\n",
    "            if(len(contents) >= 1000000):\n",
    "                print('file too long', file_path)\n",
    "                continue\n",
    "            else:\n",
    "                cleaned_lines = get_cleaned_lines(contents)\n",
    "                for line in cleaned_lines:\n",
    "                    if line:\n",
    "                        line = ' '.join(line.split())\n",
    "                        if(len(line)>20):\n",
    "                            fw.write(line+'\\n')\n",
    "    else:\n",
    "        continue\n",
    "fw.close() "
   ]
  },
  {
   "cell_type": "code",
   "execution_count": null,
   "metadata": {},
   "outputs": [],
   "source": []
  },
  {
   "cell_type": "code",
   "execution_count": null,
   "metadata": {},
   "outputs": [],
   "source": []
  }
 ],
 "metadata": {
  "kernelspec": {
   "display_name": "Python 3",
   "language": "python",
   "name": "python3"
  },
  "language_info": {
   "codemirror_mode": {
    "name": "ipython",
    "version": 3
   },
   "file_extension": ".py",
   "mimetype": "text/x-python",
   "name": "python",
   "nbconvert_exporter": "python",
   "pygments_lexer": "ipython3",
   "version": "3.7.6"
  }
 },
 "nbformat": 4,
 "nbformat_minor": 4
}
