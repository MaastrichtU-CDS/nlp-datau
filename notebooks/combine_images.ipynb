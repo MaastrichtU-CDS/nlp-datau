{
 "cells": [
  {
   "cell_type": "code",
   "execution_count": 1,
   "metadata": {},
   "outputs": [],
   "source": [
    "import numpy as np\n",
    "import PIL\n",
    "from PIL import Image\n",
    "\n",
    "\n",
    "def add_margin(pil_img, top, right, bottom, left, color):\n",
    "    width, height = pil_img.size\n",
    "    new_width = width + right + left\n",
    "    new_height = height + top + bottom\n",
    "    result = Image.new(pil_img.mode, (new_width, new_height), color)\n",
    "    result.paste(pil_img, (left, top))\n",
    "    return result\n",
    "\n",
    "# list_im = ['./../resources/results/results-tn-t-train-results/confusion_matrix_training_t-staging.png', './../resources/results/results-tn-t-val-results/confusion_matrix_validation_t-staging.png']\n",
    "# list_im = ['./../resources/results/results-tn-n-train-results/confusion_matrix_training_n-staging.png', './../resources/results/results-tn-n-val-results/confusion_matrix_validation_n-staging.png']\n",
    "list_im = ['./../resources/results/results-tn-train-results/confusion_matrix_training_tn-staging.png', './../resources/results/results-tn-val-results/confusion_matrix_validation_tn-staging.png']\n",
    "\n",
    "imgs    = [ Image.open(i) for i in list_im ]\n",
    "\n",
    "imgs[0] = add_margin(imgs[0], 0, 400, 0, 0, \"white\")\n",
    "    \n",
    "# pick the image which is the smallest, and resize the others to match it (can be arbitrary image shape here)\n",
    "min_shape = sorted( [(np.sum(i.size), i.size ) for i in imgs])[0][1]\n",
    "resized = [i.resize(min_shape) for i in imgs]\n",
    "\n",
    "imgs_comb = np.hstack(imgs)\n",
    "\n",
    "\n",
    "\n",
    "# save that beautiful picture\n",
    "imgs_comb = Image.fromarray( imgs_comb)\n",
    "# imgs_comb.save( './../resources/results/results-tn-n.png' )\n",
    "# imgs_comb.save( './../resources/results/results-tn-t.png' )    \n",
    "imgs_comb.save( './../resources/results/results-tn.png' )    \n",
    "\n",
    "\n",
    "# for a vertical stacking it is simple: use vstack\n",
    "# imgs_comb = np.vstack([i.resize(min_shape) for i in imgs])\n",
    "# imgs_comb = Image.fromarray( imgs_comb)\n",
    "# imgs_comb.save( 'confusion_matrix_validation_tn-n-staging.png' )"
   ]
  }
 ],
 "metadata": {
  "kernelspec": {
   "display_name": "Python 3",
   "language": "python",
   "name": "python3"
  },
  "language_info": {
   "codemirror_mode": {
    "name": "ipython",
    "version": 3
   },
   "file_extension": ".py",
   "mimetype": "text/x-python",
   "name": "python",
   "nbconvert_exporter": "python",
   "pygments_lexer": "ipython3",
   "version": "3.7.6"
  }
 },
 "nbformat": 4,
 "nbformat_minor": 4
}
