{
 "cells": [
  {
   "cell_type": "markdown",
   "metadata": {
    "collapsed": true,
    "pycharm": {
     "name": "#%% md\n"
    }
   },
   "source": [
    "# ElasticSearch documents to excel #"
   ]
  },
  {
   "cell_type": "markdown",
   "metadata": {},
   "source": [
    "Export ElasticSearch documents to an excel document based on an id column"
   ]
  },
  {
   "cell_type": "markdown",
   "metadata": {},
   "source": [
    "Install dependencies and import the nlp_datau package"
   ]
  },
  {
   "cell_type": "code",
   "execution_count": 1,
   "metadata": {
    "pycharm": {
     "name": "#%%\n"
    }
   },
   "outputs": [
    {
     "name": "stdout",
     "output_type": "stream",
     "text": [
      "Requirement already satisfied: pandas in c:\\users\\sander.puts\\ideaprojects\\work\\venv\\lib\\site-packages (from -r ./../requirements.txt (line 1)) (1.0.2)\n",
      "Requirement already satisfied: openpyxl in c:\\users\\sander.puts\\ideaprojects\\work\\venv\\lib\\site-packages (from -r ./../requirements.txt (line 2)) (3.0.3)\n",
      "Requirement already satisfied: python-docx==0.8.10 in c:\\users\\sander.puts\\ideaprojects\\work\\venv\\lib\\site-packages (from -r ./../requirements.txt (line 3)) (0.8.10)\n",
      "Requirement already satisfied: elasticsearch<8.0.0,>=7.0.0 in c:\\users\\sander.puts\\ideaprojects\\work\\venv\\lib\\site-packages (from -r ./../requirements.txt (line 4)) (7.6.0)\n",
      "Requirement already satisfied: xmltodict in c:\\users\\sander.puts\\ideaprojects\\work\\venv\\lib\\site-packages (from -r ./../requirements.txt (line 5)) (0.12.0)\n",
      "Requirement already satisfied: spacy<2.3.0,>=2.2.0 in c:\\users\\sander.puts\\ideaprojects\\work\\venv\\lib\\site-packages (from -r ./../requirements.txt (line 6)) (2.2.4)\n",
      "Requirement already satisfied: pytz>=2017.2 in c:\\users\\sander.puts\\ideaprojects\\work\\venv\\lib\\site-packages (from pandas->-r ./../requirements.txt (line 1)) (2019.3)\n",
      "Requirement already satisfied: numpy>=1.13.3 in c:\\users\\sander.puts\\ideaprojects\\work\\venv\\lib\\site-packages (from pandas->-r ./../requirements.txt (line 1)) (1.18.2)\n",
      "Requirement already satisfied: python-dateutil>=2.6.1 in c:\\users\\sander.puts\\ideaprojects\\work\\venv\\lib\\site-packages (from pandas->-r ./../requirements.txt (line 1)) (2.8.1)\n",
      "Requirement already satisfied: jdcal in c:\\users\\sander.puts\\ideaprojects\\work\\venv\\lib\\site-packages (from openpyxl->-r ./../requirements.txt (line 2)) (1.4.1)\n",
      "Requirement already satisfied: et_xmlfile in c:\\users\\sander.puts\\ideaprojects\\work\\venv\\lib\\site-packages (from openpyxl->-r ./../requirements.txt (line 2)) (1.0.1)\n",
      "Requirement already satisfied: lxml>=2.3.2 in c:\\users\\sander.puts\\ideaprojects\\work\\venv\\lib\\site-packages (from python-docx==0.8.10->-r ./../requirements.txt (line 3)) (4.5.0)\n",
      "Requirement already satisfied: urllib3>=1.21.1 in c:\\users\\sander.puts\\ideaprojects\\work\\venv\\lib\\site-packages (from elasticsearch<8.0.0,>=7.0.0->-r ./../requirements.txt (line 4)) (1.25.8)\n",
      "Requirement already satisfied: tqdm<5.0.0,>=4.38.0 in c:\\users\\sander.puts\\ideaprojects\\work\\venv\\lib\\site-packages (from spacy<2.3.0,>=2.2.0->-r ./../requirements.txt (line 6)) (4.43.0)\n",
      "Requirement already satisfied: plac<1.2.0,>=0.9.6 in c:\\users\\sander.puts\\ideaprojects\\work\\venv\\lib\\site-packages (from spacy<2.3.0,>=2.2.0->-r ./../requirements.txt (line 6)) (1.1.3)\n",
      "Requirement already satisfied: thinc==7.4.0 in c:\\users\\sander.puts\\ideaprojects\\work\\venv\\lib\\site-packages (from spacy<2.3.0,>=2.2.0->-r ./../requirements.txt (line 6)) (7.4.0)\n",
      "Requirement already satisfied: setuptools in c:\\users\\sander.puts\\ideaprojects\\work\\venv\\lib\\site-packages\\setuptools-40.8.0-py3.7.egg (from spacy<2.3.0,>=2.2.0->-r ./../requirements.txt (line 6)) (40.8.0)\n",
      "Requirement already satisfied: catalogue<1.1.0,>=0.0.7 in c:\\users\\sander.puts\\ideaprojects\\work\\venv\\lib\\site-packages (from spacy<2.3.0,>=2.2.0->-r ./../requirements.txt (line 6)) (1.0.0)\n",
      "Requirement already satisfied: preshed<3.1.0,>=3.0.2 in c:\\users\\sander.puts\\ideaprojects\\work\\venv\\lib\\site-packages (from spacy<2.3.0,>=2.2.0->-r ./../requirements.txt (line 6)) (3.0.2)\n",
      "Requirement already satisfied: srsly<1.1.0,>=1.0.2 in c:\\users\\sander.puts\\ideaprojects\\work\\venv\\lib\\site-packages (from spacy<2.3.0,>=2.2.0->-r ./../requirements.txt (line 6)) (1.0.2)\n",
      "Requirement already satisfied: wasabi<1.1.0,>=0.4.0 in c:\\users\\sander.puts\\ideaprojects\\work\\venv\\lib\\site-packages (from spacy<2.3.0,>=2.2.0->-r ./../requirements.txt (line 6)) (0.6.0)\n",
      "Requirement already satisfied: murmurhash<1.1.0,>=0.28.0 in c:\\users\\sander.puts\\ideaprojects\\work\\venv\\lib\\site-packages (from spacy<2.3.0,>=2.2.0->-r ./../requirements.txt (line 6)) (1.0.2)\n",
      "Requirement already satisfied: requests<3.0.0,>=2.13.0 in c:\\users\\sander.puts\\ideaprojects\\work\\venv\\lib\\site-packages (from spacy<2.3.0,>=2.2.0->-r ./../requirements.txt (line 6)) (2.23.0)\n",
      "Requirement already satisfied: blis<0.5.0,>=0.4.0 in c:\\users\\sander.puts\\ideaprojects\\work\\venv\\lib\\site-packages (from spacy<2.3.0,>=2.2.0->-r ./../requirements.txt (line 6)) (0.4.1)\n",
      "Requirement already satisfied: cymem<2.1.0,>=2.0.2 in c:\\users\\sander.puts\\ideaprojects\\work\\venv\\lib\\site-packages (from spacy<2.3.0,>=2.2.0->-r ./../requirements.txt (line 6)) (2.0.3)\n",
      "Requirement already satisfied: six>=1.5 in c:\\users\\sander.puts\\ideaprojects\\work\\venv\\lib\\site-packages (from python-dateutil>=2.6.1->pandas->-r ./../requirements.txt (line 1)) (1.14.0)\n",
      "Requirement already satisfied: importlib-metadata>=0.20; python_version < \"3.8\" in c:\\users\\sander.puts\\ideaprojects\\work\\venv\\lib\\site-packages (from catalogue<1.1.0,>=0.0.7->spacy<2.3.0,>=2.2.0->-r ./../requirements.txt (line 6)) (1.5.0)\n",
      "Requirement already satisfied: idna<3,>=2.5 in c:\\users\\sander.puts\\ideaprojects\\work\\venv\\lib\\site-packages (from requests<3.0.0,>=2.13.0->spacy<2.3.0,>=2.2.0->-r ./../requirements.txt (line 6)) (2.9)\n",
      "Requirement already satisfied: certifi>=2017.4.17 in c:\\users\\sander.puts\\ideaprojects\\work\\venv\\lib\\site-packages (from requests<3.0.0,>=2.13.0->spacy<2.3.0,>=2.2.0->-r ./../requirements.txt (line 6)) (2019.11.28)\n",
      "Requirement already satisfied: chardet<4,>=3.0.2 in c:\\users\\sander.puts\\ideaprojects\\work\\venv\\lib\\site-packages (from requests<3.0.0,>=2.13.0->spacy<2.3.0,>=2.2.0->-r ./../requirements.txt (line 6)) (3.0.4)\n",
      "Requirement already satisfied: zipp>=0.5 in c:\\users\\sander.puts\\ideaprojects\\work\\venv\\lib\\site-packages (from importlib-metadata>=0.20; python_version < \"3.8\"->catalogue<1.1.0,>=0.0.7->spacy<2.3.0,>=2.2.0->-r ./../requirements.txt (line 6)) (3.1.0)\n"
     ]
    }
   ],
   "source": [
    "!pip install -r ./../requirements.txt\n",
    "import sys\n",
    "sys.path.append(\"./../\")\n"
   ]
  },
  {
   "cell_type": "markdown",
   "metadata": {},
   "source": [
    "Set and validate Excel configuration"
   ]
  },
  {
   "cell_type": "code",
   "execution_count": 2,
   "metadata": {
    "pycharm": {
     "name": "#%%\n"
    }
   },
   "outputs": [
    {
     "data": {
      "text/html": [
       "<div>\n",
       "<style scoped>\n",
       "    .dataframe tbody tr th:only-of-type {\n",
       "        vertical-align: middle;\n",
       "    }\n",
       "\n",
       "    .dataframe tbody tr th {\n",
       "        vertical-align: top;\n",
       "    }\n",
       "\n",
       "    .dataframe thead th {\n",
       "        text-align: right;\n",
       "    }\n",
       "</style>\n",
       "<table border=\"1\" class=\"dataframe\">\n",
       "  <thead>\n",
       "    <tr style=\"text-align: right;\">\n",
       "      <th></th>\n",
       "      <th>a</th>\n",
       "      <th>b</th>\n",
       "      <th>Accessionnr</th>\n",
       "    </tr>\n",
       "  </thead>\n",
       "  <tbody>\n",
       "    <tr>\n",
       "      <th>0</th>\n",
       "      <td>a</td>\n",
       "      <td>a</td>\n",
       "      <td>100012345</td>\n",
       "    </tr>\n",
       "  </tbody>\n",
       "</table>\n",
       "</div>"
      ],
      "text/plain": [
       "   a  b  Accessionnr\n",
       "0  a  a    100012345"
      ]
     },
     "metadata": {},
     "output_type": "display_data"
    }
   ],
   "source": [
    "id_column = \"Accessionnr\"\n",
    "path_excel_sheet_in = \"./../resources/data_example/es_to_xlsx.xlsx\"\n",
    "\n",
    "import pandas\n",
    "df_input = pandas.read_excel(path_excel_sheet_in, header=0)\n",
    "from IPython.core.display import display\n",
    "df = pandas.read_excel(path_excel_sheet_in, header=0)\n",
    "display(df)"
   ]
  },
  {
   "cell_type": "markdown",
   "metadata": {
    "pycharm": {
     "name": "#%% md\n"
    }
   },
   "source": [
    "Set ElasticSearch configuration. es_index is set at indexing documents (e.g. xml_to_es.ipynb)."
   ]
  },
  {
   "cell_type": "code",
   "execution_count": 3,
   "metadata": {
    "pycharm": {
     "name": "#%%\n"
    }
   },
   "outputs": [],
   "source": [
    "es_index = \"free-text-reports\"\n",
    "field_map = {\"text\": \"text\"}"
   ]
  },
  {
   "cell_type": "markdown",
   "metadata": {
    "pycharm": {
     "name": "#%% md\n"
    }
   },
   "source": [
    "Run"
   ]
  },
  {
   "cell_type": "code",
   "execution_count": 4,
   "metadata": {
    "pycharm": {
     "name": "#%%\n"
    }
   },
   "outputs": [],
   "source": [
    "from nlp_datau.index_to_xlsx import IndexToXlsx\n",
    "to_xlsx = IndexToXlsx(es_index)\n",
    "result_df = to_xlsx.merge(df, id_column, field_map=field_map)"
   ]
  },
  {
   "cell_type": "markdown",
   "metadata": {
    "pycharm": {
     "name": "#%% md\n"
    }
   },
   "source": [
    "Write to excel"
   ]
  },
  {
   "cell_type": "code",
   "execution_count": 5,
   "metadata": {
    "pycharm": {
     "name": "#%%\n"
    }
   },
   "outputs": [],
   "source": [
    "path_excel_sheet_out = \"../resources/data_ignored/es_to_xlsx_out.xlsx\"\n",
    "result_df.to_excel(path_excel_sheet_out)"
   ]
  }
 ],
 "metadata": {
  "kernelspec": {
   "display_name": "Python 3",
   "language": "python",
   "name": "python3"
  },
  "language_info": {
   "codemirror_mode": {
    "name": "ipython",
    "version": 3
   },
   "file_extension": ".py",
   "mimetype": "text/x-python",
   "name": "python",
   "nbconvert_exporter": "python",
   "pygments_lexer": "ipython3",
   "version": "3.7.7"
  },
  "pycharm": {
   "stem_cell": {
    "cell_type": "raw",
    "metadata": {
     "collapsed": false
    },
    "source": []
   }
  }
 },
 "nbformat": 4,
 "nbformat_minor": 1
}
